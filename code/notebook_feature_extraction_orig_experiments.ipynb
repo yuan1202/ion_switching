{
 "cells": [
  {
   "cell_type": "code",
   "execution_count": 1,
   "metadata": {},
   "outputs": [],
   "source": [
    "import numpy as np \n",
    "import pandas as pd\n",
    "import math\n",
    "import matplotlib.pyplot as plt\n",
    "import seaborn as sns\n",
    "import warnings\n",
    "import gc\n",
    "warnings.filterwarnings('ignore')\n",
    "import lightgbm as lgb\n",
    "from sklearn.model_selection import GroupKFold, StratifiedKFold, train_test_split\n",
    "from sklearn import metrics\n",
    "from tqdm import tqdm\n",
    "from scipy import signal\n",
    "from tsfresh.feature_extraction import feature_calculators\n",
    "from pykalman import KalmanFilter\n",
    "from scipy.stats import percentileofscore\n",
    "pd.set_option('display.max_columns', 10000)\n",
    "pd.set_option('display.max_rows', 10000)"
   ]
  },
  {
   "cell_type": "code",
   "execution_count": 2,
   "metadata": {},
   "outputs": [],
   "source": [
    "trn = pd.read_pickle('../input/feats_tblr/trn_dat_orig_v2_all.pkl')"
   ]
  },
  {
   "cell_type": "code",
   "execution_count": 3,
   "metadata": {},
   "outputs": [
    {
     "data": {
      "text/plain": [
       "['grad_1',\n",
       " 'grad_2',\n",
       " 'grad_3',\n",
       " 'grad_4',\n",
       " 'lowpass_lf_0.0100',\n",
       " 'lowpass_ff_0.0100',\n",
       " 'lowpass_lf_0.0154',\n",
       " 'lowpass_ff_0.0154',\n",
       " 'lowpass_lf_0.0239',\n",
       " 'lowpass_ff_0.0239',\n",
       " 'lowpass_lf_0.0369',\n",
       " 'lowpass_ff_0.0369',\n",
       " 'lowpass_lf_0.0570',\n",
       " 'lowpass_ff_0.0570',\n",
       " 'lowpass_lf_0.0880',\n",
       " 'lowpass_ff_0.0880',\n",
       " 'lowpass_lf_0.1359',\n",
       " 'lowpass_ff_0.1359',\n",
       " 'lowpass_lf_0.2100',\n",
       " 'lowpass_ff_0.2100',\n",
       " 'lowpass_lf_0.3244',\n",
       " 'lowpass_ff_0.3244',\n",
       " 'lowpass_lf_0.5012',\n",
       " 'lowpass_ff_0.5012',\n",
       " 'highpass_lf_0.0100',\n",
       " 'highpass_ff_0.0100',\n",
       " 'highpass_lf_0.0163',\n",
       " 'highpass_ff_0.0163',\n",
       " 'highpass_lf_0.0264',\n",
       " 'highpass_ff_0.0264',\n",
       " 'highpass_lf_0.0430',\n",
       " 'highpass_ff_0.0430',\n",
       " 'highpass_lf_0.0699',\n",
       " 'highpass_ff_0.0699',\n",
       " 'highpass_lf_0.1136',\n",
       " 'highpass_ff_0.1136',\n",
       " 'highpass_lf_0.1848',\n",
       " 'highpass_ff_0.1848',\n",
       " 'highpass_lf_0.3005',\n",
       " 'highpass_ff_0.3005',\n",
       " 'highpass_lf_0.4885',\n",
       " 'highpass_ff_0.4885',\n",
       " 'highpass_lf_0.7943',\n",
       " 'highpass_ff_0.7943',\n",
       " 'ewm_mean_10',\n",
       " 'ewm_std_10',\n",
       " 'ewm_mean_50',\n",
       " 'ewm_std_50',\n",
       " 'ewm_mean_100',\n",
       " 'ewm_std_100',\n",
       " 'ewm_mean_150',\n",
       " 'ewm_std_150',\n",
       " 'ewm_mean_200',\n",
       " 'ewm_std_200',\n",
       " 'ewm_mean_500',\n",
       " 'ewm_std_500',\n",
       " 'ewm_mean_1000',\n",
       " 'ewm_std_1000',\n",
       " 'time',\n",
       " 'signal',\n",
       " 'open_channels',\n",
       " 'batch',\n",
       " 'lag_t1',\n",
       " 'lag_t2',\n",
       " 'lag_t3',\n",
       " 'lag_t4',\n",
       " 'lag_t5',\n",
       " 'lead_t1',\n",
       " 'lead_t2',\n",
       " 'lead_t3',\n",
       " 'lead_t4',\n",
       " 'lead_t5',\n",
       " 'signalmean_t50',\n",
       " 'signalstd_t50',\n",
       " 'signalvar_t50',\n",
       " 'signalmin_t50',\n",
       " 'signalmax_t50',\n",
       " 'signalskew_t50',\n",
       " 'signalcov_t50',\n",
       " 'signalcorr_t50',\n",
       " 'signalkurt_t50',\n",
       " 'norm_t50',\n",
       " 'signalmean_t50_lead',\n",
       " 'signalstd_t50_lead',\n",
       " 'signalvar_t50_lead',\n",
       " 'signalmin_t50_lead',\n",
       " 'signalmax_t50_lead',\n",
       " 'signalskew_t50_lead',\n",
       " 'signalcov_t50_lead',\n",
       " 'signalcorr_t50_lead',\n",
       " 'signalkurt_t50_lead',\n",
       " 'norm_t50_lead',\n",
       " 'signalmean_t100',\n",
       " 'signalstd_t100',\n",
       " 'signalvar_t100',\n",
       " 'signalmin_t100',\n",
       " 'signalmax_t100',\n",
       " 'signalskew_t100',\n",
       " 'signalcov_t100',\n",
       " 'signalcorr_t100',\n",
       " 'signalkurt_t100',\n",
       " 'norm_t100',\n",
       " 'signalmean_t100_lead',\n",
       " 'signalstd_t100_lead',\n",
       " 'signalvar_t100_lead',\n",
       " 'signalmin_t100_lead',\n",
       " 'signalmax_t100_lead',\n",
       " 'signalskew_t100_lead',\n",
       " 'signalcov_t100_lead',\n",
       " 'signalcorr_t100_lead',\n",
       " 'signalkurt_t100_lead',\n",
       " 'norm_t100_lead',\n",
       " 'signalmean_t150',\n",
       " 'signalstd_t150',\n",
       " 'signalvar_t150',\n",
       " 'signalmin_t150',\n",
       " 'signalmax_t150',\n",
       " 'signalskew_t150',\n",
       " 'signalcov_t150',\n",
       " 'signalcorr_t150',\n",
       " 'signalkurt_t150',\n",
       " 'norm_t150',\n",
       " 'signalmean_t150_lead',\n",
       " 'signalstd_t150_lead',\n",
       " 'signalvar_t150_lead',\n",
       " 'signalmin_t150_lead',\n",
       " 'signalmax_t150_lead',\n",
       " 'signalskew_t150_lead',\n",
       " 'signalcov_t150_lead',\n",
       " 'signalcorr_t150_lead',\n",
       " 'signalkurt_t150_lead',\n",
       " 'norm_t150_lead',\n",
       " 'signalmean_t200',\n",
       " 'signalstd_t200',\n",
       " 'signalvar_t200',\n",
       " 'signalmin_t200',\n",
       " 'signalmax_t200',\n",
       " 'signalskew_t200',\n",
       " 'signalcov_t200',\n",
       " 'signalcorr_t200',\n",
       " 'signalkurt_t200',\n",
       " 'norm_t200',\n",
       " 'signalmean_t200_lead',\n",
       " 'signalstd_t200_lead',\n",
       " 'signalvar_t200_lead',\n",
       " 'signalmin_t200_lead',\n",
       " 'signalmax_t200_lead',\n",
       " 'signalskew_t200_lead',\n",
       " 'signalcov_t200_lead',\n",
       " 'signalcorr_t200_lead',\n",
       " 'signalkurt_t200_lead',\n",
       " 'norm_t200_lead',\n",
       " 'signalmean_t300',\n",
       " 'signalstd_t300',\n",
       " 'signalvar_t300',\n",
       " 'signalmin_t300',\n",
       " 'signalmax_t300',\n",
       " 'signalskew_t300',\n",
       " 'signalcov_t300',\n",
       " 'signalcorr_t300',\n",
       " 'signalkurt_t300',\n",
       " 'norm_t300',\n",
       " 'signalmean_t300_lead',\n",
       " 'signalstd_t300_lead',\n",
       " 'signalvar_t300_lead',\n",
       " 'signalmin_t300_lead',\n",
       " 'signalmax_t300_lead',\n",
       " 'signalskew_t300_lead',\n",
       " 'signalcov_t300_lead',\n",
       " 'signalcorr_t300_lead',\n",
       " 'signalkurt_t300_lead',\n",
       " 'norm_t300_lead',\n",
       " 'signalmean_t500',\n",
       " 'signalstd_t500',\n",
       " 'signalvar_t500',\n",
       " 'signalmin_t500',\n",
       " 'signalmax_t500',\n",
       " 'signalskew_t500',\n",
       " 'signalcov_t500',\n",
       " 'signalcorr_t500',\n",
       " 'signalkurt_t500',\n",
       " 'norm_t500',\n",
       " 'signalmean_t500_lead',\n",
       " 'signalstd_t500_lead',\n",
       " 'signalvar_t500_lead',\n",
       " 'signalmin_t500_lead',\n",
       " 'signalmax_t500_lead',\n",
       " 'signalskew_t500_lead',\n",
       " 'signalcov_t500_lead',\n",
       " 'signalcorr_t500_lead',\n",
       " 'signalkurt_t500_lead',\n",
       " 'norm_t500_lead',\n",
       " 'signalmean_t1000',\n",
       " 'signalstd_t1000',\n",
       " 'signalvar_t1000',\n",
       " 'signalmin_t1000',\n",
       " 'signalmax_t1000',\n",
       " 'signalskew_t1000',\n",
       " 'signalcov_t1000',\n",
       " 'signalcorr_t1000',\n",
       " 'signalkurt_t1000',\n",
       " 'norm_t1000',\n",
       " 'signalmean_t1000_lead',\n",
       " 'signalstd_t1000_lead',\n",
       " 'signalvar_t1000_lead',\n",
       " 'signalmin_t1000_lead',\n",
       " 'signalmax_t1000_lead',\n",
       " 'signalskew_t1000_lead',\n",
       " 'signalcov_t1000_lead',\n",
       " 'signalcorr_t1000_lead',\n",
       " 'signalkurt_t1000_lead',\n",
       " 'norm_t1000_lead',\n",
       " 'signalmean_t5000',\n",
       " 'signalstd_t5000',\n",
       " 'signalvar_t5000',\n",
       " 'signalmin_t5000',\n",
       " 'signalmax_t5000',\n",
       " 'signalskew_t5000',\n",
       " 'signalcov_t5000',\n",
       " 'signalcorr_t5000',\n",
       " 'signalkurt_t5000',\n",
       " 'norm_t5000',\n",
       " 'signalmean_t5000_lead',\n",
       " 'signalstd_t5000_lead',\n",
       " 'signalvar_t5000_lead',\n",
       " 'signalmin_t5000_lead',\n",
       " 'signalmax_t5000_lead',\n",
       " 'signalskew_t5000_lead',\n",
       " 'signalcov_t5000_lead',\n",
       " 'signalcorr_t5000_lead',\n",
       " 'signalkurt_t5000_lead',\n",
       " 'norm_t5000_lead',\n",
       " 'meanbatch_100',\n",
       " 'medianbatch_100',\n",
       " 'maxbatch_100',\n",
       " 'minbatch_100',\n",
       " 'stdbatch_100',\n",
       " 'p10batch_100',\n",
       " 'p25batch_100',\n",
       " 'p75batch_100',\n",
       " 'p90batch_100',\n",
       " 'skewbatch_100',\n",
       " 'kurtosisbatch_100',\n",
       " 'normbatch_100',\n",
       " 'mean_abs_chgbatch_100',\n",
       " 'abs_maxbatch_100',\n",
       " 'abs_minbatch_100',\n",
       " 'rangebatch_100',\n",
       " 'maxtominbatch_100',\n",
       " 'abs_avgbatch_100',\n",
       " 'meanbatch_slices2_100',\n",
       " 'medianbatch_slices2_100',\n",
       " 'maxbatch_slices2_100',\n",
       " 'minbatch_slices2_100',\n",
       " 'stdbatch_slices2_100',\n",
       " 'p10batch_slices2_100',\n",
       " 'p25batch_slices2_100',\n",
       " 'p75batch_slices2_100',\n",
       " 'p90batch_slices2_100',\n",
       " 'skewbatch_slices2_100',\n",
       " 'kurtosisbatch_slices2_100',\n",
       " 'normbatch_slices2_100',\n",
       " 'mean_abs_chgbatch_slices2_100',\n",
       " 'abs_maxbatch_slices2_100',\n",
       " 'abs_minbatch_slices2_100',\n",
       " 'rangebatch_slices2_100',\n",
       " 'maxtominbatch_slices2_100',\n",
       " 'abs_avgbatch_slices2_100',\n",
       " 'meanbatch_100_msignal',\n",
       " 'medianbatch_100_msignal',\n",
       " 'maxbatch_100_msignal',\n",
       " 'minbatch_100_msignal',\n",
       " 'stdbatch_100_msignal',\n",
       " 'p10batch_100_msignal',\n",
       " 'p25batch_100_msignal',\n",
       " 'p75batch_100_msignal',\n",
       " 'p90batch_100_msignal',\n",
       " 'skewbatch_100_msignal',\n",
       " 'kurtosisbatch_100_msignal',\n",
       " 'normbatch_100_msignal',\n",
       " 'mean_abs_chgbatch_100_msignal',\n",
       " 'abs_maxbatch_100_msignal',\n",
       " 'abs_minbatch_100_msignal',\n",
       " 'rangebatch_100_msignal',\n",
       " 'maxtominbatch_100_msignal',\n",
       " 'abs_avgbatch_100_msignal',\n",
       " 'meanbatch_slices2_100_msignal',\n",
       " 'medianbatch_slices2_100_msignal',\n",
       " 'maxbatch_slices2_100_msignal',\n",
       " 'minbatch_slices2_100_msignal',\n",
       " 'stdbatch_slices2_100_msignal',\n",
       " 'p10batch_slices2_100_msignal',\n",
       " 'p25batch_slices2_100_msignal',\n",
       " 'p75batch_slices2_100_msignal',\n",
       " 'p90batch_slices2_100_msignal',\n",
       " 'skewbatch_slices2_100_msignal',\n",
       " 'kurtosisbatch_slices2_100_msignal',\n",
       " 'normbatch_slices2_100_msignal',\n",
       " 'mean_abs_chgbatch_slices2_100_msignal',\n",
       " 'abs_maxbatch_slices2_100_msignal',\n",
       " 'abs_minbatch_slices2_100_msignal',\n",
       " 'rangebatch_slices2_100_msignal',\n",
       " 'maxtominbatch_slices2_100_msignal',\n",
       " 'abs_avgbatch_slices2_100_msignal',\n",
       " 'meanbatch_200',\n",
       " 'medianbatch_200',\n",
       " 'maxbatch_200',\n",
       " 'minbatch_200',\n",
       " 'stdbatch_200',\n",
       " 'p10batch_200',\n",
       " 'p25batch_200',\n",
       " 'p75batch_200',\n",
       " 'p90batch_200',\n",
       " 'skewbatch_200',\n",
       " 'kurtosisbatch_200',\n",
       " 'normbatch_200',\n",
       " 'mean_abs_chgbatch_200',\n",
       " 'abs_maxbatch_200',\n",
       " 'abs_minbatch_200',\n",
       " 'rangebatch_200',\n",
       " 'maxtominbatch_200',\n",
       " 'abs_avgbatch_200',\n",
       " 'meanbatch_slices2_200',\n",
       " 'medianbatch_slices2_200',\n",
       " 'maxbatch_slices2_200',\n",
       " 'minbatch_slices2_200',\n",
       " 'stdbatch_slices2_200',\n",
       " 'p10batch_slices2_200',\n",
       " 'p25batch_slices2_200',\n",
       " 'p75batch_slices2_200',\n",
       " 'p90batch_slices2_200',\n",
       " 'skewbatch_slices2_200',\n",
       " 'kurtosisbatch_slices2_200',\n",
       " 'normbatch_slices2_200',\n",
       " 'mean_abs_chgbatch_slices2_200',\n",
       " 'abs_maxbatch_slices2_200',\n",
       " 'abs_minbatch_slices2_200',\n",
       " 'rangebatch_slices2_200',\n",
       " 'maxtominbatch_slices2_200',\n",
       " 'abs_avgbatch_slices2_200',\n",
       " 'meanbatch_200_msignal',\n",
       " 'medianbatch_200_msignal',\n",
       " 'maxbatch_200_msignal',\n",
       " 'minbatch_200_msignal',\n",
       " 'stdbatch_200_msignal',\n",
       " 'p10batch_200_msignal',\n",
       " 'p25batch_200_msignal',\n",
       " 'p75batch_200_msignal',\n",
       " 'p90batch_200_msignal',\n",
       " 'skewbatch_200_msignal',\n",
       " 'kurtosisbatch_200_msignal',\n",
       " 'normbatch_200_msignal',\n",
       " 'mean_abs_chgbatch_200_msignal',\n",
       " 'abs_maxbatch_200_msignal',\n",
       " 'abs_minbatch_200_msignal',\n",
       " 'rangebatch_200_msignal',\n",
       " 'maxtominbatch_200_msignal',\n",
       " 'abs_avgbatch_200_msignal',\n",
       " 'meanbatch_slices2_200_msignal',\n",
       " 'medianbatch_slices2_200_msignal',\n",
       " 'maxbatch_slices2_200_msignal',\n",
       " 'minbatch_slices2_200_msignal',\n",
       " 'stdbatch_slices2_200_msignal',\n",
       " 'p10batch_slices2_200_msignal',\n",
       " 'p25batch_slices2_200_msignal',\n",
       " 'p75batch_slices2_200_msignal',\n",
       " 'p90batch_slices2_200_msignal',\n",
       " 'skewbatch_slices2_200_msignal',\n",
       " 'kurtosisbatch_slices2_200_msignal',\n",
       " 'normbatch_slices2_200_msignal',\n",
       " 'mean_abs_chgbatch_slices2_200_msignal',\n",
       " 'abs_maxbatch_slices2_200_msignal',\n",
       " 'abs_minbatch_slices2_200_msignal',\n",
       " 'rangebatch_slices2_200_msignal',\n",
       " 'maxtominbatch_slices2_200_msignal',\n",
       " 'abs_avgbatch_slices2_200_msignal',\n",
       " 'meanbatch_400',\n",
       " 'medianbatch_400',\n",
       " 'maxbatch_400',\n",
       " 'minbatch_400',\n",
       " 'stdbatch_400',\n",
       " 'p10batch_400',\n",
       " 'p25batch_400',\n",
       " 'p75batch_400',\n",
       " 'p90batch_400',\n",
       " 'skewbatch_400',\n",
       " 'kurtosisbatch_400',\n",
       " 'normbatch_400',\n",
       " 'mean_abs_chgbatch_400',\n",
       " 'abs_maxbatch_400',\n",
       " 'abs_minbatch_400',\n",
       " 'rangebatch_400',\n",
       " 'maxtominbatch_400',\n",
       " 'abs_avgbatch_400',\n",
       " 'meanbatch_slices2_400',\n",
       " 'medianbatch_slices2_400',\n",
       " 'maxbatch_slices2_400',\n",
       " 'minbatch_slices2_400',\n",
       " 'stdbatch_slices2_400',\n",
       " 'p10batch_slices2_400',\n",
       " 'p25batch_slices2_400',\n",
       " 'p75batch_slices2_400',\n",
       " 'p90batch_slices2_400',\n",
       " 'skewbatch_slices2_400',\n",
       " 'kurtosisbatch_slices2_400',\n",
       " 'normbatch_slices2_400',\n",
       " 'mean_abs_chgbatch_slices2_400',\n",
       " 'abs_maxbatch_slices2_400',\n",
       " 'abs_minbatch_slices2_400',\n",
       " 'rangebatch_slices2_400',\n",
       " 'maxtominbatch_slices2_400',\n",
       " 'abs_avgbatch_slices2_400',\n",
       " 'meanbatch_400_msignal',\n",
       " 'medianbatch_400_msignal',\n",
       " 'maxbatch_400_msignal',\n",
       " 'minbatch_400_msignal',\n",
       " 'stdbatch_400_msignal',\n",
       " 'p10batch_400_msignal',\n",
       " 'p25batch_400_msignal',\n",
       " 'p75batch_400_msignal',\n",
       " 'p90batch_400_msignal',\n",
       " 'skewbatch_400_msignal',\n",
       " 'kurtosisbatch_400_msignal',\n",
       " 'normbatch_400_msignal',\n",
       " 'mean_abs_chgbatch_400_msignal',\n",
       " 'abs_maxbatch_400_msignal',\n",
       " 'abs_minbatch_400_msignal',\n",
       " 'rangebatch_400_msignal',\n",
       " 'maxtominbatch_400_msignal',\n",
       " 'abs_avgbatch_400_msignal',\n",
       " 'meanbatch_slices2_400_msignal',\n",
       " 'medianbatch_slices2_400_msignal',\n",
       " 'maxbatch_slices2_400_msignal',\n",
       " 'minbatch_slices2_400_msignal',\n",
       " 'stdbatch_slices2_400_msignal',\n",
       " 'p10batch_slices2_400_msignal',\n",
       " 'p25batch_slices2_400_msignal',\n",
       " 'p75batch_slices2_400_msignal',\n",
       " 'p90batch_slices2_400_msignal',\n",
       " 'skewbatch_slices2_400_msignal',\n",
       " 'kurtosisbatch_slices2_400_msignal',\n",
       " 'normbatch_slices2_400_msignal',\n",
       " 'mean_abs_chgbatch_slices2_400_msignal',\n",
       " 'abs_maxbatch_slices2_400_msignal',\n",
       " 'abs_minbatch_slices2_400_msignal',\n",
       " 'rangebatch_slices2_400_msignal',\n",
       " 'maxtominbatch_slices2_400_msignal',\n",
       " 'abs_avgbatch_slices2_400_msignal']"
      ]
     },
     "execution_count": 3,
     "metadata": {},
     "output_type": "execute_result"
    }
   ],
   "source": [
    "list(trn.columns)"
   ]
  },
  {
   "cell_type": "code",
   "execution_count": 2,
   "metadata": {},
   "outputs": [],
   "source": [
    "def read_data():\n",
    "    print('Reading training, testing and submission data...')\n",
    "    \n",
    "    train = pd.read_csv('../input/train_clean.csv')\n",
    "    \n",
    "    test = pd.read_csv('../input/test_clean.csv')\n",
    "    \n",
    "    submission = pd.read_csv('../input/sample_submission.csv', dtype={'time':str})\n",
    "    print('Train set has {} rows and {} columns'.format(train.shape[0], train.shape[1]))\n",
    "    print('Test set has {} rows and {} columns'.format(test.shape[0], test.shape[1]))\n",
    "    return train, test, submission\n",
    "\n",
    "def get_batch(train, test):\n",
    "    # concatenate data\n",
    "    batch = 10\n",
    "    total_batches = 14*5\n",
    "    train['set'] = 'train'\n",
    "    test['set'] = 'test'\n",
    "    data = pd.concat([train, test])\n",
    "    \n",
    "    for i in range(int(total_batches)):\n",
    "        data.loc[(data['time'] > i * batch) & (data['time'] <= (i + 1) * batch), 'batch'] = i + 1\n",
    "        \n",
    "    train = data[data['set'] == 'train']\n",
    "    test = data[data['set'] == 'test']\n",
    "    train.drop(['set'], inplace = True, axis = 1)\n",
    "    test.drop(['set'], inplace = True, axis = 1)\n",
    "    del data\n",
    "    return train, test\n",
    "\n",
    "def reduce_mem_usage(df, verbose=True):\n",
    "    numerics = ['int16', 'int32', 'int64', 'float16', 'float32', 'float64']\n",
    "    start_mem = df.memory_usage().sum() / 1024**2    \n",
    "    for col in df.columns:\n",
    "        if col!='open_channels':\n",
    "            col_type = df[col].dtypes\n",
    "            if col_type in numerics:\n",
    "                c_min = df[col].min()\n",
    "                c_max = df[col].max()\n",
    "                if str(col_type)[:3] == 'int':\n",
    "                    if c_min > np.iinfo(np.int8).min and c_max < np.iinfo(np.int8).max:\n",
    "                        df[col] = df[col].astype(np.int8)\n",
    "                    elif c_min > np.iinfo(np.int16).min and c_max < np.iinfo(np.int16).max:\n",
    "                        df[col] = df[col].astype(np.int16)\n",
    "                    elif c_min > np.iinfo(np.int32).min and c_max < np.iinfo(np.int32).max:\n",
    "                        df[col] = df[col].astype(np.int32)\n",
    "                    elif c_min > np.iinfo(np.int64).min and c_max < np.iinfo(np.int64).max:\n",
    "                        df[col] = df[col].astype(np.int64)  \n",
    "                else:\n",
    "                    if c_min > np.finfo(np.float16).min and c_max < np.finfo(np.float16).max:\n",
    "                        df[col] = df[col].astype(np.float16)\n",
    "                    elif c_min > np.finfo(np.float32).min and c_max < np.finfo(np.float32).max:\n",
    "                        df[col] = df[col].astype(np.float32)\n",
    "                    else:\n",
    "                        df[col] = df[col].astype(np.float64)    \n",
    "    end_mem = df.memory_usage().sum() / 1024**2\n",
    "    if verbose: print('Mem. usage decreased to {:5.2f} Mb ({:.1f}% reduction)'.format(end_mem, 100 * (start_mem - end_mem) / start_mem))\n",
    "    return df\n",
    "\n",
    "def calc_gradients(s, n_grads = 4):\n",
    "    '''\n",
    "    Calculate gradients for a pandas series. Returns the same number of samples\n",
    "    '''\n",
    "    grads = pd.DataFrame()\n",
    "    \n",
    "    g = s.values\n",
    "    for i in range(n_grads):\n",
    "        g = np.gradient(g)\n",
    "        grads['grad_' + str(i+1)] = g\n",
    "        \n",
    "    return grads\n",
    "\n",
    "def calc_low_pass(s, n_filts=10):\n",
    "    '''\n",
    "    Applies low pass filters to the signal. Left delayed and no delayed\n",
    "    '''\n",
    "    wns = np.logspace(-2, -0.3, n_filts)\n",
    "    \n",
    "    low_pass = pd.DataFrame()\n",
    "    x = s.values\n",
    "    for wn in wns:\n",
    "        b, a = signal.butter(1, Wn=wn, btype='low')\n",
    "        zi = signal.lfilter_zi(b, a)\n",
    "        low_pass['lowpass_lf_' + str('%.4f' %wn)] = signal.lfilter(b, a, x, zi=zi*x[0])[0]\n",
    "        low_pass['lowpass_ff_' + str('%.4f' %wn)] = signal.filtfilt(b, a, x)\n",
    "        \n",
    "    return low_pass\n",
    "\n",
    "def calc_high_pass(s, n_filts=10):\n",
    "    '''\n",
    "    Applies high pass filters to the signal. Left delayed and no delayed\n",
    "    '''\n",
    "    wns = np.logspace(-2, -0.1, n_filts)\n",
    "    \n",
    "    high_pass = pd.DataFrame()\n",
    "    x = s.values\n",
    "    for wn in wns:\n",
    "        b, a = signal.butter(1, Wn=wn, btype='high')\n",
    "        zi = signal.lfilter_zi(b, a)\n",
    "        high_pass['highpass_lf_' + str('%.4f' %wn)] = signal.lfilter(b, a, x, zi=zi*x[0])[0]\n",
    "        high_pass['highpass_ff_' + str('%.4f' %wn)] = signal.filtfilt(b, a, x)\n",
    "        \n",
    "    return high_pass\n",
    "\n",
    "def calc_ewm(s, windows=[50, 100, 200, 500, 1000]):\n",
    "    '''\n",
    "    Calculates exponential weighted functions\n",
    "    '''\n",
    "    ewm = pd.DataFrame()\n",
    "    for w in windows:\n",
    "        ewm['ewm_mean_' + str(w)] = s.ewm(span=w, min_periods=1).mean()\n",
    "        ewm['ewm_std_' + str(w)] = s.ewm(span=w, min_periods=1).std()\n",
    "        \n",
    "    # add zeros when na values (std)\n",
    "    ewm = ewm.fillna(value=0)\n",
    "        \n",
    "    return ewm\n",
    "\n",
    "\n",
    "def add_features(s):\n",
    "    '''\n",
    "    All calculations together\n",
    "    '''\n",
    "    \n",
    "    gradients = calc_gradients(s)\n",
    "    low_pass = calc_low_pass(s)\n",
    "    high_pass = calc_high_pass(s)\n",
    "    ewm = calc_ewm(s)\n",
    "    \n",
    "    return pd.concat([s, gradients, low_pass, high_pass, ewm], axis=1)\n",
    "#     return pd.concat([s, gradients, ewm], axis=1)\n",
    "\n",
    "\n",
    "def divide_and_add_features(s, signal_size=100000):\n",
    "    '''\n",
    "    Divide the signal in bags of \"signal_size\".\n",
    "    Normalize the data dividing it by 15.0\n",
    "    '''\n",
    "    # normalize\n",
    "    s = s / 15.0\n",
    "    \n",
    "    ls = []\n",
    "    # this is just to divide the data up into batches (bags) to keep track of progress\n",
    "    # output is still the same size as input\n",
    "    for i in tqdm(range(int(s.shape[0]/signal_size))):\n",
    "        sig = s[i*signal_size:(i+1)*signal_size].copy().reset_index(drop=True)\n",
    "        sig_featured = add_features(sig)\n",
    "        ls.append(sig_featured)\n",
    "    \n",
    "    return pd.concat(ls, axis=0)\n",
    "\n",
    "def rolling_features(train, test):\n",
    "    \n",
    "    pre_train = train.copy()\n",
    "    pre_test = test.copy()\n",
    "    \n",
    "        \n",
    "    for df in [pre_train, pre_test]:\n",
    "        \n",
    "        for window in tqdm([10, 50, 100, 200]):\n",
    "            # roll backwards\n",
    "            df['neighbour_quantile_' + str(window)] = df.groupby(['batch'])['signal'].transform(\n",
    "                lambda x: x.rolling(window).apply(lambda x: percentileofscore())\n",
    "            )\n",
    "            \n",
    "    del train, test, min_max\n",
    "    \n",
    "    return pre_train, pre_test\n",
    "\n",
    "def Kalman1D(observations, damping=1):\n",
    "    # To return the smoothed time series data\n",
    "    observation_covariance = damping\n",
    "    initial_value_guess = observations[0]\n",
    "    transition_matrix = 1\n",
    "    transition_covariance = 0.1\n",
    "    kf = KalmanFilter(\n",
    "            initial_state_mean=initial_value_guess,\n",
    "            initial_state_covariance=observation_covariance,\n",
    "            observation_covariance=observation_covariance,\n",
    "            transition_covariance=transition_covariance,\n",
    "            transition_matrices=transition_matrix\n",
    "        )\n",
    "    pred_state, state_cov = kf.smooth(observations)\n",
    "    return pred_state"
   ]
  },
  {
   "cell_type": "raw",
   "metadata": {},
   "source": [
    "# train['batch'] = train.index // 100000\n",
    "test['batch'] = test.index // 100000"
   ]
  },
  {
   "cell_type": "raw",
   "metadata": {},
   "source": [
    "trn_ent_w10 = train.groupby('batch')['signal'].rolling(10).apply(lambda x: feature_calculators.binned_entropy(x, max_bins=20))\n",
    "trn_ent_w50 = train.groupby('batch')['signal'].rolling(50).apply(lambda x: feature_calculators.binned_entropy(x, max_bins=20))\n",
    "trn_ent_w100 = train.groupby('batch')['signal'].rolling(100).apply(lambda x: feature_calculators.binned_entropy(x, max_bins=20))\n",
    "trn_ent_w200 = train.groupby('batch')['signal'].rolling(200).apply(lambda x: feature_calculators.binned_entropy(x, max_bins=20))\n",
    "trn_ent_w500 = train.groupby('batch')['signal'].rolling(500).apply(lambda x: feature_calculators.binned_entropy(x, max_bins=20))\n",
    "\n",
    "tst_ent_w10 = test.groupby('batch')['signal'].rolling(10).apply(lambda x: feature_calculators.binned_entropy(x, max_bins=20))\n",
    "tst_ent_w50 = test.groupby('batch')['signal'].rolling(50).apply(lambda x: feature_calculators.binned_entropy(x, max_bins=20))\n",
    "tst_ent_w100 = test.groupby('batch')['signal'].rolling(100).apply(lambda x: feature_calculators.binned_entropy(x, max_bins=20))\n",
    "tst_ent_w200 = test.groupby('batch')['signal'].rolling(200).apply(lambda x: feature_calculators.binned_entropy(x, max_bins=20))\n",
    "tst_ent_w500 = test.groupby('batch')['signal'].rolling(500).apply(lambda x: feature_calculators.binned_entropy(x, max_bins=20))"
   ]
  },
  {
   "cell_type": "raw",
   "metadata": {},
   "source": [
    "aaa = pd.DataFrame({'entropy_w10': trn_ent_w10, 'entropy_w50': trn_ent_w50, 'entropy_w100': trn_ent_w100, 'entropy_w200': trn_ent_w200, 'entropy_w500': trn_ent_w500,})\n",
    "aaa.to_pickle('../input/trn_dat_refresh1_all.pkl')"
   ]
  },
  {
   "cell_type": "code",
   "execution_count": 3,
   "metadata": {},
   "outputs": [
    {
     "name": "stdout",
     "output_type": "stream",
     "text": [
      "Reading training, testing and submission data...\n",
      "Train set has 5000000 rows and 3 columns\n",
      "Test set has 2000000 rows and 2 columns\n"
     ]
    }
   ],
   "source": [
    "train, test, submission = read_data()"
   ]
  },
  {
   "cell_type": "code",
   "execution_count": 6,
   "metadata": {},
   "outputs": [],
   "source": [
    "train['batch'] = train.index // 100000\n",
    "test['batch'] = test.index // 100000"
   ]
  },
  {
   "cell_type": "code",
   "execution_count": 13,
   "metadata": {},
   "outputs": [
    {
     "data": {
      "text/html": [
       "<div>\n",
       "<style scoped>\n",
       "    .dataframe tbody tr th:only-of-type {\n",
       "        vertical-align: middle;\n",
       "    }\n",
       "\n",
       "    .dataframe tbody tr th {\n",
       "        vertical-align: top;\n",
       "    }\n",
       "\n",
       "    .dataframe thead th {\n",
       "        text-align: right;\n",
       "    }\n",
       "</style>\n",
       "<table border=\"1\" class=\"dataframe\">\n",
       "  <thead>\n",
       "    <tr style=\"text-align: right;\">\n",
       "      <th></th>\n",
       "      <th>time</th>\n",
       "      <th>signal</th>\n",
       "      <th>open_channels</th>\n",
       "      <th>batch</th>\n",
       "    </tr>\n",
       "  </thead>\n",
       "  <tbody>\n",
       "    <tr>\n",
       "      <th>0</th>\n",
       "      <td>0.0001</td>\n",
       "      <td>-2.760000</td>\n",
       "      <td>0</td>\n",
       "      <td>0</td>\n",
       "    </tr>\n",
       "    <tr>\n",
       "      <th>1</th>\n",
       "      <td>0.0002</td>\n",
       "      <td>-2.855700</td>\n",
       "      <td>0</td>\n",
       "      <td>0</td>\n",
       "    </tr>\n",
       "    <tr>\n",
       "      <th>2</th>\n",
       "      <td>0.0003</td>\n",
       "      <td>-2.407400</td>\n",
       "      <td>0</td>\n",
       "      <td>0</td>\n",
       "    </tr>\n",
       "    <tr>\n",
       "      <th>3</th>\n",
       "      <td>0.0004</td>\n",
       "      <td>-3.140400</td>\n",
       "      <td>0</td>\n",
       "      <td>0</td>\n",
       "    </tr>\n",
       "    <tr>\n",
       "      <th>4</th>\n",
       "      <td>0.0005</td>\n",
       "      <td>-3.152500</td>\n",
       "      <td>0</td>\n",
       "      <td>0</td>\n",
       "    </tr>\n",
       "    <tr>\n",
       "      <th>...</th>\n",
       "      <td>...</td>\n",
       "      <td>...</td>\n",
       "      <td>...</td>\n",
       "      <td>...</td>\n",
       "    </tr>\n",
       "    <tr>\n",
       "      <th>4999995</th>\n",
       "      <td>499.9996</td>\n",
       "      <td>2.919274</td>\n",
       "      <td>7</td>\n",
       "      <td>49</td>\n",
       "    </tr>\n",
       "    <tr>\n",
       "      <th>4999996</th>\n",
       "      <td>499.9997</td>\n",
       "      <td>2.697906</td>\n",
       "      <td>7</td>\n",
       "      <td>49</td>\n",
       "    </tr>\n",
       "    <tr>\n",
       "      <th>4999997</th>\n",
       "      <td>499.9998</td>\n",
       "      <td>4.516337</td>\n",
       "      <td>8</td>\n",
       "      <td>49</td>\n",
       "    </tr>\n",
       "    <tr>\n",
       "      <th>4999998</th>\n",
       "      <td>499.9999</td>\n",
       "      <td>5.639669</td>\n",
       "      <td>9</td>\n",
       "      <td>49</td>\n",
       "    </tr>\n",
       "    <tr>\n",
       "      <th>4999999</th>\n",
       "      <td>500.0000</td>\n",
       "      <td>5.379200</td>\n",
       "      <td>9</td>\n",
       "      <td>49</td>\n",
       "    </tr>\n",
       "  </tbody>\n",
       "</table>\n",
       "<p>5000000 rows × 4 columns</p>\n",
       "</div>"
      ],
      "text/plain": [
       "             time    signal  open_channels  batch\n",
       "0          0.0001 -2.760000              0      0\n",
       "1          0.0002 -2.855700              0      0\n",
       "2          0.0003 -2.407400              0      0\n",
       "3          0.0004 -3.140400              0      0\n",
       "4          0.0005 -3.152500              0      0\n",
       "...           ...       ...            ...    ...\n",
       "4999995  499.9996  2.919274              7     49\n",
       "4999996  499.9997  2.697906              7     49\n",
       "4999997  499.9998  4.516337              8     49\n",
       "4999998  499.9999  5.639669              9     49\n",
       "4999999  500.0000  5.379200              9     49\n",
       "\n",
       "[5000000 rows x 4 columns]"
      ]
     },
     "execution_count": 13,
     "metadata": {},
     "output_type": "execute_result"
    }
   ],
   "source": [
    "train"
   ]
  },
  {
   "cell_type": "code",
   "execution_count": 18,
   "metadata": {},
   "outputs": [],
   "source": [
    "train['kal_signal'] = train.groupby('batch')['signal'].transform(lambda x: Kalman1D(x.values).squeeze())"
   ]
  },
  {
   "cell_type": "code",
   "execution_count": 17,
   "metadata": {},
   "outputs": [],
   "source": [
    "test['kal_signal'] = test.groupby('batch')['signal'].transform(lambda x: Kalman1D(x.values).squeeze())"
   ]
  },
  {
   "cell_type": "code",
   "execution_count": 23,
   "metadata": {},
   "outputs": [],
   "source": [
    "train['kal_diff'] = train['kal_signal'] - train['signal']\n",
    "train['kal_ratio'] = train['kal_diff'] / train['signal']\n",
    "test['kal_diff'] = test['kal_signal'] - test['signal']\n",
    "test['kal_ratio'] = test['kal_diff'] / test['signal']"
   ]
  },
  {
   "cell_type": "code",
   "execution_count": 28,
   "metadata": {},
   "outputs": [],
   "source": [
    "import bloscpack as bp"
   ]
  },
  {
   "cell_type": "code",
   "execution_count": 29,
   "metadata": {},
   "outputs": [],
   "source": [
    "bp.pack_ndarray_to_file(train.loc[:, ['kal_signal', 'kal_diff', 'kal_ratio']].values, '../input/trn_dat_kal_all.bp')"
   ]
  },
  {
   "cell_type": "code",
   "execution_count": 30,
   "metadata": {},
   "outputs": [],
   "source": [
    "bp.pack_ndarray_to_file(test.loc[:, ['kal_signal', 'kal_diff', 'kal_ratio']].values, '../input/tst_dat_kal_all.bp')"
   ]
  },
  {
   "cell_type": "raw",
   "metadata": {},
   "source": [
    "_, ax = plt.subplots(1, 1, figsize=(10, 7))\n",
    "ax.plot(train['signal'], c='red')\n",
    "ax.plot(train['signal_clean'], c='green')"
   ]
  },
  {
   "cell_type": "code",
   "execution_count": 9,
   "metadata": {},
   "outputs": [
    {
     "name": "stderr",
     "output_type": "stream",
     "text": [
      "100%|██████████| 50/50 [00:04<00:00, 10.47it/s]\n",
      "100%|██████████| 20/20 [00:01<00:00, 10.61it/s]\n"
     ]
    },
    {
     "name": "stdout",
     "output_type": "stream",
     "text": [
      "Mem. usage decreased to 543.59 Mb (75.0% reduction)\n",
      "Mem. usage decreased to 217.44 Mb (75.0% reduction)\n"
     ]
    }
   ],
   "source": [
    "pre_train0 = divide_and_add_features(train['signal'])\n",
    "pre_test0 = divide_and_add_features(test['signal'])\n",
    "\n",
    "pre_train0.reset_index(inplace=True, drop=True)\n",
    "pre_test0.reset_index(inplace=True, drop=True)\n",
    "\n",
    "pre_train0 = reduce_mem_usage(pre_train0)\n",
    "pre_test0 = reduce_mem_usage(pre_test0)"
   ]
  },
  {
   "cell_type": "raw",
   "metadata": {},
   "source": [
    "observation_covariance = .0015\n",
    "\n",
    "pre_train0['batch'] = pre_train0.index // 100000\n",
    "pre_test0['batch'] = pre_test0.index // 100000\n",
    "\n",
    "pre_train0['km_signal'] = pre_train0.groupby('batch')['signal'].transform(lambda x: Kalman1D(x.values, observation_covariance).squeeze())\n",
    "pre_test0['km_signal'] = pre_test0.groupby('batch')['signal'].transform(lambda x: Kalman1D(x.values, observation_covariance).squeeze())"
   ]
  },
  {
   "cell_type": "raw",
   "metadata": {},
   "source": [
    "pre_train0['diff'] = pre_train0['signal'] - pre_train0['km_signal']\n",
    "pre_test0['diff'] = pre_test0['signal'] - pre_test0['km_signal']"
   ]
  },
  {
   "cell_type": "code",
   "execution_count": 21,
   "metadata": {},
   "outputs": [
    {
     "name": "stderr",
     "output_type": "stream",
     "text": [
      "\n",
      "  0%|          | 0/6 [00:00<?, ?it/s]\u001b[A\n",
      " 17%|█▋        | 1/6 [00:27<02:19, 27.87s/it]\u001b[A\n",
      " 33%|███▎      | 2/6 [00:58<01:55, 28.79s/it]\u001b[A\n",
      " 50%|█████     | 3/6 [01:33<01:31, 30.46s/it]\u001b[A\n",
      " 67%|██████▋   | 4/6 [02:10<01:05, 32.57s/it]\u001b[A\n",
      " 83%|████████▎ | 5/6 [02:52<00:35, 35.23s/it]\u001b[A\n",
      "100%|██████████| 6/6 [03:37<00:00, 36.19s/it]\u001b[A\n",
      "\n",
      "  0%|          | 0/6 [00:00<?, ?it/s]\u001b[A\n",
      " 17%|█▋        | 1/6 [00:10<00:52, 10.41s/it]\u001b[A\n",
      " 33%|███▎      | 2/6 [00:22<00:43, 10.78s/it]\u001b[A\n",
      " 50%|█████     | 3/6 [00:35<00:34, 11.46s/it]\u001b[A\n",
      " 67%|██████▋   | 4/6 [00:49<00:24, 12.36s/it]\u001b[A\n",
      " 83%|████████▎ | 5/6 [01:05<00:13, 13.47s/it]\u001b[A\n",
      "100%|██████████| 6/6 [01:23<00:00, 13.89s/it]\u001b[A\n"
     ]
    },
    {
     "name": "stdout",
     "output_type": "stream",
     "text": [
      "Mem. usage decreased to 1926.42 Mb (60.5% reduction)\n",
      "Mem. usage decreased to 770.57 Mb (60.5% reduction)\n"
     ]
    }
   ],
   "source": [
    "train, test = get_batch(train, test)\n",
    "pre_train1, pre_test1 = rolling_features(train, test)\n",
    "pre_train1 = reduce_mem_usage(pre_train1)\n",
    "pre_test1 = reduce_mem_usage(pre_test1)"
   ]
  },
  {
   "cell_type": "code",
   "execution_count": 38,
   "metadata": {},
   "outputs": [],
   "source": [
    "pre_train = pd.concat([pre_train0.drop(columns=['diff', 'batch']), pre_train1.drop(columns=['signal', 'batch', 'open_channels', 'time'])], axis = 1)\n",
    "pre_test = pd.concat([pre_test0.drop(columns=['diff', 'batch']), pre_test1.drop(columns=['signal', 'batch', 'open_channels', 'time'])], axis = 1)"
   ]
  },
  {
   "cell_type": "code",
   "execution_count": 39,
   "metadata": {},
   "outputs": [
    {
     "data": {
      "text/plain": [
       "True"
      ]
     },
     "execution_count": 39,
     "metadata": {},
     "output_type": "execute_result"
    }
   ],
   "source": [
    "np.all([a == b for a, b in zip(pre_train.columns, pre_test)])"
   ]
  },
  {
   "cell_type": "code",
   "execution_count": 21,
   "metadata": {},
   "outputs": [],
   "source": [
    "pre_train_lbl = pre_train.loc[:, ['open_channels']].copy()"
   ]
  },
  {
   "cell_type": "code",
   "execution_count": 22,
   "metadata": {},
   "outputs": [],
   "source": [
    "pre_train_lbl.to_pickle('../input/trn_lbl_orig_refresh0_all.pkl')"
   ]
  },
  {
   "cell_type": "code",
   "execution_count": 40,
   "metadata": {},
   "outputs": [],
   "source": [
    "pre_train.to_pickle('../input/trn_dat_refresh0_all.pkl')"
   ]
  },
  {
   "cell_type": "code",
   "execution_count": 41,
   "metadata": {},
   "outputs": [],
   "source": [
    "pre_test.to_pickle('../input/tst_dat_refresh0_all.pkl')"
   ]
  },
  {
   "cell_type": "code",
   "execution_count": 9,
   "metadata": {},
   "outputs": [],
   "source": [
    "features = [col for col in pre_train.columns if col not in ['open_channels', 'time', 'batch']]"
   ]
  },
  {
   "cell_type": "code",
   "execution_count": 7,
   "metadata": {},
   "outputs": [],
   "source": [
    "import bloscpack as bp"
   ]
  },
  {
   "cell_type": "code",
   "execution_count": 12,
   "metadata": {},
   "outputs": [],
   "source": [
    "bp.pack_ndarray_to_file(pre_train[features].values, '../input/trn_dat_orig_all.bp')\n",
    "bp.pack_ndarray_to_file(pre_train[target].values, '../input/trn_lbl_orig_all.bp')"
   ]
  },
  {
   "cell_type": "code",
   "execution_count": 8,
   "metadata": {},
   "outputs": [],
   "source": [
    "# params = {\n",
    "#     'boosting_type': 'gbdt',\n",
    "#     'metric': 'rmse',\n",
    "#     'objective': 'regression',\n",
    "#     'n_jobs': 6,\n",
    "#     'seed': 236,\n",
    "#     'num_leaves': 280,\n",
    "#     'learning_rate': 0.026623466966581126,\n",
    "#     'max_depth': 80,\n",
    "#     'lambda_l1': 2.959759088169741,\n",
    "#     'lambda_l2': 1.331172832164913,\n",
    "#     'bagging_fraction': 0.9655406551472153,\n",
    "#     'bagging_freq': 9,\n",
    "#     'colsample_bytree': 0.6867118652742716\n",
    "# }\n",
    "\n",
    "params = {\n",
    "    \"boosting\": \"gbdt\",\n",
    "    \"metric\": 'rmse',\n",
    "    'objective': 'huber',\n",
    "    'random_state': 236,\n",
    "    'num_leaves': 280,\n",
    "    'learning_rate': 0.026623466966581126,\n",
    "    'max_depth': 80,\n",
    "    'reg_alpha': 2.959759088169741, # L1\n",
    "    'reg_lambda': 1.331172832164913, # L2\n",
    "    \"bagging_fraction\": 0.9655406551472153,\n",
    "    \"bagging_freq\": 9,\n",
    "    'colsample_bytree': 0.6867118652742716\n",
    "}"
   ]
  },
  {
   "cell_type": "raw",
   "metadata": {},
   "source": [
    "for i in range(10):\n",
    "    dat = pre_train[features].iloc[batch_id_trn[i]].values\n",
    "    lbl = pre_train['open_channels'].iloc[batch_id_trn[i]].values\n",
    "    break\n",
    "    bp.pack_ndarray_to_file(dat, '../input/trn_dat_orig_g{}.bp'.format(i))\n",
    "    bp.pack_ndarray_to_file(lbl, '../input/trn_lbl_orig_g{}.bp'.format(i))"
   ]
  },
  {
   "cell_type": "code",
   "execution_count": 11,
   "metadata": {},
   "outputs": [],
   "source": [
    "kf = StratifiedKFold(n_splits=10, shuffle=True, random_state=42)\n",
    "target = 'open_channels'"
   ]
  },
  {
   "cell_type": "code",
   "execution_count": 11,
   "metadata": {},
   "outputs": [],
   "source": [
    "for fold, (trn_ndcs, vld_ndcs) in enumerate(kf.split(pre_train, pre_train[target])):\n",
    "    x_trn, x_vld = pre_train[features].iloc[trn_ndcs], pre_train[features].iloc[vld_ndcs]\n",
    "    y_trn, y_vld = pre_train[target][trn_ndcs], pre_train[target][vld_ndcs]\n",
    "    #trn_set = lgb.Dataset(x_trn, y_trn)\n",
    "    #vld_set = lgb.Dataset(x_vld, y_vld)\n",
    "    break"
   ]
  },
  {
   "cell_type": "code",
   "execution_count": 12,
   "metadata": {},
   "outputs": [
    {
     "name": "stdout",
     "output_type": "stream",
     "text": [
      "Training until validation scores don't improve for 100 rounds\n",
      "[50]\tvalid_0's rmse: 1.7831\n",
      "[100]\tvalid_0's rmse: 1.13112\n",
      "[150]\tvalid_0's rmse: 0.692472\n",
      "[200]\tvalid_0's rmse: 0.377599\n",
      "[250]\tvalid_0's rmse: 0.205497\n",
      "[300]\tvalid_0's rmse: 0.159849\n",
      "[350]\tvalid_0's rmse: 0.155435\n",
      "[400]\tvalid_0's rmse: 0.155023\n",
      "[450]\tvalid_0's rmse: 0.154923\n",
      "[500]\tvalid_0's rmse: 0.154859\n",
      "[550]\tvalid_0's rmse: 0.154815\n",
      "[600]\tvalid_0's rmse: 0.154777\n",
      "[650]\tvalid_0's rmse: 0.154733\n",
      "[700]\tvalid_0's rmse: 0.154707\n",
      "[750]\tvalid_0's rmse: 0.154669\n",
      "[800]\tvalid_0's rmse: 0.154642\n",
      "[850]\tvalid_0's rmse: 0.154608\n",
      "[900]\tvalid_0's rmse: 0.15458\n",
      "[950]\tvalid_0's rmse: 0.154569\n",
      "[1000]\tvalid_0's rmse: 0.154553\n",
      "[1050]\tvalid_0's rmse: 0.154533\n",
      "[1100]\tvalid_0's rmse: 0.154519\n",
      "[1150]\tvalid_0's rmse: 0.154485\n",
      "[1200]\tvalid_0's rmse: 0.15447\n",
      "[1250]\tvalid_0's rmse: 0.154459\n",
      "[1300]\tvalid_0's rmse: 0.15445\n",
      "[1350]\tvalid_0's rmse: 0.154436\n",
      "[1400]\tvalid_0's rmse: 0.154421\n",
      "[1450]\tvalid_0's rmse: 0.154407\n",
      "[1500]\tvalid_0's rmse: 0.154396\n",
      "[1550]\tvalid_0's rmse: 0.154395\n",
      "[1600]\tvalid_0's rmse: 0.154387\n",
      "[1650]\tvalid_0's rmse: 0.154382\n",
      "[1700]\tvalid_0's rmse: 0.154377\n",
      "[1750]\tvalid_0's rmse: 0.154367\n",
      "[1800]\tvalid_0's rmse: 0.154356\n",
      "[1850]\tvalid_0's rmse: 0.154354\n",
      "[1900]\tvalid_0's rmse: 0.15434\n",
      "[1950]\tvalid_0's rmse: 0.154335\n",
      "[2000]\tvalid_0's rmse: 0.154319\n",
      "[2050]\tvalid_0's rmse: 0.154311\n",
      "[2100]\tvalid_0's rmse: 0.1543\n",
      "[2150]\tvalid_0's rmse: 0.15429\n",
      "[2200]\tvalid_0's rmse: 0.154289\n",
      "[2250]\tvalid_0's rmse: 0.154286\n",
      "[2300]\tvalid_0's rmse: 0.154279\n",
      "[2350]\tvalid_0's rmse: 0.154281\n",
      "[2400]\tvalid_0's rmse: 0.154278\n",
      "[2450]\tvalid_0's rmse: 0.154272\n",
      "[2500]\tvalid_0's rmse: 0.154261\n",
      "[2550]\tvalid_0's rmse: 0.154259\n",
      "[2600]\tvalid_0's rmse: 0.154256\n",
      "[2650]\tvalid_0's rmse: 0.154252\n",
      "[2700]\tvalid_0's rmse: 0.154245\n",
      "[2750]\tvalid_0's rmse: 0.154233\n",
      "[2800]\tvalid_0's rmse: 0.154231\n",
      "[2850]\tvalid_0's rmse: 0.154235\n",
      "[2900]\tvalid_0's rmse: 0.154237\n",
      "Early stopping, best iteration is:\n",
      "[2802]\tvalid_0's rmse: 0.15423\n"
     ]
    },
    {
     "data": {
      "text/plain": [
       "LGBMRegressor(bagging_fraction=0.9655406551472153, bagging_freq=9,\n",
       "              boosting='gbdt', boosting_type='gbdt', class_weight=None,\n",
       "              colsample_bytree=0.6867118652742716, importance_type='split',\n",
       "              learning_rate=0.026623466966581126, max_depth=80, metric='rmse',\n",
       "              min_child_samples=20, min_child_weight=0.001, min_split_gain=0.0,\n",
       "              n_estimators=10000, n_jobs=12, num_leaves=280, objective='huber',\n",
       "              random_state=236, reg_alpha=2.959759088169741,\n",
       "              reg_lambda=1.331172832164913, silent=True, subsample=1.0,\n",
       "              subsample_for_bin=200000, subsample_freq=0)"
      ]
     },
     "execution_count": 12,
     "metadata": {},
     "output_type": "execute_result"
    }
   ],
   "source": [
    "# model = lgb.train(params, trn_set, num_boost_round=10000, early_stopping_rounds=100, valid_sets=[vld_set], verbose_eval=50)\n",
    "model = lgb.LGBMRegressor(**params, n_estimators=10000, n_jobs=12)\n",
    "model.fit(X=x_trn, y=y_trn, eval_set=[(x_vld, y_vld)], eval_metric='rmse', verbose=50, early_stopping_rounds=100)"
   ]
  },
  {
   "cell_type": "code",
   "execution_count": 13,
   "metadata": {},
   "outputs": [],
   "source": [
    "vld_pred = model.predict(x_vld, num_iteration=model.best_iteration_)\n",
    "vld_pred = np.round(np.clip(vld_pred, 0, 10)).astype(int)"
   ]
  },
  {
   "cell_type": "code",
   "execution_count": 14,
   "metadata": {},
   "outputs": [
    {
     "name": "stdout",
     "output_type": "stream",
     "text": [
      "0.9384238806036712\n"
     ]
    }
   ],
   "source": [
    "f1 = metrics.f1_score(y_vld.astype(int), vld_pred, average = 'macro')\n",
    "print(f1)"
   ]
  },
  {
   "cell_type": "code",
   "execution_count": 47,
   "metadata": {},
   "outputs": [
    {
     "data": {
      "text/plain": [
       "Index(['signal', 'signal_clean', 'signal_clean', 'lag_t1', 'lag_t2', 'lag_t3',\n",
       "       'lead_t1', 'lead_t2', 'lead_t3', 'signalmean_t1000',\n",
       "       ...\n",
       "       'ewm_mean_10', 'ewm_std_10', 'ewm_mean_50', 'ewm_std_50',\n",
       "       'ewm_mean_100', 'ewm_std_100', 'ewm_mean_500', 'ewm_std_500',\n",
       "       'ewm_mean_1000', 'ewm_std_1000'],\n",
       "      dtype='object', length=209)"
      ]
     },
     "execution_count": 47,
     "metadata": {},
     "output_type": "execute_result"
    }
   ],
   "source": [
    "pre_train[features].columns"
   ]
  },
  {
   "cell_type": "code",
   "execution_count": 46,
   "metadata": {},
   "outputs": [
    {
     "data": {
      "text/plain": [
       "Index(['abs_avgbatch_25000', 'signal_clean', 'abs_maxbatch_25000',\n",
       "       'signal_clean', 'p25batch_25000', 'medianbatch_25000', 'p75batch_25000',\n",
       "       'maxtominbatch_25000', 'rangebatch_25000', 'p90batch_25000',\n",
       "       ...\n",
       "       'highpass_lf_0.7943', 'highpass_ff_0.7943', 'grad_1', 'grad_3',\n",
       "       'lag_t3', 'ewm_std_50', 'lead_t2', 'lead_t3', 'lead_t1', 'ewm_std_10'],\n",
       "      dtype='object', length=209)"
      ]
     },
     "execution_count": 46,
     "metadata": {},
     "output_type": "execute_result"
    }
   ],
   "source": [
    "pre_train[features].columns[np.argsort(model.feature_importances_)]"
   ]
  },
  {
   "cell_type": "code",
   "execution_count": 41,
   "metadata": {},
   "outputs": [
    {
     "data": {
      "text/plain": [
       "(209,)"
      ]
     },
     "execution_count": 41,
     "metadata": {},
     "output_type": "execute_result"
    }
   ],
   "source": [
    "model.feature_importances_"
   ]
  },
  {
   "cell_type": "code",
   "execution_count": 25,
   "metadata": {},
   "outputs": [
    {
     "data": {
      "text/plain": [
       "209"
      ]
     },
     "execution_count": 25,
     "metadata": {},
     "output_type": "execute_result"
    }
   ],
   "source": [
    "len(model.feature_importances_)"
   ]
  },
  {
   "cell_type": "code",
   "execution_count": 22,
   "metadata": {},
   "outputs": [
    {
     "data": {
      "text/plain": [
       "[11655, 10170, 10643, 12625]"
      ]
     },
     "execution_count": 22,
     "metadata": {},
     "output_type": "execute_result"
    }
   ],
   "source": [
    "[i for i in model.feature_importances_ if i > 10000]"
   ]
  },
  {
   "cell_type": "code",
   "execution_count": 23,
   "metadata": {},
   "outputs": [
    {
     "ename": "IndexError",
     "evalue": "boolean index did not match indexed array along dimension 0; dimension is 207 but corresponding boolean dimension is 209",
     "output_type": "error",
     "traceback": [
      "\u001b[0;31m---------------------------------------------------------------------------\u001b[0m",
      "\u001b[0;31mIndexError\u001b[0m                                Traceback (most recent call last)",
      "\u001b[0;32m<ipython-input-23-4f693cd02765>\u001b[0m in \u001b[0;36m<module>\u001b[0;34m\u001b[0m\n\u001b[0;32m----> 1\u001b[0;31m \u001b[0mnp\u001b[0m\u001b[0;34m.\u001b[0m\u001b[0marray\u001b[0m\u001b[0;34m(\u001b[0m\u001b[0mfeatures\u001b[0m\u001b[0;34m)\u001b[0m\u001b[0;34m[\u001b[0m\u001b[0mmodel\u001b[0m\u001b[0;34m.\u001b[0m\u001b[0mfeature_importances_\u001b[0m \u001b[0;34m>\u001b[0m \u001b[0;36m10000\u001b[0m\u001b[0;34m]\u001b[0m\u001b[0;34m\u001b[0m\u001b[0;34m\u001b[0m\u001b[0m\n\u001b[0m",
      "\u001b[0;31mIndexError\u001b[0m: boolean index did not match indexed array along dimension 0; dimension is 207 but corresponding boolean dimension is 209"
     ]
    }
   ],
   "source": [
    "np.array(features)[model.feature_importances_ > 10000]"
   ]
  },
  {
   "cell_type": "code",
   "execution_count": 24,
   "metadata": {},
   "outputs": [
    {
     "data": {
      "text/plain": [
       "207"
      ]
     },
     "execution_count": 24,
     "metadata": {},
     "output_type": "execute_result"
    }
   ],
   "source": [
    "len(features)"
   ]
  }
 ],
 "metadata": {
  "kernelspec": {
   "display_name": "Python 3",
   "language": "python",
   "name": "python3"
  },
  "language_info": {
   "codemirror_mode": {
    "name": "ipython",
    "version": 3
   },
   "file_extension": ".py",
   "mimetype": "text/x-python",
   "name": "python",
   "nbconvert_exporter": "python",
   "pygments_lexer": "ipython3",
   "version": "3.7.6"
  }
 },
 "nbformat": 4,
 "nbformat_minor": 4
}
