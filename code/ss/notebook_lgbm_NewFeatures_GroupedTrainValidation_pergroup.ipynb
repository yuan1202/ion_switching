{
 "cells": [
  {
   "cell_type": "code",
   "execution_count": 1,
   "metadata": {},
   "outputs": [],
   "source": [
    "import os\n",
    "import joblib\n",
    "import math\n",
    "import warnings\n",
    "import gc\n",
    "warnings.filterwarnings('ignore')\n",
    "from tqdm import tqdm\n",
    "import pickle\n",
    "\n",
    "import bloscpack as bp\n",
    "\n",
    "import numpy as np \n",
    "import pandas as pd\n",
    "\n",
    "import matplotlib.pyplot as plt\n",
    "import seaborn as sns\n",
    "\n",
    "import lightgbm as lgb\n",
    "from sklearn.model_selection import GroupKFold, StratifiedKFold, train_test_split, RepeatedStratifiedKFold\n",
    "from sklearn import metrics\n",
    "\n",
    "pd.set_option('display.max_columns', 10000)\n",
    "pd.set_option('display.max_rows', 10000)"
   ]
  },
  {
   "cell_type": "code",
   "execution_count": 2,
   "metadata": {},
   "outputs": [],
   "source": [
    "with open('../input/batch_ids_trn.pkl', 'rb') as f:\n",
    "    batch_id_trn = pickle.load(f)\n",
    "with open('../input/batch_ids_tst.pkl', 'rb') as f:\n",
    "    batch_id_tst = pickle.load(f)"
   ]
  },
  {
   "cell_type": "code",
   "execution_count": 3,
   "metadata": {},
   "outputs": [],
   "source": [
    "dat_w500 = bp.unpack_ndarray_from_file('../input/feats_tblr/trn_dat_all_w500_fixed.bp')\n",
    "lbl_w200 = bp.unpack_ndarray_from_file('../input/feats_tblr/trn_lbl_all_w200.bp')\n",
    "\n",
    "dat_orig = pd.read_pickle('../input/feats_tblr/trn_dat_orig_v2_all.pkl')\n",
    "lbl_orig = pd.read_pickle('../input/feats_tblr/trn_lbl_orig_v2_all.pkl')\n",
    "\n",
    "dat_orig = dat_orig.loc[:, [c for c in dat_orig.columns if c not in ('time', 'batch', 'open_channels')]]"
   ]
  },
  {
   "cell_type": "code",
   "execution_count": 4,
   "metadata": {},
   "outputs": [],
   "source": [
    "dat_orig = np.concatenate([dat_orig.iloc[batch_id_trn[3], :].values, dat_orig.iloc[batch_id_trn[7], :].values], 0)\n",
    "dat_w500 = np.concatenate([dat_w500[batch_id_trn[3], :], dat_w500[batch_id_trn[7], :]], 0)"
   ]
  },
  {
   "cell_type": "code",
   "execution_count": 5,
   "metadata": {},
   "outputs": [],
   "source": [
    "lbl = np.concatenate([lbl_w200[batch_id_trn[4]], lbl_w200[batch_id_trn[9]]], 0)\n",
    "dat = np.concatenate([dat_orig, dat_w500], axis=1)\n",
    "del dat_orig, dat_w500"
   ]
  },
  {
   "cell_type": "code",
   "execution_count": 6,
   "metadata": {},
   "outputs": [],
   "source": [
    "new_lbl = [str(a) + '_' + str(b) for a, b in zip(lbl.astype('uint32'), np.concatenate([np.ones(500000).astype('uint32') * i for i in range(2)]))]\n",
    "unq_l = np.unique(new_lbl)\n",
    "lbl_map = {str_l: i for str_l, i in zip(unq_l, np.arange(len(unq_l)))}\n",
    "new_lbl = [lbl_map[s] for s in new_lbl]"
   ]
  },
  {
   "cell_type": "code",
   "execution_count": 7,
   "metadata": {},
   "outputs": [],
   "source": [
    "kf = StratifiedKFold(n_splits=5, shuffle=True, random_state=42)"
   ]
  },
  {
   "cell_type": "code",
   "execution_count": 8,
   "metadata": {},
   "outputs": [
    {
     "ename": "NameError",
     "evalue": "name 'x_trn' is not defined",
     "output_type": "error",
     "traceback": [
      "\u001b[0;31m---------------------------------------------------------------------------\u001b[0m",
      "\u001b[0;31mNameError\u001b[0m                                 Traceback (most recent call last)",
      "\u001b[0;32m<ipython-input-8-4224afd45b41>\u001b[0m in \u001b[0;36m<module>\u001b[0;34m\u001b[0m\n\u001b[0;32m----> 1\u001b[0;31m \u001b[0;32mdel\u001b[0m \u001b[0mx_trn\u001b[0m\u001b[0;34m,\u001b[0m \u001b[0mx_vld\u001b[0m\u001b[0;34m,\u001b[0m \u001b[0my_trn\u001b[0m\u001b[0;34m,\u001b[0m \u001b[0my_vld\u001b[0m\u001b[0;34m\u001b[0m\u001b[0;34m\u001b[0m\u001b[0m\n\u001b[0m\u001b[1;32m      2\u001b[0m \u001b[0mgc\u001b[0m\u001b[0;34m.\u001b[0m\u001b[0mcollect\u001b[0m\u001b[0;34m(\u001b[0m\u001b[0;34m)\u001b[0m\u001b[0;34m\u001b[0m\u001b[0;34m\u001b[0m\u001b[0m\n",
      "\u001b[0;31mNameError\u001b[0m: name 'x_trn' is not defined"
     ]
    }
   ],
   "source": [
    "del x_trn, x_vld, y_trn, y_vld\n",
    "gc.collect()"
   ]
  },
  {
   "cell_type": "code",
   "execution_count": 9,
   "metadata": {},
   "outputs": [],
   "source": [
    "for fold, (trn_ndcs, vld_ndcs) in enumerate(kf.split(dat, lbl)):\n",
    "    if fold == 4:\n",
    "        x_trn, x_vld = dat[trn_ndcs], dat[vld_ndcs]\n",
    "        y_trn, y_vld = lbl[trn_ndcs], lbl[vld_ndcs]\n",
    "        break\n",
    "    #trn_set = lgb.Dataset(x_trn, y_trn)\n",
    "    #vld_set = lgb.Dataset(x_vld, y_vld)"
   ]
  },
  {
   "cell_type": "code",
   "execution_count": 10,
   "metadata": {},
   "outputs": [],
   "source": [
    "params = {\n",
    "    \"boosting\": \"gbdt\",\n",
    "    \"metric\": 'rmse',\n",
    "    'objective': 'regression',\n",
    "    'random_state': 236,\n",
    "    'num_leaves': 280,\n",
    "    'learning_rate': 0.026623466966581126,\n",
    "    'max_depth': 80,\n",
    "    'reg_alpha': 2.959759088169741, # L1\n",
    "    'reg_lambda': 1.331172832164913, # L2\n",
    "    \"bagging_fraction\": 0.9655406551472153,\n",
    "    \"bagging_freq\": 9,\n",
    "    'colsample_bytree': 0.6867118652742716\n",
    "}"
   ]
  },
  {
   "cell_type": "code",
   "execution_count": 11,
   "metadata": {},
   "outputs": [
    {
     "name": "stdout",
     "output_type": "stream",
     "text": [
      "Training until validation scores don't improve for 100 rounds\n",
      "[50]\tvalid_0's rmse: 1.30589\n",
      "[100]\tvalid_0's rmse: 1.23554\n",
      "[150]\tvalid_0's rmse: 1.19154\n",
      "[200]\tvalid_0's rmse: 1.1618\n",
      "[250]\tvalid_0's rmse: 1.13979\n",
      "[300]\tvalid_0's rmse: 1.12171\n",
      "[350]\tvalid_0's rmse: 1.10743\n",
      "[400]\tvalid_0's rmse: 1.09467\n",
      "[450]\tvalid_0's rmse: 1.08404\n",
      "[500]\tvalid_0's rmse: 1.07462\n",
      "[550]\tvalid_0's rmse: 1.06648\n",
      "[600]\tvalid_0's rmse: 1.05887\n",
      "[650]\tvalid_0's rmse: 1.05189\n",
      "[700]\tvalid_0's rmse: 1.04574\n",
      "[750]\tvalid_0's rmse: 1.03986\n",
      "[800]\tvalid_0's rmse: 1.03426\n"
     ]
    },
    {
     "ename": "KeyboardInterrupt",
     "evalue": "",
     "output_type": "error",
     "traceback": [
      "\u001b[0;31m---------------------------------------------------------------------------\u001b[0m",
      "\u001b[0;31mKeyboardInterrupt\u001b[0m                         Traceback (most recent call last)",
      "\u001b[0;32m<ipython-input-11-8bbadbbed0be>\u001b[0m in \u001b[0;36m<module>\u001b[0;34m\u001b[0m\n\u001b[1;32m      1\u001b[0m \u001b[0;31m# model = lgb.train(params, trn_set, num_boost_round=10000, early_stopping_rounds=100, valid_sets=[vld_set], verbose_eval=50)\u001b[0m\u001b[0;34m\u001b[0m\u001b[0;34m\u001b[0m\u001b[0;34m\u001b[0m\u001b[0m\n\u001b[1;32m      2\u001b[0m \u001b[0mmodel\u001b[0m \u001b[0;34m=\u001b[0m \u001b[0mlgb\u001b[0m\u001b[0;34m.\u001b[0m\u001b[0mLGBMRegressor\u001b[0m\u001b[0;34m(\u001b[0m\u001b[0;34m**\u001b[0m\u001b[0mparams\u001b[0m\u001b[0;34m,\u001b[0m \u001b[0mn_estimators\u001b[0m\u001b[0;34m=\u001b[0m\u001b[0;36m10000\u001b[0m\u001b[0;34m,\u001b[0m \u001b[0mn_jobs\u001b[0m\u001b[0;34m=\u001b[0m\u001b[0;36m14\u001b[0m\u001b[0;34m)\u001b[0m\u001b[0;34m\u001b[0m\u001b[0;34m\u001b[0m\u001b[0m\n\u001b[0;32m----> 3\u001b[0;31m \u001b[0mmodel\u001b[0m\u001b[0;34m.\u001b[0m\u001b[0mfit\u001b[0m\u001b[0;34m(\u001b[0m\u001b[0mX\u001b[0m\u001b[0;34m=\u001b[0m\u001b[0mx_trn\u001b[0m\u001b[0;34m,\u001b[0m \u001b[0my\u001b[0m\u001b[0;34m=\u001b[0m\u001b[0my_trn\u001b[0m\u001b[0;34m,\u001b[0m \u001b[0meval_set\u001b[0m\u001b[0;34m=\u001b[0m\u001b[0;34m[\u001b[0m\u001b[0;34m(\u001b[0m\u001b[0mx_vld\u001b[0m\u001b[0;34m,\u001b[0m \u001b[0my_vld\u001b[0m\u001b[0;34m)\u001b[0m\u001b[0;34m]\u001b[0m\u001b[0;34m,\u001b[0m \u001b[0meval_metric\u001b[0m\u001b[0;34m=\u001b[0m\u001b[0;34m'rmse'\u001b[0m\u001b[0;34m,\u001b[0m \u001b[0mverbose\u001b[0m\u001b[0;34m=\u001b[0m\u001b[0;36m50\u001b[0m\u001b[0;34m,\u001b[0m \u001b[0mearly_stopping_rounds\u001b[0m\u001b[0;34m=\u001b[0m\u001b[0;36m100\u001b[0m\u001b[0;34m)\u001b[0m\u001b[0;34m\u001b[0m\u001b[0;34m\u001b[0m\u001b[0m\n\u001b[0m",
      "\u001b[0;32m~/miniconda3/envs/ML/lib/python3.7/site-packages/lightgbm/sklearn.py\u001b[0m in \u001b[0;36mfit\u001b[0;34m(self, X, y, sample_weight, init_score, eval_set, eval_names, eval_sample_weight, eval_init_score, eval_metric, early_stopping_rounds, verbose, feature_name, categorical_feature, callbacks)\u001b[0m\n\u001b[1;32m    741\u001b[0m                                        \u001b[0mverbose\u001b[0m\u001b[0;34m=\u001b[0m\u001b[0mverbose\u001b[0m\u001b[0;34m,\u001b[0m \u001b[0mfeature_name\u001b[0m\u001b[0;34m=\u001b[0m\u001b[0mfeature_name\u001b[0m\u001b[0;34m,\u001b[0m\u001b[0;34m\u001b[0m\u001b[0;34m\u001b[0m\u001b[0m\n\u001b[1;32m    742\u001b[0m                                        \u001b[0mcategorical_feature\u001b[0m\u001b[0;34m=\u001b[0m\u001b[0mcategorical_feature\u001b[0m\u001b[0;34m,\u001b[0m\u001b[0;34m\u001b[0m\u001b[0;34m\u001b[0m\u001b[0m\n\u001b[0;32m--> 743\u001b[0;31m                                        callbacks=callbacks)\n\u001b[0m\u001b[1;32m    744\u001b[0m         \u001b[0;32mreturn\u001b[0m \u001b[0mself\u001b[0m\u001b[0;34m\u001b[0m\u001b[0;34m\u001b[0m\u001b[0m\n\u001b[1;32m    745\u001b[0m \u001b[0;34m\u001b[0m\u001b[0m\n",
      "\u001b[0;32m~/miniconda3/envs/ML/lib/python3.7/site-packages/lightgbm/sklearn.py\u001b[0m in \u001b[0;36mfit\u001b[0;34m(self, X, y, sample_weight, init_score, group, eval_set, eval_names, eval_sample_weight, eval_class_weight, eval_init_score, eval_group, eval_metric, early_stopping_rounds, verbose, feature_name, categorical_feature, callbacks)\u001b[0m\n\u001b[1;32m    598\u001b[0m                               \u001b[0mverbose_eval\u001b[0m\u001b[0;34m=\u001b[0m\u001b[0mverbose\u001b[0m\u001b[0;34m,\u001b[0m \u001b[0mfeature_name\u001b[0m\u001b[0;34m=\u001b[0m\u001b[0mfeature_name\u001b[0m\u001b[0;34m,\u001b[0m\u001b[0;34m\u001b[0m\u001b[0;34m\u001b[0m\u001b[0m\n\u001b[1;32m    599\u001b[0m                               \u001b[0mcategorical_feature\u001b[0m\u001b[0;34m=\u001b[0m\u001b[0mcategorical_feature\u001b[0m\u001b[0;34m,\u001b[0m\u001b[0;34m\u001b[0m\u001b[0;34m\u001b[0m\u001b[0m\n\u001b[0;32m--> 600\u001b[0;31m                               callbacks=callbacks)\n\u001b[0m\u001b[1;32m    601\u001b[0m \u001b[0;34m\u001b[0m\u001b[0m\n\u001b[1;32m    602\u001b[0m         \u001b[0;32mif\u001b[0m \u001b[0mevals_result\u001b[0m\u001b[0;34m:\u001b[0m\u001b[0;34m\u001b[0m\u001b[0;34m\u001b[0m\u001b[0m\n",
      "\u001b[0;32m~/miniconda3/envs/ML/lib/python3.7/site-packages/lightgbm/engine.py\u001b[0m in \u001b[0;36mtrain\u001b[0;34m(params, train_set, num_boost_round, valid_sets, valid_names, fobj, feval, init_model, feature_name, categorical_feature, early_stopping_rounds, evals_result, verbose_eval, learning_rates, keep_training_booster, callbacks)\u001b[0m\n\u001b[1;32m    247\u001b[0m                                     evaluation_result_list=None))\n\u001b[1;32m    248\u001b[0m \u001b[0;34m\u001b[0m\u001b[0m\n\u001b[0;32m--> 249\u001b[0;31m         \u001b[0mbooster\u001b[0m\u001b[0;34m.\u001b[0m\u001b[0mupdate\u001b[0m\u001b[0;34m(\u001b[0m\u001b[0mfobj\u001b[0m\u001b[0;34m=\u001b[0m\u001b[0mfobj\u001b[0m\u001b[0;34m)\u001b[0m\u001b[0;34m\u001b[0m\u001b[0;34m\u001b[0m\u001b[0m\n\u001b[0m\u001b[1;32m    250\u001b[0m \u001b[0;34m\u001b[0m\u001b[0m\n\u001b[1;32m    251\u001b[0m         \u001b[0mevaluation_result_list\u001b[0m \u001b[0;34m=\u001b[0m \u001b[0;34m[\u001b[0m\u001b[0;34m]\u001b[0m\u001b[0;34m\u001b[0m\u001b[0;34m\u001b[0m\u001b[0m\n",
      "\u001b[0;32m~/miniconda3/envs/ML/lib/python3.7/site-packages/lightgbm/basic.py\u001b[0m in \u001b[0;36mupdate\u001b[0;34m(self, train_set, fobj)\u001b[0m\n\u001b[1;32m   1974\u001b[0m             _safe_call(_LIB.LGBM_BoosterUpdateOneIter(\n\u001b[1;32m   1975\u001b[0m                 \u001b[0mself\u001b[0m\u001b[0;34m.\u001b[0m\u001b[0mhandle\u001b[0m\u001b[0;34m,\u001b[0m\u001b[0;34m\u001b[0m\u001b[0;34m\u001b[0m\u001b[0m\n\u001b[0;32m-> 1976\u001b[0;31m                 ctypes.byref(is_finished)))\n\u001b[0m\u001b[1;32m   1977\u001b[0m             \u001b[0mself\u001b[0m\u001b[0;34m.\u001b[0m\u001b[0m__is_predicted_cur_iter\u001b[0m \u001b[0;34m=\u001b[0m \u001b[0;34m[\u001b[0m\u001b[0;32mFalse\u001b[0m \u001b[0;32mfor\u001b[0m \u001b[0m_\u001b[0m \u001b[0;32min\u001b[0m \u001b[0mrange_\u001b[0m\u001b[0;34m(\u001b[0m\u001b[0mself\u001b[0m\u001b[0;34m.\u001b[0m\u001b[0m__num_dataset\u001b[0m\u001b[0;34m)\u001b[0m\u001b[0;34m]\u001b[0m\u001b[0;34m\u001b[0m\u001b[0;34m\u001b[0m\u001b[0m\n\u001b[1;32m   1978\u001b[0m             \u001b[0;32mreturn\u001b[0m \u001b[0mis_finished\u001b[0m\u001b[0;34m.\u001b[0m\u001b[0mvalue\u001b[0m \u001b[0;34m==\u001b[0m \u001b[0;36m1\u001b[0m\u001b[0;34m\u001b[0m\u001b[0;34m\u001b[0m\u001b[0m\n",
      "\u001b[0;31mKeyboardInterrupt\u001b[0m: "
     ]
    }
   ],
   "source": [
    "# model = lgb.train(params, trn_set, num_boost_round=10000, early_stopping_rounds=100, valid_sets=[vld_set], verbose_eval=50)\n",
    "model = lgb.LGBMRegressor(**params, n_estimators=10000, n_jobs=14)\n",
    "model.fit(X=x_trn, y=y_trn, eval_set=[(x_vld, y_vld)], eval_metric='rmse', verbose=50, early_stopping_rounds=100)"
   ]
  },
  {
   "cell_type": "code",
   "execution_count": 36,
   "metadata": {},
   "outputs": [
    {
     "data": {
      "text/plain": [
       "['./saved_models/lgbm_feats_origv2_myw500_fld4.pkl']"
      ]
     },
     "execution_count": 36,
     "metadata": {},
     "output_type": "execute_result"
    }
   ],
   "source": [
    "joblib.dump(model, './saved_models/lgbm_feats_origv2_myw500_fld{:d}.pkl'.format(fold))"
   ]
  },
  {
   "cell_type": "raw",
   "metadata": {},
   "source": [
    "# model = lgb.train(params, trn_set, num_boost_round=10000, early_stopping_rounds=100, valid_sets=[vld_set], verbose_eval=50)\n",
    "model = lgb.LGBMRegressor(**params, n_estimators=10000, n_jobs=12)\n",
    "model.fit(X=g4_feats, y=g4_lbls, eval_set=[(g9_feats, g9_lbls)], eval_metric='rmse', verbose=50, early_stopping_rounds=100)"
   ]
  },
  {
   "cell_type": "raw",
   "metadata": {},
   "source": [
    "(0, 1), (2, 6), (3, 7), (5, 8), (4, 9)"
   ]
  },
  {
   "cell_type": "code",
   "execution_count": 11,
   "metadata": {},
   "outputs": [
    {
     "name": "stdout",
     "output_type": "stream",
     "text": [
      "0.7926824715745228\n"
     ]
    }
   ],
   "source": [
    "vld_pred = model.predict(x_vld, num_iteration=model.best_iteration_)\n",
    "vld_pred = np.round(np.clip(vld_pred, 0, 10)).astype(int)\n",
    "f1 = metrics.f1_score(y_vld.astype(int), vld_pred, average = 'macro')\n",
    "print(f1)"
   ]
  },
  {
   "cell_type": "raw",
   "metadata": {},
   "source": [
    "group 4, 9"
   ]
  },
  {
   "cell_type": "raw",
   "metadata": {},
   "source": [
    "0.9394773018394715 (fold 4)\n",
    "0.9398062450421517 (fold 3)\n",
    "0.9389817088297328 (fold 2)\n",
    "0.9400120535887915 (fold 1)\n",
    "0.9397329561928668 (w500 fold 0)\n",
    "0.9394258281037108 (fold 4)\n",
    "0.9397230231477983 (fold 3)\n",
    "0.939092208213562 (fold 2)\n",
    "0.9401629671471444 (fold 1)\n",
    "0.9398285315646574\n",
    "0.9396419066068368\n",
    "0.9394454786488392\n",
    "0.934983763304277"
   ]
  },
  {
   "cell_type": "code",
   "execution_count": 14,
   "metadata": {},
   "outputs": [],
   "source": [
    "del x_trn, x_vld, y_trn, y_vld"
   ]
  },
  {
   "cell_type": "code",
   "execution_count": 17,
   "metadata": {},
   "outputs": [],
   "source": [
    "# g0_dat, g0_lbl = dat[batch_id_trn[0]], lbl[batch_id_trn[0]]\n",
    "del g0_dat, g0_lbl"
   ]
  },
  {
   "cell_type": "code",
   "execution_count": 16,
   "metadata": {},
   "outputs": [
    {
     "name": "stdout",
     "output_type": "stream",
     "text": [
      "0.6651485865682973\n"
     ]
    }
   ],
   "source": [
    "vld_pred_g0= model.predict(g0_dat, num_iteration=model.best_iteration_)\n",
    "vld_pred_g0 = np.round(np.clip(vld_pred_g0, 0, 10)).astype(int)\n",
    "f1_g0 = metrics.f1_score(g0_lbl.astype(int), vld_pred_g0, average = 'macro')\n",
    "print(f1_g0)"
   ]
  },
  {
   "cell_type": "raw",
   "metadata": {},
   "source": [
    "0.6651485865682973 (fold 1)\n",
    "0.6651058880453884\n",
    "0.9968903682469297\n",
    "0.6649385280200172\n",
    "-"
   ]
  },
  {
   "cell_type": "code",
   "execution_count": 20,
   "metadata": {},
   "outputs": [],
   "source": [
    "# g1_dat, g1_lbl = dat[batch_id_trn[1]], lbl[batch_id_trn[1]]\n",
    "del g1_dat, g1_lbl"
   ]
  },
  {
   "cell_type": "code",
   "execution_count": 19,
   "metadata": {},
   "outputs": [
    {
     "name": "stdout",
     "output_type": "stream",
     "text": [
      "0.9970837314032912\n"
     ]
    }
   ],
   "source": [
    "vld_pred_g1= model.predict(g1_dat, num_iteration=model.best_iteration_)\n",
    "vld_pred_g1 = np.round(np.clip(vld_pred_g1, 0, 10)).astype(int)\n",
    "f1_g1 = metrics.f1_score(g1_lbl.astype(int), vld_pred_g1, average = 'macro')\n",
    "print(f1_g1)"
   ]
  },
  {
   "cell_type": "raw",
   "metadata": {},
   "source": [
    "0.9970837314032912 (fold 1)\n",
    "0.9970572911803073\n",
    "0.9968424553280641\n",
    "0.9968829962401913\n",
    "-"
   ]
  },
  {
   "cell_type": "code",
   "execution_count": 23,
   "metadata": {},
   "outputs": [],
   "source": [
    "# g2_dat, g2_lbl = dat[batch_id_trn[2]], lbl[batch_id_trn[2]]\n",
    "del g2_dat, g2_lbl"
   ]
  },
  {
   "cell_type": "code",
   "execution_count": 22,
   "metadata": {},
   "outputs": [
    {
     "name": "stdout",
     "output_type": "stream",
     "text": [
      "0.6647289234525314\n"
     ]
    }
   ],
   "source": [
    "vld_pred_g2= model.predict(g2_dat, num_iteration=model.best_iteration_)\n",
    "vld_pred_g2 = np.round(np.clip(vld_pred_g2, 0, 10)).astype(int)\n",
    "f1_g2 = metrics.f1_score(g2_lbl.astype(int), vld_pred_g2, average = 'macro')\n",
    "print(f1_g2)"
   ]
  },
  {
   "cell_type": "raw",
   "metadata": {},
   "source": [
    "0.6647289234525314 (fold 1)\n",
    "0.9970930059707095\n",
    "0.6646538107371066\n",
    "0.9969891438044296\n",
    "0.6647126573075317"
   ]
  },
  {
   "cell_type": "code",
   "execution_count": 26,
   "metadata": {},
   "outputs": [],
   "source": [
    "# g3_dat, g3_lbl = dat[batch_id_trn[3]], lbl[batch_id_trn[3]]\n",
    "del g3_dat, g3_lbl"
   ]
  },
  {
   "cell_type": "code",
   "execution_count": 25,
   "metadata": {},
   "outputs": [
    {
     "name": "stdout",
     "output_type": "stream",
     "text": [
      "0.7901239867368004\n"
     ]
    }
   ],
   "source": [
    "vld_pred_g3= model.predict(g3_dat, num_iteration=model.best_iteration_)\n",
    "vld_pred_g3 = np.round(np.clip(vld_pred_g3, 0, 10)).astype(int)\n",
    "f1_g3 = metrics.f1_score(g3_lbl.astype(int), vld_pred_g3, average = 'macro')\n",
    "print(f1_g3)"
   ]
  },
  {
   "cell_type": "raw",
   "metadata": {},
   "source": [
    "0.7901239867368004 (fold 1)\n",
    "0.790023307266011\n",
    "0.9868084651120028\n",
    "0.9870350237200967\n",
    "0.986656035463432"
   ]
  },
  {
   "cell_type": "code",
   "execution_count": 29,
   "metadata": {},
   "outputs": [],
   "source": [
    "# g4_dat, g4_lbl = dat[batch_id_trn[4]], lbl[batch_id_trn[4]]\n",
    "del g4_dat, g4_lbl"
   ]
  },
  {
   "cell_type": "code",
   "execution_count": 28,
   "metadata": {},
   "outputs": [
    {
     "name": "stdout",
     "output_type": "stream",
     "text": [
      "0.8373076786675838\n"
     ]
    }
   ],
   "source": [
    "vld_pred_g4= model.predict(g4_dat, num_iteration=model.best_iteration_)\n",
    "vld_pred_g4 = np.round(np.clip(vld_pred_g4, 0, 10)).astype(int)\n",
    "f1_g4 = metrics.f1_score(g4_lbl.astype(int), vld_pred_g4, average = 'macro')\n",
    "print(f1_g4)"
   ]
  },
  {
   "cell_type": "raw",
   "metadata": {},
   "source": [
    "0.8373076786675838 (fold 1)\n",
    "0.836381171231377\n",
    "0.8212875579648767\n",
    "0.8260337236356086\n",
    "0.8942446664286391"
   ]
  },
  {
   "cell_type": "code",
   "execution_count": 32,
   "metadata": {},
   "outputs": [],
   "source": [
    "# g5_dat, g5_lbl = dat[batch_id_trn[5]], lbl[batch_id_trn[5]]\n",
    "del g5_dat, g5_lbl"
   ]
  },
  {
   "cell_type": "code",
   "execution_count": 31,
   "metadata": {},
   "outputs": [
    {
     "name": "stdout",
     "output_type": "stream",
     "text": [
      "0.9749530604325839\n"
     ]
    }
   ],
   "source": [
    "vld_pred_g5= model.predict(g5_dat, num_iteration=model.best_iteration_)\n",
    "vld_pred_g5 = np.round(np.clip(vld_pred_g5, 0, 10)).astype(int)\n",
    "f1_g5 = metrics.f1_score(g5_lbl.astype(int), vld_pred_g5, average = 'macro')\n",
    "print(f1_g5)"
   ]
  },
  {
   "cell_type": "raw",
   "metadata": {},
   "source": [
    "0.9749530604325839 (fold 1)\n",
    "0.9744358048889571\n",
    "0.9736932581052553\n",
    "0.973730327589147\n",
    "0.9732927691543368"
   ]
  },
  {
   "cell_type": "code",
   "execution_count": 35,
   "metadata": {},
   "outputs": [],
   "source": [
    "# g6_dat, g6_lbl = dat[batch_id_trn[6]], lbl[batch_id_trn[6]]\n",
    "del g6_dat, g6_lbl"
   ]
  },
  {
   "cell_type": "code",
   "execution_count": 34,
   "metadata": {},
   "outputs": [
    {
     "name": "stdout",
     "output_type": "stream",
     "text": [
      "0.6646614145124898\n"
     ]
    }
   ],
   "source": [
    "vld_pred_g6= model.predict(g6_dat, num_iteration=model.best_iteration_)\n",
    "vld_pred_g6 = np.round(np.clip(vld_pred_g6, 0, 10)).astype(int)\n",
    "f1_g6 = metrics.f1_score(g6_lbl.astype(int), vld_pred_g6, average = 'macro')\n",
    "print(f1_g6)"
   ]
  },
  {
   "cell_type": "raw",
   "metadata": {},
   "source": [
    "0.6646614145124898 (fold 1)\n",
    "0.9970213174417375\n",
    "0.9966063601403695\n",
    "0.6645403771422551\n",
    "0.6646888239380492"
   ]
  },
  {
   "cell_type": "code",
   "execution_count": 38,
   "metadata": {},
   "outputs": [],
   "source": [
    "# g7_dat, g7_lbl = dat[batch_id_trn[7]], lbl[batch_id_trn[7]]\n",
    "del g7_dat, g7_lbl"
   ]
  },
  {
   "cell_type": "code",
   "execution_count": 37,
   "metadata": {},
   "outputs": [
    {
     "name": "stdout",
     "output_type": "stream",
     "text": [
      "0.779383838259999\n"
     ]
    }
   ],
   "source": [
    "vld_pred_g7 = model.predict(g7_dat, num_iteration=model.best_iteration_)\n",
    "vld_pred_g7 = np.round(np.clip(vld_pred_g7, 0, 10)).astype(int)\n",
    "f1_g7 = metrics.f1_score(g7_lbl.astype(int), vld_pred_g7, average = 'macro')\n",
    "print(f1_g7)"
   ]
  },
  {
   "cell_type": "raw",
   "metadata": {},
   "source": [
    "0.779383838259999 (fold 1)\n",
    "0.974272340959383\n",
    "0.7780210018430778\n",
    "0.9726543249924238\n",
    "0.9729210756681197"
   ]
  },
  {
   "cell_type": "code",
   "execution_count": 41,
   "metadata": {},
   "outputs": [],
   "source": [
    "# g8_dat, g8_lbl = dat[batch_id_trn[8]], lbl[batch_id_trn[8]]\n",
    "del g8_dat, g8_lbl"
   ]
  },
  {
   "cell_type": "code",
   "execution_count": 40,
   "metadata": {},
   "outputs": [
    {
     "name": "stdout",
     "output_type": "stream",
     "text": [
      "0.9750107890468044\n"
     ]
    }
   ],
   "source": [
    "vld_pred_g8 = model.predict(g8_dat, num_iteration=model.best_iteration_)\n",
    "vld_pred_g8 = np.round(np.clip(vld_pred_g8, 0, 10)).astype(int)\n",
    "f1_g8 = metrics.f1_score(g8_lbl.astype(int), vld_pred_g8, average = 'macro')\n",
    "print(f1_g8)"
   ]
  },
  {
   "cell_type": "raw",
   "metadata": {},
   "source": [
    "0.9750107890468044 (fold 1)\n",
    "0.9749613307501521\n",
    "0.9749084848835565\n",
    "0.9737512339455049\n",
    "0.9756024481983628"
   ]
  },
  {
   "cell_type": "code",
   "execution_count": 42,
   "metadata": {},
   "outputs": [],
   "source": [
    "g9_dat, g9_lbl = dat[batch_id_trn[9]], lbl[batch_id_trn[9]]\n",
    "# del g9_dat, g9_lbl"
   ]
  },
  {
   "cell_type": "code",
   "execution_count": 43,
   "metadata": {},
   "outputs": [
    {
     "name": "stdout",
     "output_type": "stream",
     "text": [
      "0.9159880733912752\n"
     ]
    }
   ],
   "source": [
    "vld_pred_g9 = model.predict(g9_dat, num_iteration=model.best_iteration_)\n",
    "vld_pred_g9 = np.round(np.clip(vld_pred_g9, 0, 10)).astype(int)\n",
    "f1_g9 = metrics.f1_score(g9_lbl.astype(int), vld_pred_g9, average = 'macro')\n",
    "print(f1_g9)"
   ]
  },
  {
   "cell_type": "raw",
   "metadata": {},
   "source": [
    "0.9159880733912752 (fold 1)\n",
    "0.9157437281095564\n",
    "0.8977718030245324\n",
    "0.9068700614535483\n",
    "0.9147493146748186"
   ]
  },
  {
   "cell_type": "markdown",
   "metadata": {},
   "source": [
    "### inference for submission"
   ]
  },
  {
   "cell_type": "code",
   "execution_count": 6,
   "metadata": {},
   "outputs": [
    {
     "data": {
      "text/plain": [
       "['tst_dat_all_w500.bp']"
      ]
     },
     "execution_count": 6,
     "metadata": {},
     "output_type": "execute_result"
    }
   ],
   "source": [
    "tst_fs_w500"
   ]
  },
  {
   "cell_type": "code",
   "execution_count": 7,
   "metadata": {},
   "outputs": [],
   "source": [
    "# tst_fs_w500 = sorted([f for f in os.listdir('../input/feats_tblr') if ('tst_dat' in f) and ('w500' in f)])\n",
    "# tst_fs_w500 = [tst_fs_w500[i] for i in [0, 11, 12, 13, 14, 15, 16, 17, 18, 19]] + tst_fs_w500[1:11]\n",
    "# tst_fs_w500 = np.concatenate(\n",
    "#     [\n",
    "#         bp.unpack_ndarray_from_file(os.path.join('../input/feats_tblr', f)) for f in tst_fs_w500\n",
    "#     ],\n",
    "#     0\n",
    "# )\n",
    "\n",
    "tst_fs_w500 = bp.unpack_ndarray_from_file(os.path.join('../input/feats_tblr/', 'tst_dat_all_w500.bp'))\n",
    "\n",
    "tst_dat_orig = pd.read_pickle(os.path.join('../input/feats_tblr', 'tst_dat_orig_v2_all.pkl'))\n",
    "tst_dat_orig = tst_dat_orig.loc[:, [c for c in tst_dat_orig.columns if c not in ('time', 'batch', 'open_channels')]]\n",
    "\n",
    "tst_dat = np.concatenate([tst_dat_orig, tst_fs_w500], axis=1)"
   ]
  },
  {
   "cell_type": "code",
   "execution_count": 8,
   "metadata": {},
   "outputs": [],
   "source": [
    "submission = pd.read_csv('../input/sample_submission.csv', dtype={'time': str, 'open_channels': 'Int64'})"
   ]
  },
  {
   "cell_type": "code",
   "execution_count": 9,
   "metadata": {},
   "outputs": [],
   "source": [
    "for fld in range(5):\n",
    "    mdl = joblib.load('./saved_models/lgbm_feats_origv2_myw500_fld{:d}.pkl'.format(fld))\n",
    "    if fld == 0:\n",
    "        predictions = mdl.predict(tst_dat, num_iteration=mdl.best_iteration_)\n",
    "    else:\n",
    "        predictions += mdl.predict(tst_dat, num_iteration=mdl.best_iteration_)"
   ]
  },
  {
   "cell_type": "code",
   "execution_count": 11,
   "metadata": {},
   "outputs": [
    {
     "data": {
      "text/plain": [
       "50.47457739798004"
      ]
     },
     "execution_count": 11,
     "metadata": {},
     "output_type": "execute_result"
    }
   ],
   "source": [
    "predictions.max()"
   ]
  },
  {
   "cell_type": "code",
   "execution_count": 12,
   "metadata": {},
   "outputs": [],
   "source": [
    "predictions_sub = np.round(np.clip(predictions / 5, 0, 10)).astype(int)"
   ]
  },
  {
   "cell_type": "code",
   "execution_count": 13,
   "metadata": {},
   "outputs": [],
   "source": [
    "submission['open_channels'] = predictions_sub"
   ]
  },
  {
   "cell_type": "code",
   "execution_count": 14,
   "metadata": {},
   "outputs": [],
   "source": [
    "submission.to_csv(\"../submissions/sub_lgbm_origv2_w500feats_cvbygroupandclass.csv\", index=False)"
   ]
  }
 ],
 "metadata": {
  "kernelspec": {
   "display_name": "Python 3",
   "language": "python",
   "name": "python3"
  },
  "language_info": {
   "codemirror_mode": {
    "name": "ipython",
    "version": 3
   },
   "file_extension": ".py",
   "mimetype": "text/x-python",
   "name": "python",
   "nbconvert_exporter": "python",
   "pygments_lexer": "ipython3",
   "version": "3.7.6"
  }
 },
 "nbformat": 4,
 "nbformat_minor": 4
}
