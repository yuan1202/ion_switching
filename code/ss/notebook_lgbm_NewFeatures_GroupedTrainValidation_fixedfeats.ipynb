{
 "cells": [
  {
   "cell_type": "code",
   "execution_count": 1,
   "metadata": {},
   "outputs": [],
   "source": [
    "import os\n",
    "import joblib\n",
    "import math\n",
    "import warnings\n",
    "import gc\n",
    "warnings.filterwarnings('ignore')\n",
    "from tqdm import tqdm\n",
    "import pickle\n",
    "\n",
    "import bloscpack as bp\n",
    "\n",
    "import numpy as np \n",
    "import pandas as pd\n",
    "\n",
    "import matplotlib.pyplot as plt\n",
    "import seaborn as sns\n",
    "\n",
    "import lightgbm as lgb\n",
    "from sklearn.model_selection import GroupKFold, StratifiedKFold, train_test_split, RepeatedStratifiedKFold\n",
    "from sklearn import metrics\n",
    "\n",
    "pd.set_option('display.max_columns', 10000)\n",
    "pd.set_option('display.max_rows', 10000)"
   ]
  },
  {
   "cell_type": "code",
   "execution_count": 2,
   "metadata": {},
   "outputs": [],
   "source": [
    "with open('../input/batch_ids_trn.pkl', 'rb') as f:\n",
    "    batch_id_trn = pickle.load(f)\n",
    "with open('../input/batch_ids_tst.pkl', 'rb') as f:\n",
    "    batch_id_tst = pickle.load(f)"
   ]
  },
  {
   "cell_type": "code",
   "execution_count": 3,
   "metadata": {},
   "outputs": [],
   "source": [
    "dat_w500 = bp.unpack_ndarray_from_file('../input/feats_tblr/trn_dat_all_w500_fixed.bp')\n",
    "lbl_w200 = bp.unpack_ndarray_from_file('../input/feats_tblr/trn_lbl_all_w200.bp')\n",
    "\n",
    "dat_orig = pd.read_pickle('../input/feats_tblr/trn_dat_orig_v2_all.pkl')\n",
    "lbl_orig = pd.read_pickle('../input/feats_tblr/trn_lbl_orig_v2_all.pkl')\n",
    "\n",
    "dat_orig = dat_orig.loc[:, [c for c in dat_orig.columns if c not in ('time', 'batch', 'open_channels')]]"
   ]
  },
  {
   "cell_type": "code",
   "execution_count": 4,
   "metadata": {},
   "outputs": [],
   "source": [
    "lbl = lbl_w200\n",
    "dat = np.concatenate([dat_orig, dat_w500], axis=1)\n",
    "del dat_orig, dat_w500"
   ]
  },
  {
   "cell_type": "code",
   "execution_count": 5,
   "metadata": {},
   "outputs": [],
   "source": [
    "new_lbl = [str(a) + '_' + str(b) for a, b in zip(lbl.astype('uint32'), np.concatenate([np.ones(500000).astype('uint32') * i for i in range(10)]))]\n",
    "unq_l = np.unique(new_lbl)\n",
    "lbl_map = {str_l: i for str_l, i in zip(unq_l, np.arange(len(unq_l)))}\n",
    "new_lbl = [lbl_map[s] for s in new_lbl]"
   ]
  },
  {
   "cell_type": "code",
   "execution_count": 6,
   "metadata": {},
   "outputs": [],
   "source": [
    "kf = StratifiedKFold(n_splits=5, shuffle=True, random_state=42)"
   ]
  },
  {
   "cell_type": "code",
   "execution_count": 32,
   "metadata": {},
   "outputs": [
    {
     "data": {
      "text/plain": [
       "70"
      ]
     },
     "execution_count": 32,
     "metadata": {},
     "output_type": "execute_result"
    }
   ],
   "source": [
    "del x_trn, x_vld, y_trn, y_vld\n",
    "gc.collect()"
   ]
  },
  {
   "cell_type": "code",
   "execution_count": 33,
   "metadata": {},
   "outputs": [],
   "source": [
    "for fold, (trn_ndcs, vld_ndcs) in enumerate(kf.split(dat, lbl)):\n",
    "    if fold == 4:\n",
    "        x_trn, x_vld = dat[trn_ndcs], dat[vld_ndcs]\n",
    "        y_trn, y_vld = lbl[trn_ndcs], lbl[vld_ndcs]\n",
    "        break\n",
    "    #trn_set = lgb.Dataset(x_trn, y_trn)\n",
    "    #vld_set = lgb.Dataset(x_vld, y_vld)"
   ]
  },
  {
   "cell_type": "code",
   "execution_count": 34,
   "metadata": {},
   "outputs": [],
   "source": [
    "params = {\n",
    "    \"boosting\": \"gbdt\",\n",
    "    \"metric\": 'rmse',\n",
    "    'objective': 'regression',\n",
    "    'random_state': 236,\n",
    "    'num_leaves': 280,\n",
    "    'learning_rate': 0.026623466966581126,\n",
    "    'max_depth': 80,\n",
    "    'reg_alpha': 2.959759088169741, # L1\n",
    "    'reg_lambda': 1.331172832164913, # L2\n",
    "    \"bagging_fraction\": 0.9655406551472153,\n",
    "    \"bagging_freq\": 9,\n",
    "    'colsample_bytree': 0.6867118652742716\n",
    "}"
   ]
  },
  {
   "cell_type": "code",
   "execution_count": 35,
   "metadata": {},
   "outputs": [
    {
     "name": "stdout",
     "output_type": "stream",
     "text": [
      "Training until validation scores don't improve for 100 rounds\n",
      "[50]\tvalid_0's rmse: 0.708414\n",
      "[100]\tvalid_0's rmse: 0.237627\n",
      "[150]\tvalid_0's rmse: 0.161821\n",
      "[200]\tvalid_0's rmse: 0.155014\n",
      "[250]\tvalid_0's rmse: 0.154253\n",
      "[300]\tvalid_0's rmse: 0.153986\n",
      "[350]\tvalid_0's rmse: 0.153813\n",
      "[400]\tvalid_0's rmse: 0.153685\n",
      "[450]\tvalid_0's rmse: 0.153571\n",
      "[500]\tvalid_0's rmse: 0.153488\n",
      "[550]\tvalid_0's rmse: 0.153422\n",
      "[600]\tvalid_0's rmse: 0.153365\n",
      "[650]\tvalid_0's rmse: 0.153315\n",
      "[700]\tvalid_0's rmse: 0.153277\n",
      "[750]\tvalid_0's rmse: 0.153233\n",
      "[800]\tvalid_0's rmse: 0.153201\n",
      "[850]\tvalid_0's rmse: 0.153171\n",
      "[900]\tvalid_0's rmse: 0.153144\n",
      "[950]\tvalid_0's rmse: 0.153113\n",
      "[1000]\tvalid_0's rmse: 0.153092\n",
      "[1050]\tvalid_0's rmse: 0.153076\n",
      "[1100]\tvalid_0's rmse: 0.153054\n",
      "[1150]\tvalid_0's rmse: 0.153036\n",
      "[1200]\tvalid_0's rmse: 0.153012\n",
      "[1250]\tvalid_0's rmse: 0.152996\n",
      "[1300]\tvalid_0's rmse: 0.152979\n",
      "[1350]\tvalid_0's rmse: 0.152967\n",
      "[1400]\tvalid_0's rmse: 0.152953\n",
      "[1450]\tvalid_0's rmse: 0.152939\n",
      "[1500]\tvalid_0's rmse: 0.152934\n",
      "[1550]\tvalid_0's rmse: 0.152931\n",
      "[1600]\tvalid_0's rmse: 0.152919\n",
      "[1650]\tvalid_0's rmse: 0.152911\n",
      "[1700]\tvalid_0's rmse: 0.152905\n",
      "[1750]\tvalid_0's rmse: 0.152902\n",
      "[1800]\tvalid_0's rmse: 0.152896\n",
      "[1850]\tvalid_0's rmse: 0.15289\n",
      "[1900]\tvalid_0's rmse: 0.152884\n",
      "[1950]\tvalid_0's rmse: 0.152877\n",
      "[2000]\tvalid_0's rmse: 0.152876\n",
      "[2050]\tvalid_0's rmse: 0.152874\n",
      "[2100]\tvalid_0's rmse: 0.152871\n",
      "[2150]\tvalid_0's rmse: 0.152867\n",
      "[2200]\tvalid_0's rmse: 0.152862\n",
      "[2250]\tvalid_0's rmse: 0.152859\n",
      "[2300]\tvalid_0's rmse: 0.152853\n",
      "[2350]\tvalid_0's rmse: 0.152849\n",
      "[2400]\tvalid_0's rmse: 0.152847\n",
      "[2450]\tvalid_0's rmse: 0.152844\n",
      "[2500]\tvalid_0's rmse: 0.152841\n",
      "[2550]\tvalid_0's rmse: 0.15284\n",
      "[2600]\tvalid_0's rmse: 0.152838\n",
      "Early stopping, best iteration is:\n",
      "[2528]\tvalid_0's rmse: 0.152836\n"
     ]
    },
    {
     "data": {
      "text/plain": [
       "LGBMRegressor(bagging_fraction=0.9655406551472153, bagging_freq=9,\n",
       "              boosting='gbdt', boosting_type='gbdt', class_weight=None,\n",
       "              colsample_bytree=0.6867118652742716, importance_type='split',\n",
       "              learning_rate=0.026623466966581126, max_depth=80, metric='rmse',\n",
       "              min_child_samples=20, min_child_weight=0.001, min_split_gain=0.0,\n",
       "              n_estimators=10000, n_jobs=14, num_leaves=280,\n",
       "              objective='regression', random_state=236,\n",
       "              reg_alpha=2.959759088169741, reg_lambda=1.331172832164913,\n",
       "              silent=True, subsample=1.0, subsample_for_bin=200000,\n",
       "              subsample_freq=0)"
      ]
     },
     "execution_count": 35,
     "metadata": {},
     "output_type": "execute_result"
    }
   ],
   "source": [
    "# model = lgb.train(params, trn_set, num_boost_round=10000, early_stopping_rounds=100, valid_sets=[vld_set], verbose_eval=50)\n",
    "model = lgb.LGBMRegressor(**params, n_estimators=10000, n_jobs=14)\n",
    "model.fit(X=x_trn, y=y_trn, eval_set=[(x_vld, y_vld)], eval_metric='rmse', verbose=50, early_stopping_rounds=100)"
   ]
  },
  {
   "cell_type": "code",
   "execution_count": 36,
   "metadata": {},
   "outputs": [
    {
     "data": {
      "text/plain": [
       "['./saved_models/lgbm_feats_origv2_myw500_fld4.pkl']"
      ]
     },
     "execution_count": 36,
     "metadata": {},
     "output_type": "execute_result"
    }
   ],
   "source": [
    "joblib.dump(model, './saved_models/lgbm_feats_origv2_myw500_fld{:d}.pkl'.format(fold))"
   ]
  },
  {
   "cell_type": "raw",
   "metadata": {},
   "source": [
    "# model = lgb.train(params, trn_set, num_boost_round=10000, early_stopping_rounds=100, valid_sets=[vld_set], verbose_eval=50)\n",
    "model = lgb.LGBMRegressor(**params, n_estimators=10000, n_jobs=12)\n",
    "model.fit(X=g4_feats, y=g4_lbls, eval_set=[(g9_feats, g9_lbls)], eval_metric='rmse', verbose=50, early_stopping_rounds=100)"
   ]
  },
  {
   "cell_type": "raw",
   "metadata": {},
   "source": [
    "(0, 1), (2, 6), (3, 7), (5, 8), (4, 9)"
   ]
  },
  {
   "cell_type": "code",
   "execution_count": 37,
   "metadata": {},
   "outputs": [
    {
     "name": "stdout",
     "output_type": "stream",
     "text": [
      "0.9394773018394715\n"
     ]
    }
   ],
   "source": [
    "vld_pred = model.predict(x_vld, num_iteration=model.best_iteration_)\n",
    "vld_pred = np.round(np.clip(vld_pred, 0, 10)).astype(int)\n",
    "f1 = metrics.f1_score(y_vld.astype(int), vld_pred, average = 'macro')\n",
    "print(f1)"
   ]
  },
  {
   "cell_type": "raw",
   "metadata": {},
   "source": [
    "0.9394773018394715 (fold 4)\n",
    "0.9398062450421517 (fold 3)\n",
    "0.9389817088297328 (fold 2)\n",
    "0.9400120535887915 (fold 1)\n",
    "0.9397329561928668 (w500 fold 0)\n",
    "0.9394258281037108 (fold 4)\n",
    "0.9397230231477983 (fold 3)\n",
    "0.939092208213562 (fold 2)\n",
    "0.9401629671471444 (fold 1)\n",
    "0.9398285315646574\n",
    "0.9396419066068368\n",
    "0.9394454786488392\n",
    "0.934983763304277"
   ]
  },
  {
   "cell_type": "code",
   "execution_count": 14,
   "metadata": {},
   "outputs": [],
   "source": [
    "del x_trn, x_vld, y_trn, y_vld"
   ]
  },
  {
   "cell_type": "code",
   "execution_count": 17,
   "metadata": {},
   "outputs": [],
   "source": [
    "# g0_dat, g0_lbl = dat[batch_id_trn[0]], lbl[batch_id_trn[0]]\n",
    "del g0_dat, g0_lbl"
   ]
  },
  {
   "cell_type": "code",
   "execution_count": 16,
   "metadata": {},
   "outputs": [
    {
     "name": "stdout",
     "output_type": "stream",
     "text": [
      "0.6651485865682973\n"
     ]
    }
   ],
   "source": [
    "vld_pred_g0= model.predict(g0_dat, num_iteration=model.best_iteration_)\n",
    "vld_pred_g0 = np.round(np.clip(vld_pred_g0, 0, 10)).astype(int)\n",
    "f1_g0 = metrics.f1_score(g0_lbl.astype(int), vld_pred_g0, average = 'macro')\n",
    "print(f1_g0)"
   ]
  },
  {
   "cell_type": "raw",
   "metadata": {},
   "source": [
    "0.6651485865682973 (fold 1)\n",
    "0.6651058880453884\n",
    "0.9968903682469297\n",
    "0.6649385280200172\n",
    "-"
   ]
  },
  {
   "cell_type": "code",
   "execution_count": 20,
   "metadata": {},
   "outputs": [],
   "source": [
    "# g1_dat, g1_lbl = dat[batch_id_trn[1]], lbl[batch_id_trn[1]]\n",
    "del g1_dat, g1_lbl"
   ]
  },
  {
   "cell_type": "code",
   "execution_count": 19,
   "metadata": {},
   "outputs": [
    {
     "name": "stdout",
     "output_type": "stream",
     "text": [
      "0.9970837314032912\n"
     ]
    }
   ],
   "source": [
    "vld_pred_g1= model.predict(g1_dat, num_iteration=model.best_iteration_)\n",
    "vld_pred_g1 = np.round(np.clip(vld_pred_g1, 0, 10)).astype(int)\n",
    "f1_g1 = metrics.f1_score(g1_lbl.astype(int), vld_pred_g1, average = 'macro')\n",
    "print(f1_g1)"
   ]
  },
  {
   "cell_type": "raw",
   "metadata": {},
   "source": [
    "0.9970837314032912 (fold 1)\n",
    "0.9970572911803073\n",
    "0.9968424553280641\n",
    "0.9968829962401913\n",
    "-"
   ]
  },
  {
   "cell_type": "code",
   "execution_count": 23,
   "metadata": {},
   "outputs": [],
   "source": [
    "# g2_dat, g2_lbl = dat[batch_id_trn[2]], lbl[batch_id_trn[2]]\n",
    "del g2_dat, g2_lbl"
   ]
  },
  {
   "cell_type": "code",
   "execution_count": 22,
   "metadata": {},
   "outputs": [
    {
     "name": "stdout",
     "output_type": "stream",
     "text": [
      "0.6647289234525314\n"
     ]
    }
   ],
   "source": [
    "vld_pred_g2= model.predict(g2_dat, num_iteration=model.best_iteration_)\n",
    "vld_pred_g2 = np.round(np.clip(vld_pred_g2, 0, 10)).astype(int)\n",
    "f1_g2 = metrics.f1_score(g2_lbl.astype(int), vld_pred_g2, average = 'macro')\n",
    "print(f1_g2)"
   ]
  },
  {
   "cell_type": "raw",
   "metadata": {},
   "source": [
    "0.6647289234525314 (fold 1)\n",
    "0.9970930059707095\n",
    "0.6646538107371066\n",
    "0.9969891438044296\n",
    "0.6647126573075317"
   ]
  },
  {
   "cell_type": "code",
   "execution_count": 26,
   "metadata": {},
   "outputs": [],
   "source": [
    "# g3_dat, g3_lbl = dat[batch_id_trn[3]], lbl[batch_id_trn[3]]\n",
    "del g3_dat, g3_lbl"
   ]
  },
  {
   "cell_type": "code",
   "execution_count": 25,
   "metadata": {},
   "outputs": [
    {
     "name": "stdout",
     "output_type": "stream",
     "text": [
      "0.7901239867368004\n"
     ]
    }
   ],
   "source": [
    "vld_pred_g3= model.predict(g3_dat, num_iteration=model.best_iteration_)\n",
    "vld_pred_g3 = np.round(np.clip(vld_pred_g3, 0, 10)).astype(int)\n",
    "f1_g3 = metrics.f1_score(g3_lbl.astype(int), vld_pred_g3, average = 'macro')\n",
    "print(f1_g3)"
   ]
  },
  {
   "cell_type": "raw",
   "metadata": {},
   "source": [
    "0.7901239867368004 (fold 1)\n",
    "0.790023307266011\n",
    "0.9868084651120028\n",
    "0.9870350237200967\n",
    "0.986656035463432"
   ]
  },
  {
   "cell_type": "code",
   "execution_count": 29,
   "metadata": {},
   "outputs": [],
   "source": [
    "# g4_dat, g4_lbl = dat[batch_id_trn[4]], lbl[batch_id_trn[4]]\n",
    "del g4_dat, g4_lbl"
   ]
  },
  {
   "cell_type": "code",
   "execution_count": 28,
   "metadata": {},
   "outputs": [
    {
     "name": "stdout",
     "output_type": "stream",
     "text": [
      "0.8373076786675838\n"
     ]
    }
   ],
   "source": [
    "vld_pred_g4= model.predict(g4_dat, num_iteration=model.best_iteration_)\n",
    "vld_pred_g4 = np.round(np.clip(vld_pred_g4, 0, 10)).astype(int)\n",
    "f1_g4 = metrics.f1_score(g4_lbl.astype(int), vld_pred_g4, average = 'macro')\n",
    "print(f1_g4)"
   ]
  },
  {
   "cell_type": "raw",
   "metadata": {},
   "source": [
    "0.8373076786675838 (fold 1)\n",
    "0.836381171231377\n",
    "0.8212875579648767\n",
    "0.8260337236356086\n",
    "0.8942446664286391"
   ]
  },
  {
   "cell_type": "code",
   "execution_count": 32,
   "metadata": {},
   "outputs": [],
   "source": [
    "# g5_dat, g5_lbl = dat[batch_id_trn[5]], lbl[batch_id_trn[5]]\n",
    "del g5_dat, g5_lbl"
   ]
  },
  {
   "cell_type": "code",
   "execution_count": 31,
   "metadata": {},
   "outputs": [
    {
     "name": "stdout",
     "output_type": "stream",
     "text": [
      "0.9749530604325839\n"
     ]
    }
   ],
   "source": [
    "vld_pred_g5= model.predict(g5_dat, num_iteration=model.best_iteration_)\n",
    "vld_pred_g5 = np.round(np.clip(vld_pred_g5, 0, 10)).astype(int)\n",
    "f1_g5 = metrics.f1_score(g5_lbl.astype(int), vld_pred_g5, average = 'macro')\n",
    "print(f1_g5)"
   ]
  },
  {
   "cell_type": "raw",
   "metadata": {},
   "source": [
    "0.9749530604325839 (fold 1)\n",
    "0.9744358048889571\n",
    "0.9736932581052553\n",
    "0.973730327589147\n",
    "0.9732927691543368"
   ]
  },
  {
   "cell_type": "code",
   "execution_count": 35,
   "metadata": {},
   "outputs": [],
   "source": [
    "# g6_dat, g6_lbl = dat[batch_id_trn[6]], lbl[batch_id_trn[6]]\n",
    "del g6_dat, g6_lbl"
   ]
  },
  {
   "cell_type": "code",
   "execution_count": 34,
   "metadata": {},
   "outputs": [
    {
     "name": "stdout",
     "output_type": "stream",
     "text": [
      "0.6646614145124898\n"
     ]
    }
   ],
   "source": [
    "vld_pred_g6= model.predict(g6_dat, num_iteration=model.best_iteration_)\n",
    "vld_pred_g6 = np.round(np.clip(vld_pred_g6, 0, 10)).astype(int)\n",
    "f1_g6 = metrics.f1_score(g6_lbl.astype(int), vld_pred_g6, average = 'macro')\n",
    "print(f1_g6)"
   ]
  },
  {
   "cell_type": "raw",
   "metadata": {},
   "source": [
    "0.6646614145124898 (fold 1)\n",
    "0.9970213174417375\n",
    "0.9966063601403695\n",
    "0.6645403771422551\n",
    "0.6646888239380492"
   ]
  },
  {
   "cell_type": "code",
   "execution_count": 38,
   "metadata": {},
   "outputs": [],
   "source": [
    "# g7_dat, g7_lbl = dat[batch_id_trn[7]], lbl[batch_id_trn[7]]\n",
    "del g7_dat, g7_lbl"
   ]
  },
  {
   "cell_type": "code",
   "execution_count": 37,
   "metadata": {},
   "outputs": [
    {
     "name": "stdout",
     "output_type": "stream",
     "text": [
      "0.779383838259999\n"
     ]
    }
   ],
   "source": [
    "vld_pred_g7 = model.predict(g7_dat, num_iteration=model.best_iteration_)\n",
    "vld_pred_g7 = np.round(np.clip(vld_pred_g7, 0, 10)).astype(int)\n",
    "f1_g7 = metrics.f1_score(g7_lbl.astype(int), vld_pred_g7, average = 'macro')\n",
    "print(f1_g7)"
   ]
  },
  {
   "cell_type": "raw",
   "metadata": {},
   "source": [
    "0.779383838259999 (fold 1)\n",
    "0.974272340959383\n",
    "0.7780210018430778\n",
    "0.9726543249924238\n",
    "0.9729210756681197"
   ]
  },
  {
   "cell_type": "code",
   "execution_count": 41,
   "metadata": {},
   "outputs": [],
   "source": [
    "# g8_dat, g8_lbl = dat[batch_id_trn[8]], lbl[batch_id_trn[8]]\n",
    "del g8_dat, g8_lbl"
   ]
  },
  {
   "cell_type": "code",
   "execution_count": 40,
   "metadata": {},
   "outputs": [
    {
     "name": "stdout",
     "output_type": "stream",
     "text": [
      "0.9750107890468044\n"
     ]
    }
   ],
   "source": [
    "vld_pred_g8 = model.predict(g8_dat, num_iteration=model.best_iteration_)\n",
    "vld_pred_g8 = np.round(np.clip(vld_pred_g8, 0, 10)).astype(int)\n",
    "f1_g8 = metrics.f1_score(g8_lbl.astype(int), vld_pred_g8, average = 'macro')\n",
    "print(f1_g8)"
   ]
  },
  {
   "cell_type": "raw",
   "metadata": {},
   "source": [
    "0.9750107890468044 (fold 1)\n",
    "0.9749613307501521\n",
    "0.9749084848835565\n",
    "0.9737512339455049\n",
    "0.9756024481983628"
   ]
  },
  {
   "cell_type": "code",
   "execution_count": 42,
   "metadata": {},
   "outputs": [],
   "source": [
    "g9_dat, g9_lbl = dat[batch_id_trn[9]], lbl[batch_id_trn[9]]\n",
    "# del g9_dat, g9_lbl"
   ]
  },
  {
   "cell_type": "code",
   "execution_count": 43,
   "metadata": {},
   "outputs": [
    {
     "name": "stdout",
     "output_type": "stream",
     "text": [
      "0.9159880733912752\n"
     ]
    }
   ],
   "source": [
    "vld_pred_g9 = model.predict(g9_dat, num_iteration=model.best_iteration_)\n",
    "vld_pred_g9 = np.round(np.clip(vld_pred_g9, 0, 10)).astype(int)\n",
    "f1_g9 = metrics.f1_score(g9_lbl.astype(int), vld_pred_g9, average = 'macro')\n",
    "print(f1_g9)"
   ]
  },
  {
   "cell_type": "raw",
   "metadata": {},
   "source": [
    "0.9159880733912752 (fold 1)\n",
    "0.9157437281095564\n",
    "0.8977718030245324\n",
    "0.9068700614535483\n",
    "0.9147493146748186"
   ]
  },
  {
   "cell_type": "markdown",
   "metadata": {},
   "source": [
    "### inference for submission"
   ]
  },
  {
   "cell_type": "code",
   "execution_count": 6,
   "metadata": {},
   "outputs": [
    {
     "data": {
      "text/plain": [
       "['tst_dat_all_w500.bp']"
      ]
     },
     "execution_count": 6,
     "metadata": {},
     "output_type": "execute_result"
    }
   ],
   "source": [
    "tst_fs_w500"
   ]
  },
  {
   "cell_type": "code",
   "execution_count": 7,
   "metadata": {},
   "outputs": [],
   "source": [
    "# tst_fs_w500 = sorted([f for f in os.listdir('../input/feats_tblr') if ('tst_dat' in f) and ('w500' in f)])\n",
    "# tst_fs_w500 = [tst_fs_w500[i] for i in [0, 11, 12, 13, 14, 15, 16, 17, 18, 19]] + tst_fs_w500[1:11]\n",
    "# tst_fs_w500 = np.concatenate(\n",
    "#     [\n",
    "#         bp.unpack_ndarray_from_file(os.path.join('../input/feats_tblr', f)) for f in tst_fs_w500\n",
    "#     ],\n",
    "#     0\n",
    "# )\n",
    "\n",
    "tst_fs_w500 = bp.unpack_ndarray_from_file(os.path.join('../input/feats_tblr/', 'tst_dat_all_w500.bp'))\n",
    "\n",
    "tst_dat_orig = pd.read_pickle(os.path.join('../input/feats_tblr', 'tst_dat_orig_v2_all.pkl'))\n",
    "tst_dat_orig = tst_dat_orig.loc[:, [c for c in tst_dat_orig.columns if c not in ('time', 'batch', 'open_channels')]]\n",
    "\n",
    "tst_dat = np.concatenate([tst_dat_orig, tst_fs_w500], axis=1)"
   ]
  },
  {
   "cell_type": "code",
   "execution_count": 8,
   "metadata": {},
   "outputs": [],
   "source": [
    "submission = pd.read_csv('../input/sample_submission.csv', dtype={'time': str, 'open_channels': 'Int64'})"
   ]
  },
  {
   "cell_type": "code",
   "execution_count": 9,
   "metadata": {},
   "outputs": [],
   "source": [
    "for fld in range(5):\n",
    "    mdl = joblib.load('./saved_models/lgbm_feats_origv2_myw500_fld{:d}.pkl'.format(fld))\n",
    "    if fld == 0:\n",
    "        predictions = mdl.predict(tst_dat, num_iteration=mdl.best_iteration_)\n",
    "    else:\n",
    "        predictions += mdl.predict(tst_dat, num_iteration=mdl.best_iteration_)"
   ]
  },
  {
   "cell_type": "code",
   "execution_count": 11,
   "metadata": {},
   "outputs": [
    {
     "data": {
      "text/plain": [
       "50.47457739798004"
      ]
     },
     "execution_count": 11,
     "metadata": {},
     "output_type": "execute_result"
    }
   ],
   "source": [
    "predictions.max()"
   ]
  },
  {
   "cell_type": "code",
   "execution_count": 12,
   "metadata": {},
   "outputs": [],
   "source": [
    "predictions_sub = np.round(np.clip(predictions / 5, 0, 10)).astype(int)"
   ]
  },
  {
   "cell_type": "code",
   "execution_count": 13,
   "metadata": {},
   "outputs": [],
   "source": [
    "submission['open_channels'] = predictions_sub"
   ]
  },
  {
   "cell_type": "code",
   "execution_count": 14,
   "metadata": {},
   "outputs": [],
   "source": [
    "submission.to_csv(\"../submissions/sub_lgbm_origv2_w500feats_cvbygroupandclass.csv\", index=False)"
   ]
  }
 ],
 "metadata": {
  "kernelspec": {
   "display_name": "Python 3",
   "language": "python",
   "name": "python3"
  },
  "language_info": {
   "codemirror_mode": {
    "name": "ipython",
    "version": 3
   },
   "file_extension": ".py",
   "mimetype": "text/x-python",
   "name": "python",
   "nbconvert_exporter": "python",
   "pygments_lexer": "ipython3",
   "version": "3.7.6"
  }
 },
 "nbformat": 4,
 "nbformat_minor": 4
}
