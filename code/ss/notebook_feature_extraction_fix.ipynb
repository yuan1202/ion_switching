{
 "cells": [
  {
   "cell_type": "code",
   "execution_count": 1,
   "metadata": {},
   "outputs": [],
   "source": [
    "import gc\n",
    "import os\n",
    "from datetime import datetime\n",
    "import pickle\n",
    "import psutil\n",
    "from tqdm import tqdm, tqdm_notebook\n",
    "from functools import partial, update_wrapper\n",
    "from itertools import product\n",
    "from collections import OrderedDict\n",
    "from multiprocessing import Pool\n",
    "\n",
    "import bloscpack as bp\n",
    "\n",
    "import random\n",
    "import numpy as np\n",
    "import pandas as pd\n",
    "from sklearn.preprocessing import normalize\n",
    "from sklearn.linear_model import LinearRegression\n",
    "\n",
    "from YSMLT import utils as g_utils\n",
    "from YSMLT.series import utils as ts_utils\n",
    "\n",
    "from scipy.signal import hilbert\n",
    "from scipy.signal import hann\n",
    "from scipy.signal import convolve\n",
    "from scipy.signal import welch, find_peaks\n",
    "from scipy import stats\n",
    "from scipy.special import entr\n",
    "from scipy.stats import entropy\n",
    "from tsfresh.feature_extraction import feature_calculators"
   ]
  },
  {
   "cell_type": "code",
   "execution_count": 4,
   "metadata": {},
   "outputs": [
    {
     "name": "stdout",
     "output_type": "stream",
     "text": [
      "trn_feat_g9_w500.bp ['tst_feat_g9_w500.bp', 'tst_feat_g4_w500.bp', 'tst_feat_g18_w500.bp', 'tst_feat_g3_w500.bp', 'tst_feat_g5_w500.bp', 'tst_feat_g15_w500.bp', 'tst_feat_g14_w500.bp', 'tst_feat_g13_w500.bp', 'tst_feat_g10_w500.bp', 'tst_feat_g6_w500.bp', 'tst_feat_g2_w500.bp', 'tst_feat_g0_w500.bp', 'tst_feat_g12_w500.bp', 'tst_feat_g17_w500.bp', 'tst_feat_g16_w500.bp', 'tst_feat_g11_w500.bp', 'tst_feat_g1_w500.bp', 'tst_feat_g8_w500.bp', 'tst_feat_g19_w500.bp', 'tst_feat_g7_w500.bp'] trn_feat_g4_w500_fix.bp\n"
     ]
    }
   ],
   "source": [
    "feats_f_curr = [f for f in os.listdir('../input/feats_tblr/ss') if ('trn_feat' in f) and ('w500' in f) and ('fix' not in f)][0]\n",
    "feats_f_trgt = [f for f in os.listdir('../input/feats_tblr/ss') if ('tst_feat' in f) and ('w500' in f)]\n",
    "feats_f_fix = [f for f in os.listdir('../input/feats_tblr/ss') if ('trn_feat' in f) and ('w500' in f) and ('fix' in f)][0]\n",
    "print(feats_f_curr, feats_f_trgt, feats_f_fix)"
   ]
  },
  {
   "cell_type": "code",
   "execution_count": 14,
   "metadata": {},
   "outputs": [
    {
     "data": {
      "text/plain": [
       "['tst_dat_g0_w250.bp',\n",
       " 'tst_dat_g1_w250.bp',\n",
       " 'tst_dat_g2_w250.bp',\n",
       " 'tst_dat_g3_w250.bp',\n",
       " 'tst_dat_g4_w250.bp',\n",
       " 'tst_dat_g5_w250.bp',\n",
       " 'tst_dat_g6_w250.bp',\n",
       " 'tst_dat_g7_w250.bp',\n",
       " 'tst_dat_g8_w250.bp',\n",
       " 'tst_dat_g9_w250.bp',\n",
       " 'tst_dat_g10_w250.bp',\n",
       " 'tst_dat_g11_w250.bp',\n",
       " 'tst_dat_g12_w250.bp',\n",
       " 'tst_dat_g13_w250.bp',\n",
       " 'tst_dat_g14_w250.bp',\n",
       " 'tst_dat_g15_w250.bp',\n",
       " 'tst_dat_g16_w250.bp',\n",
       " 'tst_dat_g17_w250.bp',\n",
       " 'tst_dat_g18_w250.bp',\n",
       " 'tst_dat_g19_w250.bp']"
      ]
     },
     "execution_count": 14,
     "metadata": {},
     "output_type": "execute_result"
    }
   ],
   "source": [
    "feats_f_tst_dat = [f for f in os.listdir('../input/feats_tblr/ss') if ('tst_dat' in f) and ('w250' in f)]\n",
    "feats_f_tst_dat = sorted(feats_f_tst_dat)\n",
    "feats_f_tst_dat = feats_f_tst_dat[:1] + feats_f_tst_dat[11:] + feats_f_tst_dat[1:11]\n",
    "feats_f_tst_dat"
   ]
  },
  {
   "cell_type": "code",
   "execution_count": 15,
   "metadata": {},
   "outputs": [],
   "source": [
    "tst_w250 = np.concatenate([bp.unpack_ndarray_from_file(os.path.join('../input/feats_tblr/ss', f)) for f in feats_f_tst_dat], axis=0)"
   ]
  },
  {
   "cell_type": "code",
   "execution_count": 16,
   "metadata": {},
   "outputs": [
    {
     "data": {
      "text/plain": [
       "(2000000, 692)"
      ]
     },
     "execution_count": 16,
     "metadata": {},
     "output_type": "execute_result"
    }
   ],
   "source": [
    "tst_w250.shape"
   ]
  },
  {
   "cell_type": "code",
   "execution_count": 17,
   "metadata": {},
   "outputs": [],
   "source": [
    "bp.pack_ndarray_to_file(tst_w250, '../input/tst_dat_all_w250.bp')"
   ]
  },
  {
   "cell_type": "code",
   "execution_count": 3,
   "metadata": {},
   "outputs": [],
   "source": [
    "feats_curr = bp.unpack_ndarray_from_file(os.path.join('../input/feats_tblr/ss', feats_f_curr))\n",
    "feats_trgt = bp.unpack_ndarray_from_file(os.path.join('../input/feats_tblr/ss', feats_f_trgt))\n",
    "feats_fix = bp.unpack_ndarray_from_file(os.path.join('../input/feats_tblr/ss', feats_f_fix))"
   ]
  },
  {
   "cell_type": "code",
   "execution_count": 4,
   "metadata": {},
   "outputs": [
    {
     "data": {
      "text/plain": [
       "['MA_10th_wndw_BBhigh_avg_L',\n",
       " 'MA_2nd_wndw_BBlow_avg_R',\n",
       " 'MA_5th_wndw_BBhigh_avg_L',\n",
       " 'MA_2nd_wndw_std_avg_L',\n",
       " 'MA_5th_wndw_std_avg_L',\n",
       " 'MA_2nd_wndw_BBhigh_avg_R',\n",
       " 'MA_10th_wndw_std_avg_R',\n",
       " 'MA_5th_wndw_BBlow_avg_L',\n",
       " 'MA_2nd_wndw_std_avg_R',\n",
       " 'MA_10th_wndw_BBlow_avg_R',\n",
       " 'MA_5th_wndw_std_avg_R',\n",
       " 'MA_10th_wndw_BBhigh_avg_R',\n",
       " 'MA_5th_wndw_BBlow_avg_R',\n",
       " 'MA_5th_wndw_BBhigh_avg_R',\n",
       " 'MA_2nd_wndw_BBhigh_avg_L',\n",
       " 'MA_10th_wndw_std_avg_L',\n",
       " 'MA_10th_wndw_BBlow_avg_L',\n",
       " 'MA_2nd_wndw_BBlow_avg_L']"
      ]
     },
     "execution_count": 4,
     "metadata": {},
     "output_type": "execute_result"
    }
   ],
   "source": [
    "feats_diff = list(set(feats_trgt) - set(feats_curr))\n",
    "feats_diff"
   ]
  },
  {
   "cell_type": "code",
   "execution_count": 5,
   "metadata": {},
   "outputs": [
    {
     "data": {
      "text/plain": [
       "array(['MA_5th_wndw_std_avg_L', 'MA_5th_wndw_BBhigh_avg_L',\n",
       "       'MA_5th_wndw_BBlow_avg_L', 'MA_2nd_wndw_std_avg_L',\n",
       "       'MA_2nd_wndw_BBhigh_avg_L', 'MA_2nd_wndw_BBlow_avg_L',\n",
       "       'MA_10th_wndw_std_avg_L', 'MA_10th_wndw_BBhigh_avg_L',\n",
       "       'MA_10th_wndw_BBlow_avg_L', 'MA_5th_wndw_std_avg_R',\n",
       "       'MA_5th_wndw_BBhigh_avg_R', 'MA_5th_wndw_BBlow_avg_R',\n",
       "       'MA_2nd_wndw_std_avg_R', 'MA_2nd_wndw_BBhigh_avg_R',\n",
       "       'MA_2nd_wndw_BBlow_avg_R', 'MA_10th_wndw_std_avg_R',\n",
       "       'MA_10th_wndw_BBhigh_avg_R', 'MA_10th_wndw_BBlow_avg_R'],\n",
       "      dtype='<U25')"
      ]
     },
     "execution_count": 5,
     "metadata": {},
     "output_type": "execute_result"
    }
   ],
   "source": [
    "feats_fix"
   ]
  },
  {
   "cell_type": "code",
   "execution_count": 6,
   "metadata": {},
   "outputs": [
    {
     "data": {
      "text/plain": [
       "OrderedDict([('MA_5th_wndw_std_avg_L', 0),\n",
       "             ('MA_5th_wndw_BBhigh_avg_L', 1),\n",
       "             ('MA_5th_wndw_BBlow_avg_L', 2),\n",
       "             ('MA_2nd_wndw_std_avg_L', 3),\n",
       "             ('MA_2nd_wndw_BBhigh_avg_L', 4),\n",
       "             ('MA_2nd_wndw_BBlow_avg_L', 5),\n",
       "             ('MA_10th_wndw_std_avg_L', 6),\n",
       "             ('MA_10th_wndw_BBhigh_avg_L', 7),\n",
       "             ('MA_10th_wndw_BBlow_avg_L', 8),\n",
       "             ('MA_5th_wndw_std_avg_R', 9),\n",
       "             ('MA_5th_wndw_BBhigh_avg_R', 10),\n",
       "             ('MA_5th_wndw_BBlow_avg_R', 11),\n",
       "             ('MA_2nd_wndw_std_avg_R', 12),\n",
       "             ('MA_2nd_wndw_BBhigh_avg_R', 13),\n",
       "             ('MA_2nd_wndw_BBlow_avg_R', 14),\n",
       "             ('MA_10th_wndw_std_avg_R', 15),\n",
       "             ('MA_10th_wndw_BBhigh_avg_R', 16),\n",
       "             ('MA_10th_wndw_BBlow_avg_R', 17)])"
      ]
     },
     "execution_count": 6,
     "metadata": {},
     "output_type": "execute_result"
    }
   ],
   "source": [
    "feats_fix_map = OrderedDict([(s, i) for i, s in zip(range(len(feats_fix)), feats_fix)])\n",
    "feats_fix_map"
   ]
  },
  {
   "cell_type": "code",
   "execution_count": 7,
   "metadata": {},
   "outputs": [
    {
     "data": {
      "text/plain": [
       "OrderedDict([(0, 56),\n",
       "             (1, 57),\n",
       "             (2, 58),\n",
       "             (3, 59),\n",
       "             (4, 60),\n",
       "             (5, 61),\n",
       "             (6, 62),\n",
       "             (7, 63),\n",
       "             (8, 64),\n",
       "             (9, 402),\n",
       "             (10, 403),\n",
       "             (11, 404),\n",
       "             (12, 405),\n",
       "             (13, 406),\n",
       "             (14, 407),\n",
       "             (15, 408),\n",
       "             (16, 409),\n",
       "             (17, 410)])"
      ]
     },
     "execution_count": 7,
     "metadata": {},
     "output_type": "execute_result"
    }
   ],
   "source": [
    "feats_trgt_map = OrderedDict(sorted([(feats_fix_map[s], np.where(feats_trgt==s)[0].item()) for s in feats_diff], key=lambda tpl: tpl[1]))\n",
    "feats_trgt_map"
   ]
  },
  {
   "cell_type": "code",
   "execution_count": 8,
   "metadata": {},
   "outputs": [],
   "source": [
    "dat_f_curr = sorted([f for f in os.listdir('../input/feats_tblr/ss') if ('trn_dat' in f) and ('w500' in f) and ('fix' not in f)])\n",
    "dat_f_trgt = sorted([f for f in os.listdir('../input/feats_tblr/ss') if ('tst_dat' in f) and ('w500' in f)])\n",
    "dat_f_fix = sorted([f for f in os.listdir('../input/feats_tblr/ss') if ('trn_dat' in f) and ('w500' in f) and ('fix' in f)])"
   ]
  },
  {
   "cell_type": "code",
   "execution_count": 9,
   "metadata": {},
   "outputs": [
    {
     "data": {
      "text/plain": [
       "['trn_dat_g0_w500.bp',\n",
       " 'trn_dat_g1_w500.bp',\n",
       " 'trn_dat_g2_w500.bp',\n",
       " 'trn_dat_g3_w500.bp',\n",
       " 'trn_dat_g4_w500.bp',\n",
       " 'trn_dat_g5_w500.bp',\n",
       " 'trn_dat_g6_w500.bp',\n",
       " 'trn_dat_g7_w500.bp',\n",
       " 'trn_dat_g8_w500.bp',\n",
       " 'trn_dat_g9_w500.bp']"
      ]
     },
     "execution_count": 9,
     "metadata": {},
     "output_type": "execute_result"
    }
   ],
   "source": [
    "dat_f_curr"
   ]
  },
  {
   "cell_type": "code",
   "execution_count": 10,
   "metadata": {},
   "outputs": [
    {
     "data": {
      "text/plain": [
       "['trn_dat_g0_w500_fix.bp',\n",
       " 'trn_dat_g1_w500_fix.bp',\n",
       " 'trn_dat_g2_w500_fix.bp',\n",
       " 'trn_dat_g3_w500_fix.bp',\n",
       " 'trn_dat_g4_w500_fix.bp',\n",
       " 'trn_dat_g5_w500_fix.bp',\n",
       " 'trn_dat_g6_w500_fix.bp',\n",
       " 'trn_dat_g7_w500_fix.bp',\n",
       " 'trn_dat_g8_w500_fix.bp',\n",
       " 'trn_dat_g9_w500_fix.bp']"
      ]
     },
     "execution_count": 10,
     "metadata": {},
     "output_type": "execute_result"
    }
   ],
   "source": [
    "dat_f_fix"
   ]
  },
  {
   "cell_type": "code",
   "execution_count": 11,
   "metadata": {},
   "outputs": [
    {
     "name": "stdout",
     "output_type": "stream",
     "text": [
      "0\n",
      "1\n",
      "2\n",
      "3\n",
      "4\n",
      "5\n",
      "6\n",
      "7\n",
      "8\n",
      "9\n"
     ]
    }
   ],
   "source": [
    "for i, (c, f) in enumerate(zip(dat_f_curr, dat_f_fix)):\n",
    "    print(i)\n",
    "    arr_cur = bp.unpack_ndarray_from_file(os.path.join('../input/feats_tblr/ss', c))\n",
    "    arr_fix = bp.unpack_ndarray_from_file(os.path.join('../input/feats_tblr/ss', f))\n",
    "    \n",
    "    arr_fxd = arr_cur.copy()\n",
    "    for i0, i1 in feats_trgt_map.items():\n",
    "        arr_fxd = np.insert(arr_fxd, i1, arr_fix[:, i0], axis=1)\n",
    "        \n",
    "    bp.pack_ndarray_to_file(arr_fxd, '../input/trn_dat_g{:d}_w500_fixed.bp'.format(i))"
   ]
  },
  {
   "cell_type": "code",
   "execution_count": 12,
   "metadata": {},
   "outputs": [],
   "source": [
    "for i, f in enumerate(sorted([f for f in os.listdir('../input') if 'w500' in f])):\n",
    "    if i == 0:\n",
    "        feat = bp.unpack_ndarray_from_file(os.path.join('../input/', f))\n",
    "    else:\n",
    "        feat = np.concatenate([feat, bp.unpack_ndarray_from_file(os.path.join('../input/', f))], 0)"
   ]
  },
  {
   "cell_type": "code",
   "execution_count": 13,
   "metadata": {},
   "outputs": [],
   "source": [
    "bp.pack_ndarray_to_file(feat, '../input/trn_dat_all_w500_fixed.bp'.format(i))"
   ]
  }
 ],
 "metadata": {
  "kernelspec": {
   "display_name": "Python 3",
   "language": "python",
   "name": "python3"
  },
  "language_info": {
   "codemirror_mode": {
    "name": "ipython",
    "version": 3
   },
   "file_extension": ".py",
   "mimetype": "text/x-python",
   "name": "python",
   "nbconvert_exporter": "python",
   "pygments_lexer": "ipython3",
   "version": "3.7.6"
  }
 },
 "nbformat": 4,
 "nbformat_minor": 4
}
