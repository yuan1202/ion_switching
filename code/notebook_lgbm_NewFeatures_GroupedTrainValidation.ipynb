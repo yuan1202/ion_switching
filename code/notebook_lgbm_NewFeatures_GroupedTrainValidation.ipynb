{
 "cells": [
  {
   "cell_type": "code",
   "execution_count": 1,
   "metadata": {},
   "outputs": [],
   "source": [
    "import os\n",
    "import math\n",
    "import warnings\n",
    "import gc\n",
    "warnings.filterwarnings('ignore')\n",
    "from tqdm import tqdm\n",
    "import pickle\n",
    "\n",
    "import bloscpack as bp\n",
    "\n",
    "import numpy as np \n",
    "import pandas as pd\n",
    "\n",
    "import matplotlib.pyplot as plt\n",
    "import seaborn as sns\n",
    "\n",
    "import lightgbm as lgb\n",
    "from sklearn.model_selection import GroupKFold, StratifiedKFold, train_test_split, RepeatedStratifiedKFold\n",
    "from sklearn import metrics\n",
    "\n",
    "pd.set_option('display.max_columns', 10000)\n",
    "pd.set_option('display.max_rows', 10000)"
   ]
  },
  {
   "cell_type": "code",
   "execution_count": 7,
   "metadata": {},
   "outputs": [],
   "source": [
    "dat_files = [f for f in os.listdir('../input') if ('_dat_' in f) and ('srs' not in f)]\n",
    "lbl_files = [f for f in os.listdir('../input') if ('_lbl_' in f) and ('srs' not in f)]\n",
    "# feat_files = [f for f in os.listdir('../input') if '_feat_' in f]\n",
    "\n",
    "def load_group_data(group):\n",
    "    assert isinstance(group, str)\n",
    "    dat_to_load = [f for f in dat_files if group in f]\n",
    "    lbl_to_load = [f for f in lbl_files if group in f]\n",
    "    \n",
    "    dat = np.concatenate([bp.unpack_ndarray_from_file(os.path.join('../input/', f)) for f in dat_to_load], axis=1)\n",
    "    lbl = [bp.unpack_ndarray_from_file(os.path.join('../input/', f)) for f in lbl_to_load]\n",
    "    assert np.all([np.all(a==b) for a, b in zip(lbl[:-1], lbl[1:])])\n",
    "    return dat, lbl[0]"
   ]
  },
  {
   "cell_type": "code",
   "execution_count": 10,
   "metadata": {},
   "outputs": [],
   "source": [
    "g0_dat, g0_lbl = load_group_data('g0')\n",
    "g1_dat, g1_lbl = load_group_data('g1')\n",
    "g2_dat, g2_lbl = load_group_data('g2')\n",
    "g3_dat, g3_lbl = load_group_data('g3')\n",
    "g4_dat, g4_lbl = load_group_data('g4')\n",
    "g5_dat, g5_lbl = load_group_data('g5')\n",
    "g6_dat, g6_lbl = load_group_data('g6')\n",
    "g7_dat, g7_lbl = load_group_data('g7')\n",
    "g8_dat, g8_lbl = load_group_data('g8')\n",
    "g9_dat, g9_lbl = load_group_data('g9')"
   ]
  },
  {
   "cell_type": "code",
   "execution_count": 9,
   "metadata": {},
   "outputs": [
    {
     "ename": "NameError",
     "evalue": "name 'g0_dat' is not defined",
     "output_type": "error",
     "traceback": [
      "\u001b[0;31m---------------------------------------------------------------------------\u001b[0m",
      "\u001b[0;31mNameError\u001b[0m                                 Traceback (most recent call last)",
      "\u001b[0;32m<ipython-input-9-dd01e3586441>\u001b[0m in \u001b[0;36m<module>\u001b[0;34m\u001b[0m\n\u001b[0;32m----> 1\u001b[0;31m \u001b[0mdat\u001b[0m \u001b[0;34m=\u001b[0m \u001b[0mnp\u001b[0m\u001b[0;34m.\u001b[0m\u001b[0mconcatenate\u001b[0m\u001b[0;34m(\u001b[0m\u001b[0;34m[\u001b[0m\u001b[0mg0_dat\u001b[0m\u001b[0;34m,\u001b[0m \u001b[0mg1_dat\u001b[0m\u001b[0;34m,\u001b[0m \u001b[0mg2_dat\u001b[0m\u001b[0;34m,\u001b[0m \u001b[0mg3_dat\u001b[0m\u001b[0;34m,\u001b[0m \u001b[0mg4_dat\u001b[0m\u001b[0;34m,\u001b[0m \u001b[0mg5_dat\u001b[0m\u001b[0;34m,\u001b[0m \u001b[0mg6_dat\u001b[0m\u001b[0;34m,\u001b[0m \u001b[0mg7_dat\u001b[0m\u001b[0;34m,\u001b[0m \u001b[0mg8_dat\u001b[0m\u001b[0;34m,\u001b[0m \u001b[0mg9_dat\u001b[0m\u001b[0;34m]\u001b[0m\u001b[0;34m,\u001b[0m \u001b[0maxis\u001b[0m\u001b[0;34m=\u001b[0m\u001b[0;36m0\u001b[0m\u001b[0;34m)\u001b[0m\u001b[0;34m\u001b[0m\u001b[0;34m\u001b[0m\u001b[0m\n\u001b[0m\u001b[1;32m      2\u001b[0m \u001b[0mlbl\u001b[0m \u001b[0;34m=\u001b[0m \u001b[0mnp\u001b[0m\u001b[0;34m.\u001b[0m\u001b[0mconcatenate\u001b[0m\u001b[0;34m(\u001b[0m\u001b[0;34m[\u001b[0m\u001b[0mg0_lbl\u001b[0m\u001b[0;34m,\u001b[0m \u001b[0mg1_lbl\u001b[0m\u001b[0;34m,\u001b[0m \u001b[0mg2_lbl\u001b[0m\u001b[0;34m,\u001b[0m \u001b[0mg3_lbl\u001b[0m\u001b[0;34m,\u001b[0m \u001b[0mg4_lbl\u001b[0m\u001b[0;34m,\u001b[0m \u001b[0mg5_lbl\u001b[0m\u001b[0;34m,\u001b[0m \u001b[0mg6_lbl\u001b[0m\u001b[0;34m,\u001b[0m \u001b[0mg7_lbl\u001b[0m\u001b[0;34m,\u001b[0m \u001b[0mg8_lbl\u001b[0m\u001b[0;34m,\u001b[0m \u001b[0mg9_lbl\u001b[0m\u001b[0;34m]\u001b[0m\u001b[0;34m,\u001b[0m \u001b[0maxis\u001b[0m\u001b[0;34m=\u001b[0m\u001b[0;36m0\u001b[0m\u001b[0;34m)\u001b[0m\u001b[0;34m\u001b[0m\u001b[0;34m\u001b[0m\u001b[0m\n\u001b[1;32m      3\u001b[0m \u001b[0;31m# dat = np.concatenate([g0_dat, g1_dat, g2_dat, g3_dat, g6_dat, g7_dat], axis=0)\u001b[0m\u001b[0;34m\u001b[0m\u001b[0;34m\u001b[0m\u001b[0;34m\u001b[0m\u001b[0m\n\u001b[1;32m      4\u001b[0m \u001b[0;31m# lbl = np.concatenate([g0_lbl, g1_lbl, g2_lbl, g3_lbl, g6_lbl, g7_lbl], axis=0)\u001b[0m\u001b[0;34m\u001b[0m\u001b[0;34m\u001b[0m\u001b[0;34m\u001b[0m\u001b[0m\n\u001b[1;32m      5\u001b[0m \u001b[0;31m# dat = np.concatenate([g3_dat, g4_dat, g5_dat, g7_dat, g8_dat, g9_dat], axis=0)\u001b[0m\u001b[0;34m\u001b[0m\u001b[0;34m\u001b[0m\u001b[0;34m\u001b[0m\u001b[0m\n",
      "\u001b[0;31mNameError\u001b[0m: name 'g0_dat' is not defined"
     ]
    }
   ],
   "source": [
    "dat = np.concatenate([g0_dat, g1_dat, g2_dat, g3_dat, g4_dat, g5_dat, g6_dat, g7_dat, g8_dat, g9_dat], axis=0)\n",
    "lbl = np.concatenate([g0_lbl, g1_lbl, g2_lbl, g3_lbl, g4_lbl, g5_lbl, g6_lbl, g7_lbl, g8_lbl, g9_lbl], axis=0)\n",
    "# dat = np.concatenate([g0_dat, g1_dat, g2_dat, g3_dat, g6_dat, g7_dat], axis=0)\n",
    "# lbl = np.concatenate([g0_lbl, g1_lbl, g2_lbl, g3_lbl, g6_lbl, g7_lbl], axis=0)\n",
    "# dat = np.concatenate([g3_dat, g4_dat, g5_dat, g7_dat, g8_dat, g9_dat], axis=0)\n",
    "# lbl = np.concatenate([g3_lbl, g4_lbl, g5_lbl, g7_lbl, g8_lbl, g9_lbl], axis=0)\n",
    "# dat = np.concatenate([g4_dat, g5_dat, g8_dat, g9_dat], axis=0)\n",
    "# lbl = np.concatenate([g4_lbl, g5_lbl, g8_lbl, g9_lbl], axis=0)\n",
    "# dat = g9_dat\n",
    "# lbl = g9_lbl"
   ]
  },
  {
   "cell_type": "code",
   "execution_count": null,
   "metadata": {},
   "outputs": [],
   "source": [
    "# del g0_dat, g1_dat, g2_dat, g3_dat, g4_dat, g5_dat, g6_dat, g7_dat, g8_dat, g9_dat\n",
    "# del g0_lbl, g1_lbl, g2_lbl, g3_lbl, g4_lbl, g5_lbl, g6_lbl, g7_lbl, g8_lbl, g9_lbl\n",
    "# del g0_dat, g1_dat, g2_dat\n",
    "# del g0_lbl, g1_lbl, g2_lbl"
   ]
  },
  {
   "cell_type": "raw",
   "metadata": {},
   "source": [
    "with open('../input/batch_ids_trn.pkl', 'rb') as f:\n",
    "    batch_id_trn = pickle.load(f)\n",
    "with open('../input/batch_ids_tst.pkl', 'rb') as f:\n",
    "    batch_id_tst = pickle.load(f)"
   ]
  },
  {
   "cell_type": "code",
   "execution_count": 4,
   "metadata": {},
   "outputs": [],
   "source": [
    "kf = StratifiedKFold(n_splits=5, shuffle=True, random_state=42)"
   ]
  },
  {
   "cell_type": "code",
   "execution_count": 7,
   "metadata": {},
   "outputs": [],
   "source": [
    "for fold, (trn_ndcs, vld_ndcs) in enumerate(kf.split(dat, lbl)):\n",
    "    x_trn, x_vld = dat[trn_ndcs], dat[vld_ndcs]\n",
    "    y_trn, y_vld = lbl[trn_ndcs], lbl[vld_ndcs]\n",
    "    #trn_set = lgb.Dataset(x_trn, y_trn)\n",
    "    #vld_set = lgb.Dataset(x_vld, y_vld)\n",
    "    break"
   ]
  },
  {
   "cell_type": "code",
   "execution_count": 8,
   "metadata": {},
   "outputs": [],
   "source": [
    "params = {\n",
    "    \"boosting\": \"gbdt\",\n",
    "    \"metric\": 'rmse',\n",
    "    'objective': 'regression',\n",
    "    'random_state': 236,\n",
    "    'num_leaves': 280,\n",
    "    'learning_rate': 0.026623466966581126,\n",
    "    'max_depth': 80,\n",
    "    'reg_alpha': 2.959759088169741, # L1\n",
    "    'reg_lambda': 1.331172832164913, # L2\n",
    "    \"bagging_fraction\": 0.9655406551472153,\n",
    "    \"bagging_freq\": 9,\n",
    "    'colsample_bytree': 0.6867118652742716\n",
    "}"
   ]
  },
  {
   "cell_type": "code",
   "execution_count": 9,
   "metadata": {},
   "outputs": [
    {
     "name": "stdout",
     "output_type": "stream",
     "text": [
      "Training until validation scores don't improve for 100 rounds\n",
      "[50]\tvalid_0's rmse: 0.646549\n",
      "[100]\tvalid_0's rmse: 0.255594\n",
      "[150]\tvalid_0's rmse: 0.202702\n",
      "[200]\tvalid_0's rmse: 0.198086\n",
      "[250]\tvalid_0's rmse: 0.197368\n",
      "[300]\tvalid_0's rmse: 0.197023\n",
      "[350]\tvalid_0's rmse: 0.19681\n",
      "[400]\tvalid_0's rmse: 0.19665\n",
      "[450]\tvalid_0's rmse: 0.196541\n",
      "[500]\tvalid_0's rmse: 0.196456\n",
      "[550]\tvalid_0's rmse: 0.196385\n",
      "[600]\tvalid_0's rmse: 0.196301\n",
      "[650]\tvalid_0's rmse: 0.196238\n",
      "[700]\tvalid_0's rmse: 0.19617\n",
      "[750]\tvalid_0's rmse: 0.196109\n",
      "[800]\tvalid_0's rmse: 0.196064\n",
      "[850]\tvalid_0's rmse: 0.196014\n",
      "[900]\tvalid_0's rmse: 0.195978\n",
      "[950]\tvalid_0's rmse: 0.195931\n",
      "[1000]\tvalid_0's rmse: 0.195898\n",
      "[1050]\tvalid_0's rmse: 0.195884\n",
      "[1100]\tvalid_0's rmse: 0.195848\n",
      "[1150]\tvalid_0's rmse: 0.19582\n",
      "[1200]\tvalid_0's rmse: 0.195794\n",
      "[1250]\tvalid_0's rmse: 0.195781\n",
      "[1300]\tvalid_0's rmse: 0.195753\n",
      "[1350]\tvalid_0's rmse: 0.195728\n",
      "[1400]\tvalid_0's rmse: 0.19571\n",
      "[1450]\tvalid_0's rmse: 0.195693\n",
      "[1500]\tvalid_0's rmse: 0.195671\n",
      "[1550]\tvalid_0's rmse: 0.195663\n",
      "[1600]\tvalid_0's rmse: 0.195648\n",
      "[1650]\tvalid_0's rmse: 0.195631\n",
      "[1700]\tvalid_0's rmse: 0.195612\n",
      "[1750]\tvalid_0's rmse: 0.195598\n",
      "[1800]\tvalid_0's rmse: 0.195581\n",
      "[1850]\tvalid_0's rmse: 0.19557\n",
      "[1900]\tvalid_0's rmse: 0.195567\n",
      "[1950]\tvalid_0's rmse: 0.195561\n",
      "[2000]\tvalid_0's rmse: 0.195548\n",
      "[2050]\tvalid_0's rmse: 0.195535\n",
      "[2100]\tvalid_0's rmse: 0.195531\n",
      "[2150]\tvalid_0's rmse: 0.195526\n",
      "[2200]\tvalid_0's rmse: 0.195518\n",
      "[2250]\tvalid_0's rmse: 0.195503\n",
      "[2300]\tvalid_0's rmse: 0.195496\n",
      "[2350]\tvalid_0's rmse: 0.195496\n",
      "[2400]\tvalid_0's rmse: 0.19549\n",
      "[2450]\tvalid_0's rmse: 0.195482\n",
      "[2500]\tvalid_0's rmse: 0.195478\n",
      "[2550]\tvalid_0's rmse: 0.195474\n",
      "[2600]\tvalid_0's rmse: 0.195478\n",
      "[2650]\tvalid_0's rmse: 0.195478\n",
      "[2700]\tvalid_0's rmse: 0.19547\n",
      "[2750]\tvalid_0's rmse: 0.195469\n",
      "[2800]\tvalid_0's rmse: 0.195463\n",
      "[2850]\tvalid_0's rmse: 0.195461\n",
      "[2900]\tvalid_0's rmse: 0.195457\n",
      "[2950]\tvalid_0's rmse: 0.195458\n",
      "[3000]\tvalid_0's rmse: 0.195449\n",
      "[3050]\tvalid_0's rmse: 0.195446\n",
      "[3100]\tvalid_0's rmse: 0.195444\n",
      "[3150]\tvalid_0's rmse: 0.195442\n",
      "Early stopping, best iteration is:\n",
      "[3074]\tvalid_0's rmse: 0.19544\n"
     ]
    },
    {
     "data": {
      "text/plain": [
       "LGBMRegressor(bagging_fraction=0.9655406551472153, bagging_freq=9,\n",
       "              boosting='gbdt', boosting_type='gbdt', class_weight=None,\n",
       "              colsample_bytree=0.6867118652742716, importance_type='split',\n",
       "              learning_rate=0.026623466966581126, max_depth=80, metric='rmse',\n",
       "              min_child_samples=20, min_child_weight=0.001, min_split_gain=0.0,\n",
       "              n_estimators=10000, n_jobs=12, num_leaves=280,\n",
       "              objective='regression', random_state=236,\n",
       "              reg_alpha=2.959759088169741, reg_lambda=1.331172832164913,\n",
       "              silent=True, subsample=1.0, subsample_for_bin=200000,\n",
       "              subsample_freq=0)"
      ]
     },
     "execution_count": 9,
     "metadata": {},
     "output_type": "execute_result"
    }
   ],
   "source": [
    "# model = lgb.train(params, trn_set, num_boost_round=10000, early_stopping_rounds=100, valid_sets=[vld_set], verbose_eval=50)\n",
    "model = lgb.LGBMRegressor(**params, n_estimators=10000, n_jobs=12)\n",
    "model.fit(X=x_trn, y=y_trn, eval_set=[(x_vld, y_vld)], eval_metric='rmse', verbose=50, early_stopping_rounds=100)"
   ]
  },
  {
   "cell_type": "raw",
   "metadata": {},
   "source": [
    "# model = lgb.train(params, trn_set, num_boost_round=10000, early_stopping_rounds=100, valid_sets=[vld_set], verbose_eval=50)\n",
    "model = lgb.LGBMRegressor(**params, n_estimators=10000, n_jobs=12)\n",
    "model.fit(X=g4_feats, y=g4_lbls, eval_set=[(g9_feats, g9_lbls)], eval_metric='rmse', verbose=50, early_stopping_rounds=100)"
   ]
  },
  {
   "cell_type": "code",
   "execution_count": 10,
   "metadata": {},
   "outputs": [
    {
     "name": "stdout",
     "output_type": "stream",
     "text": [
      "0.934983763304277\n"
     ]
    }
   ],
   "source": [
    "vld_pred = model.predict(x_vld, num_iteration=model.best_iteration_)\n",
    "vld_pred = np.round(np.clip(vld_pred, 0, 10)).astype(int)\n",
    "f1 = metrics.f1_score(y_vld.astype(int), vld_pred, average = 'macro')\n",
    "print(f1)"
   ]
  },
  {
   "cell_type": "code",
   "execution_count": 10,
   "metadata": {},
   "outputs": [
    {
     "name": "stdout",
     "output_type": "stream",
     "text": [
      "0.6648643063234626\n"
     ]
    }
   ],
   "source": [
    "vld_pred_g0= model.predict(g0_dat, num_iteration=model.best_iteration_)\n",
    "vld_pred_g0 = np.round(np.clip(vld_pred_g0, 0, 10)).astype(int)\n",
    "f1_g0 = metrics.f1_score(g0_lbl.astype(int), vld_pred_g0, average = 'macro')\n",
    "print(f1_g0)"
   ]
  },
  {
   "cell_type": "code",
   "execution_count": 11,
   "metadata": {},
   "outputs": [
    {
     "name": "stdout",
     "output_type": "stream",
     "text": [
      "0.9968103630824334\n"
     ]
    }
   ],
   "source": [
    "vld_pred_g1= model.predict(g1_dat, num_iteration=model.best_iteration_)\n",
    "vld_pred_g1 = np.round(np.clip(vld_pred_g1, 0, 10)).astype(int)\n",
    "f1_g1 = metrics.f1_score(g1_lbl.astype(int), vld_pred_g1, average = 'macro')\n",
    "print(f1_g1)"
   ]
  },
  {
   "cell_type": "code",
   "execution_count": 12,
   "metadata": {},
   "outputs": [
    {
     "name": "stdout",
     "output_type": "stream",
     "text": [
      "0.6647126573075317\n"
     ]
    }
   ],
   "source": [
    "vld_pred_g2= model.predict(g2_dat, num_iteration=model.best_iteration_)\n",
    "vld_pred_g2 = np.round(np.clip(vld_pred_g2, 0, 10)).astype(int)\n",
    "f1_g2 = metrics.f1_score(g2_lbl.astype(int), vld_pred_g2, average = 'macro')\n",
    "print(f1_g2)"
   ]
  },
  {
   "cell_type": "code",
   "execution_count": 21,
   "metadata": {},
   "outputs": [
    {
     "name": "stdout",
     "output_type": "stream",
     "text": [
      "0.986656035463432\n"
     ]
    }
   ],
   "source": [
    "vld_pred_g3= model.predict(g3_dat, num_iteration=model.best_iteration_)\n",
    "vld_pred_g3 = np.round(np.clip(vld_pred_g3, 0, 10)).astype(int)\n",
    "f1_g3 = metrics.f1_score(g3_lbl.astype(int), vld_pred_g3, average = 'macro')\n",
    "print(f1_g3)"
   ]
  },
  {
   "cell_type": "code",
   "execution_count": 22,
   "metadata": {},
   "outputs": [
    {
     "name": "stdout",
     "output_type": "stream",
     "text": [
      "0.8942446664286391\n"
     ]
    }
   ],
   "source": [
    "vld_pred_g4= model.predict(g4_dat, num_iteration=model.best_iteration_)\n",
    "vld_pred_g4 = np.round(np.clip(vld_pred_g4, 0, 10)).astype(int)\n",
    "f1_g4 = metrics.f1_score(g4_lbl.astype(int), vld_pred_g4, average = 'macro')\n",
    "print(f1_g4)"
   ]
  },
  {
   "cell_type": "code",
   "execution_count": 23,
   "metadata": {},
   "outputs": [
    {
     "name": "stdout",
     "output_type": "stream",
     "text": [
      "0.9732927691543368\n"
     ]
    }
   ],
   "source": [
    "vld_pred_g5= model.predict(g5_dat, num_iteration=model.best_iteration_)\n",
    "vld_pred_g5 = np.round(np.clip(vld_pred_g5, 0, 10)).astype(int)\n",
    "f1_g5 = metrics.f1_score(g5_lbl.astype(int), vld_pred_g5, average = 'macro')\n",
    "print(f1_g5)"
   ]
  },
  {
   "cell_type": "code",
   "execution_count": 34,
   "metadata": {},
   "outputs": [
    {
     "name": "stdout",
     "output_type": "stream",
     "text": [
      "0.6646888239380492\n"
     ]
    }
   ],
   "source": [
    "vld_pred_g6= model.predict(g6_dat, num_iteration=model.best_iteration_)\n",
    "vld_pred_g6 = np.round(np.clip(vld_pred_g6, 0, 10)).astype(int)\n",
    "f1_g6 = metrics.f1_score(g6_lbl.astype(int), vld_pred_g6, average = 'macro')\n",
    "print(f1_g6)"
   ]
  },
  {
   "cell_type": "code",
   "execution_count": 15,
   "metadata": {},
   "outputs": [
    {
     "name": "stdout",
     "output_type": "stream",
     "text": [
      "0.9729210756681197\n"
     ]
    }
   ],
   "source": [
    "vld_pred_g7 = model.predict(g7_dat, num_iteration=model.best_iteration_)\n",
    "vld_pred_g7 = np.round(np.clip(vld_pred_g7, 0, 10)).astype(int)\n",
    "f1_g7 = metrics.f1_score(g7_lbl.astype(int), vld_pred_g7, average = 'macro')\n",
    "print(f1_g7)"
   ]
  },
  {
   "cell_type": "code",
   "execution_count": 16,
   "metadata": {},
   "outputs": [
    {
     "name": "stdout",
     "output_type": "stream",
     "text": [
      "0.9756024481983628\n"
     ]
    }
   ],
   "source": [
    "vld_pred_g8 = model.predict(g8_dat, num_iteration=model.best_iteration_)\n",
    "vld_pred_g8 = np.round(np.clip(vld_pred_g8, 0, 10)).astype(int)\n",
    "f1_g8 = metrics.f1_score(g8_lbl.astype(int), vld_pred_g8, average = 'macro')\n",
    "print(f1_g8)"
   ]
  },
  {
   "cell_type": "code",
   "execution_count": 17,
   "metadata": {},
   "outputs": [
    {
     "name": "stdout",
     "output_type": "stream",
     "text": [
      "0.9147493146748186\n"
     ]
    }
   ],
   "source": [
    "vld_pred_g9 = model.predict(g9_dat, num_iteration=model.best_iteration_)\n",
    "vld_pred_g9 = np.round(np.clip(vld_pred_g9, 0, 10)).astype(int)\n",
    "f1_g9 = metrics.f1_score(g9_lbl.astype(int), vld_pred_g9, average = 'macro')\n",
    "print(f1_g9)"
   ]
  },
  {
   "cell_type": "code",
   "execution_count": 47,
   "metadata": {},
   "outputs": [
    {
     "data": {
      "text/plain": [
       "Index(['signal', 'signal_clean', 'signal_clean', 'lag_t1', 'lag_t2', 'lag_t3',\n",
       "       'lead_t1', 'lead_t2', 'lead_t3', 'signalmean_t1000',\n",
       "       ...\n",
       "       'ewm_mean_10', 'ewm_std_10', 'ewm_mean_50', 'ewm_std_50',\n",
       "       'ewm_mean_100', 'ewm_std_100', 'ewm_mean_500', 'ewm_std_500',\n",
       "       'ewm_mean_1000', 'ewm_std_1000'],\n",
       "      dtype='object', length=209)"
      ]
     },
     "execution_count": 47,
     "metadata": {},
     "output_type": "execute_result"
    }
   ],
   "source": [
    "pre_train[features].columns"
   ]
  },
  {
   "cell_type": "code",
   "execution_count": 46,
   "metadata": {},
   "outputs": [
    {
     "data": {
      "text/plain": [
       "Index(['abs_avgbatch_25000', 'signal_clean', 'abs_maxbatch_25000',\n",
       "       'signal_clean', 'p25batch_25000', 'medianbatch_25000', 'p75batch_25000',\n",
       "       'maxtominbatch_25000', 'rangebatch_25000', 'p90batch_25000',\n",
       "       ...\n",
       "       'highpass_lf_0.7943', 'highpass_ff_0.7943', 'grad_1', 'grad_3',\n",
       "       'lag_t3', 'ewm_std_50', 'lead_t2', 'lead_t3', 'lead_t1', 'ewm_std_10'],\n",
       "      dtype='object', length=209)"
      ]
     },
     "execution_count": 46,
     "metadata": {},
     "output_type": "execute_result"
    }
   ],
   "source": [
    "pre_train[features].columns[np.argsort(model.feature_importances_)]"
   ]
  }
 ],
 "metadata": {
  "kernelspec": {
   "display_name": "Python 3",
   "language": "python",
   "name": "python3"
  },
  "language_info": {
   "codemirror_mode": {
    "name": "ipython",
    "version": 3
   },
   "file_extension": ".py",
   "mimetype": "text/x-python",
   "name": "python",
   "nbconvert_exporter": "python",
   "pygments_lexer": "ipython3",
   "version": "3.7.6"
  }
 },
 "nbformat": 4,
 "nbformat_minor": 4
}
