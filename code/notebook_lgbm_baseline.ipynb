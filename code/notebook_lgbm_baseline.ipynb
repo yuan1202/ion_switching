{
 "cells": [
  {
   "cell_type": "code",
   "execution_count": 1,
   "metadata": {},
   "outputs": [],
   "source": [
    "import numpy as np \n",
    "import pandas as pd\n",
    "import math\n",
    "import matplotlib.pyplot as plt\n",
    "import seaborn as sns\n",
    "import warnings\n",
    "import gc\n",
    "warnings.filterwarnings('ignore')\n",
    "import lightgbm as lgb\n",
    "from sklearn.model_selection import GroupKFold, StratifiedKFold, train_test_split\n",
    "from sklearn import metrics\n",
    "from tqdm import tqdm\n",
    "from scipy import signal\n",
    "pd.set_option('display.max_columns', 10000)\n",
    "pd.set_option('display.max_rows', 10000)"
   ]
  },
  {
   "cell_type": "code",
   "execution_count": 2,
   "metadata": {},
   "outputs": [],
   "source": [
    "def read_data():\n",
    "    print('Reading training, testing and submission data...')\n",
    "    \n",
    "    train = pd.read_csv('../input/train_clean.csv')\n",
    "    \n",
    "    test = pd.read_csv('../input/test_clean.csv')\n",
    "    \n",
    "    submission = pd.read_csv('../input/sample_submission.csv', dtype={'time':str})\n",
    "    print('Train set has {} rows and {} columns'.format(train.shape[0], train.shape[1]))\n",
    "    print('Test set has {} rows and {} columns'.format(test.shape[0], test.shape[1]))\n",
    "    return train, test, submission\n",
    "\n",
    "def get_batch(train, test):\n",
    "    # concatenate data\n",
    "    batch = 50\n",
    "    total_batches = 14\n",
    "    train['set'] = 'train'\n",
    "    test['set'] = 'test'\n",
    "    data = pd.concat([train, test])\n",
    "    \n",
    "    for i in range(int(total_batches)):\n",
    "        data.loc[(data['time'] > i * batch) & (data['time'] <= (i + 1) * batch), 'batch'] = i + 1\n",
    "        \n",
    "    train = data[data['set'] == 'train']\n",
    "    test = data[data['set'] == 'test']\n",
    "    train.drop(['set'], inplace = True, axis = 1)\n",
    "    test.drop(['set'], inplace = True, axis = 1)\n",
    "    del data\n",
    "    return train, test\n",
    "\n",
    "def reduce_mem_usage(df, verbose=True):\n",
    "    numerics = ['int16', 'int32', 'int64', 'float16', 'float32', 'float64']\n",
    "    start_mem = df.memory_usage().sum() / 1024**2    \n",
    "    for col in df.columns:\n",
    "        if col!='open_channels':\n",
    "            col_type = df[col].dtypes\n",
    "            if col_type in numerics:\n",
    "                c_min = df[col].min()\n",
    "                c_max = df[col].max()\n",
    "                if str(col_type)[:3] == 'int':\n",
    "                    if c_min > np.iinfo(np.int8).min and c_max < np.iinfo(np.int8).max:\n",
    "                        df[col] = df[col].astype(np.int8)\n",
    "                    elif c_min > np.iinfo(np.int16).min and c_max < np.iinfo(np.int16).max:\n",
    "                        df[col] = df[col].astype(np.int16)\n",
    "                    elif c_min > np.iinfo(np.int32).min and c_max < np.iinfo(np.int32).max:\n",
    "                        df[col] = df[col].astype(np.int32)\n",
    "                    elif c_min > np.iinfo(np.int64).min and c_max < np.iinfo(np.int64).max:\n",
    "                        df[col] = df[col].astype(np.int64)  \n",
    "                else:\n",
    "                    if c_min > np.finfo(np.float16).min and c_max < np.finfo(np.float16).max:\n",
    "                        df[col] = df[col].astype(np.float16)\n",
    "                    elif c_min > np.finfo(np.float32).min and c_max < np.finfo(np.float32).max:\n",
    "                        df[col] = df[col].astype(np.float32)\n",
    "                    else:\n",
    "                        df[col] = df[col].astype(np.float64)    \n",
    "    end_mem = df.memory_usage().sum() / 1024**2\n",
    "    if verbose: print('Mem. usage decreased to {:5.2f} Mb ({:.1f}% reduction)'.format(end_mem, 100 * (start_mem - end_mem) / start_mem))\n",
    "    return df\n",
    "\n",
    "def calc_gradients(s, n_grads = 4):\n",
    "    '''\n",
    "    Calculate gradients for a pandas series. Returns the same number of samples\n",
    "    '''\n",
    "    grads = pd.DataFrame()\n",
    "    \n",
    "    g = s.values\n",
    "    for i in range(n_grads):\n",
    "        g = np.gradient(g)\n",
    "        grads['grad_' + str(i+1)] = g\n",
    "        \n",
    "    return grads\n",
    "\n",
    "def calc_low_pass(s, n_filts=10):\n",
    "    '''\n",
    "    Applies low pass filters to the signal. Left delayed and no delayed\n",
    "    '''\n",
    "    wns = np.logspace(-2, -0.3, n_filts)\n",
    "    \n",
    "    low_pass = pd.DataFrame()\n",
    "    x = s.values\n",
    "    for wn in wns:\n",
    "        b, a = signal.butter(1, Wn=wn, btype='low')\n",
    "        zi = signal.lfilter_zi(b, a)\n",
    "        low_pass['lowpass_lf_' + str('%.4f' %wn)] = signal.lfilter(b, a, x, zi=zi*x[0])[0]\n",
    "        low_pass['lowpass_ff_' + str('%.4f' %wn)] = signal.filtfilt(b, a, x)\n",
    "        \n",
    "    return low_pass\n",
    "\n",
    "def calc_high_pass(s, n_filts=10):\n",
    "    '''\n",
    "    Applies high pass filters to the signal. Left delayed and no delayed\n",
    "    '''\n",
    "    wns = np.logspace(-2, -0.1, n_filts)\n",
    "    \n",
    "    high_pass = pd.DataFrame()\n",
    "    x = s.values\n",
    "    for wn in wns:\n",
    "        b, a = signal.butter(1, Wn=wn, btype='high')\n",
    "        zi = signal.lfilter_zi(b, a)\n",
    "        high_pass['highpass_lf_' + str('%.4f' %wn)] = signal.lfilter(b, a, x, zi=zi*x[0])[0]\n",
    "        high_pass['highpass_ff_' + str('%.4f' %wn)] = signal.filtfilt(b, a, x)\n",
    "        \n",
    "    return high_pass\n",
    "\n",
    "def calc_ewm(s, windows=[10, 50, 100, 150, 200, 500, 1000]):\n",
    "    '''\n",
    "    Calculates exponential weighted functions\n",
    "    '''\n",
    "    ewm = pd.DataFrame()\n",
    "    for w in windows:\n",
    "        ewm['ewm_mean_' + str(w)] = s.ewm(span=w, min_periods=1).mean()\n",
    "        ewm['ewm_std_' + str(w)] = s.ewm(span=w, min_periods=1).std()\n",
    "        \n",
    "    # add zeros when na values (std)\n",
    "    ewm = ewm.fillna(value=0)\n",
    "        \n",
    "    return ewm\n",
    "\n",
    "\n",
    "def add_features(s):\n",
    "    '''\n",
    "    All calculations together\n",
    "    '''\n",
    "    \n",
    "    gradients = calc_gradients(s)\n",
    "    low_pass = calc_low_pass(s)\n",
    "    high_pass = calc_high_pass(s)\n",
    "    ewm = calc_ewm(s)\n",
    "    \n",
    "    return pd.concat([s, gradients, low_pass, high_pass, ewm], axis=1)\n",
    "\n",
    "\n",
    "def divide_and_add_features(s, signal_size=500000):\n",
    "    '''\n",
    "    Divide the signal in bags of \"signal_size\".\n",
    "    Normalize the data dividing it by 15.0\n",
    "    '''\n",
    "    # normalize\n",
    "    s = s / 15.0\n",
    "    \n",
    "    ls = []\n",
    "    # this is just to divide the data up into batches (bags) to keep track of progress\n",
    "    # output is still the same size as input\n",
    "    for i in tqdm(range(int(s.shape[0]/signal_size))):\n",
    "        sig = s[i*signal_size:(i+1)*signal_size].copy().reset_index(drop=True)\n",
    "        sig_featured = add_features(sig)\n",
    "        ls.append(sig_featured)\n",
    "    \n",
    "    return pd.concat(ls, axis=0)\n",
    "\n",
    "def rolling_features(train, test):\n",
    "    \n",
    "    pre_train = train.copy()\n",
    "    pre_test = test.copy()\n",
    "    \n",
    "        \n",
    "    for df in [pre_train, pre_test]:\n",
    "        \n",
    "        df['lag_t1'] = df.groupby('batch')['signal'].transform(lambda x: x.shift(1))\n",
    "        df['lag_t2'] = df.groupby('batch')['signal'].transform(lambda x: x.shift(2))\n",
    "        df['lag_t3'] = df.groupby('batch')['signal'].transform(lambda x: x.shift(3))\n",
    "        \n",
    "        df['lead_t1'] = df.groupby('batch')['signal'].transform(lambda x: x.shift(-1))\n",
    "        df['lead_t2'] = df.groupby('batch')['signal'].transform(lambda x: x.shift(-2))\n",
    "        df['lead_t3'] = df.groupby('batch')['signal'].transform(lambda x: x.shift(-3))\n",
    "                \n",
    "        for window in [50, 100, 150, 200, 300, 500, 1000, 5000]:\n",
    "            \n",
    "            # roll backwards\n",
    "            df['signalmean_t' + str(window)] = df.groupby(['batch'])['signal'].transform(lambda x: x.shift(1).rolling(window).mean())\n",
    "            df['signalstd_t' + str(window)] = df.groupby(['batch'])['signal'].transform(lambda x: x.shift(1).rolling(window).std())\n",
    "            df['signalvar_t' + str(window)] = df.groupby(['batch'])['signal'].transform(lambda x: x.shift(1).rolling(window).var())\n",
    "            df['signalmin_t' + str(window)] = df.groupby(['batch'])['signal'].transform(lambda x: x.shift(1).rolling(window).min())\n",
    "            df['signalmax_t' + str(window)] = df.groupby(['batch'])['signal'].transform(lambda x: x.shift(1).rolling(window).max())\n",
    "            df['signalskew_t' + str(window)] = df.groupby(['batch'])['signal'].transform(lambda x: x.shift(1).rolling(window).skew())\n",
    "            df['signalcov_t' + str(window)] = df.groupby(['batch'])['signal'].transform(lambda x: x.shift(1).rolling(window).cov())\n",
    "            df['signalcorr_t' + str(window)] = df.groupby(['batch'])['signal'].transform(lambda x: x.shift(1).rolling(window).corr())\n",
    "            df['signalkurt_t' + str(window)] = df.groupby(['batch'])['signal'].transform(lambda x: x.shift(1).rolling(window).kurt())\n",
    "            min_max = (df['signal'] - df['signalmin_t' + str(window)]) / (df['signalmax_t' + str(window)] - df['signalmin_t' + str(window)])\n",
    "            df['norm_t' + str(window)] = min_max * (np.floor(df['signalmax_t' + str(window)]) - np.ceil(df['signalmin_t' + str(window)]))\n",
    "            \n",
    "            # roll forward\n",
    "            df['signalmean_t' + str(window) + '_lead'] = df.groupby(['batch'])['signal'].transform(lambda x: x.shift(- window - 1).rolling(window).mean())\n",
    "            df['signalstd_t' + str(window) + '_lead'] = df.groupby(['batch'])['signal'].transform(lambda x: x.shift(- window - 1).rolling(window).std())\n",
    "            df['signalvar_t' + str(window) + '_lead'] = df.groupby(['batch'])['signal'].transform(lambda x: x.shift(- window - 1).rolling(window).var())\n",
    "            df['signalmin_t' + str(window) + '_lead'] = df.groupby(['batch'])['signal'].transform(lambda x: x.shift(- window - 1).rolling(window).min())\n",
    "            df['signalmax_t' + str(window) + '_lead'] = df.groupby(['batch'])['signal'].transform(lambda x: x.shift(- window - 1).rolling(window).max())\n",
    "            df['signalskew_t' + str(window) + '_lead'] = df.groupby(['batch'])['signal'].transform(lambda x: x.shift(- window - 1).rolling(window).skew())\n",
    "            df['signalcov_t' + str(window) + '_lead'] = df.groupby(['batch'])['signal'].transform(lambda x: x.shift(- window - 1).rolling(window).cov()) \n",
    "            df['signalcorr_t' + str(window) + '_lead'] = df.groupby(['batch'])['signal'].transform(lambda x: x.shift(- window - 1).rolling(window).corr()) \n",
    "            df['signalkurt_t' + str(window) + '_lead'] = df.groupby(['batch'])['signal'].transform(lambda x: x.shift(- window - 1).rolling(window).kurt()) \n",
    "            min_max = (df['signal'] - df['signalmin_t' + str(window) + '_lead']) / (df['signalmax_t' + str(window) + '_lead'] - df['signalmin_t' + str(window) + '_lead'])\n",
    "            df['norm_t' + str(window) + '_lead'] = min_max * (np.floor(df['signalmax_t' + str(window) + '_lead']) - np.ceil(df['signalmin_t' + str(window) + '_lead']))\n",
    "            \n",
    "    del train, test, min_max\n",
    "    \n",
    "    return pre_train, pre_test\n",
    "\n",
    "def static_batch_features(df, n):\n",
    "    \n",
    "    df = df.copy()\n",
    "    df.drop('batch', inplace = True, axis = 1)\n",
    "    df = df.sort_values(by=['time']).reset_index(drop=True)\n",
    "    df.index = ((df.time * 10000) - 1).values\n",
    "    # creats 'batch_25000' column, hence every 25000 row or time units counts as one batch, \n",
    "    # therefore in total 200 batches\n",
    "    df['batch_' + str(n)] = df.index // n\n",
    "    # create index starting from 0 for each 25000 batch\n",
    "    df['batch_index_' + str(n)] = df.index  - (df['batch_' + str(n)] * n)\n",
    "    # create index to seperate each batch into 10 equal slices\n",
    "    df['batch_slices_' + str(n)] = df['batch_index_' + str(n)]  // (n / 10)\n",
    "    # creates a string lable for each 25000 batch and sub-batch 1/10 slice pair\n",
    "    df['batch_slices2_' + str(n)] = df.apply(lambda r: '_'.join([str(r['batch_' + str(n)]).zfill(3), str(r['batch_slices_' + str(n)]).zfill(3)]), axis=1)\n",
    "    # group by batch and batch-sub-batch-slice pair, for each groupby calculate statistics\n",
    "    for c in ['batch_' + str(n), 'batch_slices2_' + str(n)]:\n",
    "        d = {}\n",
    "        # -----------------------------------------------\n",
    "        d['mean' + c] = df.groupby([c])['signal'].mean()\n",
    "        d['median' + c] = df.groupby([c])['signal'].median()\n",
    "        d['max' + c] = df.groupby([c])['signal'].max()\n",
    "        d['min' + c] = df.groupby([c])['signal'].min()\n",
    "        d['std' + c] = df.groupby([c])['signal'].std()\n",
    "        d['p10' + c] = df.groupby([c])['signal'].apply(lambda x: np.percentile(x, 10))\n",
    "        d['p25' + c] = df.groupby([c])['signal'].apply(lambda x: np.percentile(x, 25))\n",
    "        d['p75' + c] = df.groupby([c])['signal'].apply(lambda x: np.percentile(x, 75))\n",
    "        d['p90' + c] = df.groupby([c])['signal'].apply(lambda x: np.percentile(x, 90))\n",
    "        d['skew' + c] = df.groupby([c])['signal'].apply(lambda x: pd.Series(x).skew())\n",
    "        d['kurtosis' + c] = df.groupby([c])['signal'].apply(lambda x: pd.Series(x).kurtosis())\n",
    "        min_max = (d['mean' + c] - d['min' + c]) / (d['max' + c] - d['min' + c])\n",
    "        d['norm' + c] = min_max * (np.floor(d['max' + c]) - np.ceil(d['min' + c]))\n",
    "        d['mean_abs_chg' + c] = df.groupby([c])['signal'].apply(lambda x: np.mean(np.abs(np.diff(x))))\n",
    "        d['abs_max' + c] = df.groupby([c])['signal'].apply(lambda x: np.max(np.abs(x)))\n",
    "        d['abs_min' + c] = df.groupby([c])['signal'].apply(lambda x: np.min(np.abs(x)))\n",
    "        d['range' + c] = d['max' + c] - d['min' + c]\n",
    "        d['maxtomin' + c] = d['max' + c] / d['min' + c]\n",
    "        d['abs_avg' + c] = (d['abs_min' + c] + d['abs_max' + c]) / 2\n",
    "        # -----------------------------------------------\n",
    "        for v in d:\n",
    "            df[v] = df[c].map(d[v].to_dict())\n",
    "\n",
    "    for c in [c1 for c1 in df.columns if c1 not in ['time', 'signal', 'open_channels', 'batch', 'batch_' + str(n), \n",
    "                                                    'batch_index_' + str(n), 'batch_slices_' + str(n), \n",
    "                                                    'batch_slices2_' + str(n)]]:\n",
    "        df[c + '_msignal'] = df[c] - df['signal']\n",
    "        \n",
    "    df.reset_index(drop = True, inplace = True)\n",
    "        \n",
    "    return df"
   ]
  },
  {
   "cell_type": "code",
   "execution_count": 3,
   "metadata": {},
   "outputs": [
    {
     "name": "stdout",
     "output_type": "stream",
     "text": [
      "Reading training, testing and submission data...\n",
      "Train set has 5000000 rows and 3 columns\n",
      "Test set has 2000000 rows and 2 columns\n"
     ]
    }
   ],
   "source": [
    "train, test, submission = read_data()"
   ]
  },
  {
   "cell_type": "raw",
   "metadata": {},
   "source": [
    "_, ax = plt.subplots(1, 1, figsize=(10, 7))\n",
    "ax.plot(train['signal'], c='red')\n",
    "ax.plot(train['signal_clean'], c='green')"
   ]
  },
  {
   "cell_type": "code",
   "execution_count": 4,
   "metadata": {},
   "outputs": [
    {
     "name": "stderr",
     "output_type": "stream",
     "text": [
      "100%|██████████| 10/10 [00:04<00:00,  2.21it/s]\n",
      "100%|██████████| 4/4 [00:01<00:00,  2.01it/s]\n"
     ]
    },
    {
     "name": "stdout",
     "output_type": "stream",
     "text": [
      "Mem. usage decreased to 562.67 Mb (75.0% reduction)\n",
      "Mem. usage decreased to 225.07 Mb (75.0% reduction)\n"
     ]
    }
   ],
   "source": [
    "pre_train0 = divide_and_add_features(train['signal'])\n",
    "pre_test0 = divide_and_add_features(test['signal'])\n",
    "# pre_train4.drop(['signal_clean'], inplace=True, axis=1)\n",
    "# pre_test4.drop(['signal_clean'], inplace=True, axis = 1)\n",
    "pre_train0.reset_index(inplace=True, drop=True)\n",
    "pre_test0.reset_index(inplace=True, drop=True)\n",
    "pre_train0 = reduce_mem_usage(pre_train0)\n",
    "pre_test0 = reduce_mem_usage(pre_test0)"
   ]
  },
  {
   "cell_type": "code",
   "execution_count": 5,
   "metadata": {},
   "outputs": [
    {
     "name": "stdout",
     "output_type": "stream",
     "text": [
      "Mem. usage decreased to 1688.00 Mb (74.1% reduction)\n",
      "Mem. usage decreased to 675.20 Mb (74.1% reduction)\n",
      "Mem. usage decreased to 925.06 Mb (69.3% reduction)\n",
      "Mem. usage decreased to 350.95 Mb (70.9% reduction)\n",
      "Mem. usage decreased to 925.06 Mb (69.3% reduction)\n",
      "Mem. usage decreased to 347.14 Mb (71.2% reduction)\n",
      "Mem. usage decreased to 925.06 Mb (69.3% reduction)\n",
      "Mem. usage decreased to 324.25 Mb (73.1% reduction)\n"
     ]
    }
   ],
   "source": [
    "train, test = get_batch(train, test)\n",
    "pre_train1, pre_test1 = rolling_features(train, test)\n",
    "pre_train1 = reduce_mem_usage(pre_train1)\n",
    "pre_test1 = reduce_mem_usage(pre_test1)\n",
    "\n",
    "pre_train2 = static_batch_features(train, 100)\n",
    "pre_train2 = reduce_mem_usage(pre_train2)\n",
    "pre_test2 = static_batch_features(test, 100)\n",
    "pre_test2 = reduce_mem_usage(pre_test2)\n",
    "\n",
    "pre_train3 = static_batch_features(train, 200)\n",
    "pre_train3 = reduce_mem_usage(pre_train3)\n",
    "pre_test3 = static_batch_features(test, 200)\n",
    "pre_test3 = reduce_mem_usage(pre_test3)\n",
    "\n",
    "pre_train4 = static_batch_features(train, 400)\n",
    "pre_train4 = reduce_mem_usage(pre_train4)\n",
    "pre_test4 = static_batch_features(test, 400)\n",
    "pre_test4 = reduce_mem_usage(pre_test4)"
   ]
  },
  {
   "cell_type": "code",
   "execution_count": 10,
   "metadata": {},
   "outputs": [],
   "source": [
    "column_filter = [\n",
    "    'open_channels', 'signal', 'time', \n",
    "    'batch_100', 'batch_index_100', 'batch_slices_100', 'batch_slices2_100',\n",
    "    'batch_200', 'batch_index_200', 'batch_slices_200', 'batch_slices2_200',\n",
    "    'batch_400', 'batch_index_400', 'batch_slices_400', 'batch_slices2_400',\n",
    "    #'batch_25000', 'batch_index_25000', 'batch_slices_25000', 'batch_slices2_25000',\n",
    "]\n",
    "feat2 = [col for col in pre_train2.columns if col not in column_filter]\n",
    "feat3 = [col for col in pre_train3.columns if col not in column_filter]\n",
    "feat4 = [col for col in pre_train4.columns if col not in column_filter]\n",
    "pre_train = pd.concat([pre_train0, pre_train1, pre_train2[feat2], pre_train3[feat3], pre_train4[feat4]], axis = 1)\n",
    "pre_test = pd.concat([pre_test0, pre_test1, pre_test2[feat2], pre_test3[feat3], pre_test4[feat4]], axis = 1)\n",
    "# del pre_train1, pre_train2, pre_train4, pre_test1, pre_test2, pre_test4"
   ]
  },
  {
   "cell_type": "code",
   "execution_count": 23,
   "metadata": {},
   "outputs": [],
   "source": [
    "pre_train_lbl = pre_train.loc[:, ['open_channels']].copy()"
   ]
  },
  {
   "cell_type": "code",
   "execution_count": 33,
   "metadata": {},
   "outputs": [],
   "source": [
    "pre_train_lbl.to_pickle('../input/feats_tblr/trn_lbl_orig_v2_all.pkl')"
   ]
  },
  {
   "cell_type": "code",
   "execution_count": 18,
   "metadata": {},
   "outputs": [],
   "source": [
    "pre_train.to_pickle('../input/feats_tblr/trn_dat_orig_v2_all.pkl')"
   ]
  },
  {
   "cell_type": "code",
   "execution_count": 19,
   "metadata": {},
   "outputs": [],
   "source": [
    "pre_test.to_pickle('../input/feats_tblr/tst_dat_orig_v2_all.pkl')"
   ]
  },
  {
   "cell_type": "code",
   "execution_count": 9,
   "metadata": {},
   "outputs": [],
   "source": [
    "features = [col for col in pre_train.columns if col not in ['open_channels', 'time', 'batch']]"
   ]
  },
  {
   "cell_type": "code",
   "execution_count": 7,
   "metadata": {},
   "outputs": [],
   "source": [
    "import bloscpack as bp"
   ]
  },
  {
   "cell_type": "code",
   "execution_count": 12,
   "metadata": {},
   "outputs": [],
   "source": [
    "bp.pack_ndarray_to_file(pre_train[features].values, '../input/trn_dat_orig_all.bp')\n",
    "bp.pack_ndarray_to_file(pre_train[target].values, '../input/trn_lbl_orig_all.bp')"
   ]
  },
  {
   "cell_type": "code",
   "execution_count": 8,
   "metadata": {},
   "outputs": [],
   "source": [
    "# params = {\n",
    "#     'boosting_type': 'gbdt',\n",
    "#     'metric': 'rmse',\n",
    "#     'objective': 'regression',\n",
    "#     'n_jobs': 6,\n",
    "#     'seed': 236,\n",
    "#     'num_leaves': 280,\n",
    "#     'learning_rate': 0.026623466966581126,\n",
    "#     'max_depth': 80,\n",
    "#     'lambda_l1': 2.959759088169741,\n",
    "#     'lambda_l2': 1.331172832164913,\n",
    "#     'bagging_fraction': 0.9655406551472153,\n",
    "#     'bagging_freq': 9,\n",
    "#     'colsample_bytree': 0.6867118652742716\n",
    "# }\n",
    "\n",
    "params = {\n",
    "    \"boosting\": \"gbdt\",\n",
    "    \"metric\": 'rmse',\n",
    "    'objective': 'huber',\n",
    "    'random_state': 236,\n",
    "    'num_leaves': 280,\n",
    "    'learning_rate': 0.026623466966581126,\n",
    "    'max_depth': 80,\n",
    "    'reg_alpha': 2.959759088169741, # L1\n",
    "    'reg_lambda': 1.331172832164913, # L2\n",
    "    \"bagging_fraction\": 0.9655406551472153,\n",
    "    \"bagging_freq\": 9,\n",
    "    'colsample_bytree': 0.6867118652742716\n",
    "}"
   ]
  },
  {
   "cell_type": "raw",
   "metadata": {},
   "source": [
    "for i in range(10):\n",
    "    dat = pre_train[features].iloc[batch_id_trn[i]].values\n",
    "    lbl = pre_train['open_channels'].iloc[batch_id_trn[i]].values\n",
    "    break\n",
    "    bp.pack_ndarray_to_file(dat, '../input/trn_dat_orig_g{}.bp'.format(i))\n",
    "    bp.pack_ndarray_to_file(lbl, '../input/trn_lbl_orig_g{}.bp'.format(i))"
   ]
  },
  {
   "cell_type": "code",
   "execution_count": 11,
   "metadata": {},
   "outputs": [],
   "source": [
    "kf = StratifiedKFold(n_splits=10, shuffle=True, random_state=42)\n",
    "target = 'open_channels'"
   ]
  },
  {
   "cell_type": "code",
   "execution_count": 11,
   "metadata": {},
   "outputs": [],
   "source": [
    "for fold, (trn_ndcs, vld_ndcs) in enumerate(kf.split(pre_train, pre_train[target])):\n",
    "    x_trn, x_vld = pre_train[features].iloc[trn_ndcs], pre_train[features].iloc[vld_ndcs]\n",
    "    y_trn, y_vld = pre_train[target][trn_ndcs], pre_train[target][vld_ndcs]\n",
    "    #trn_set = lgb.Dataset(x_trn, y_trn)\n",
    "    #vld_set = lgb.Dataset(x_vld, y_vld)\n",
    "    break"
   ]
  },
  {
   "cell_type": "code",
   "execution_count": 12,
   "metadata": {},
   "outputs": [
    {
     "name": "stdout",
     "output_type": "stream",
     "text": [
      "Training until validation scores don't improve for 100 rounds\n",
      "[50]\tvalid_0's rmse: 1.7831\n",
      "[100]\tvalid_0's rmse: 1.13112\n",
      "[150]\tvalid_0's rmse: 0.692472\n",
      "[200]\tvalid_0's rmse: 0.377599\n",
      "[250]\tvalid_0's rmse: 0.205497\n",
      "[300]\tvalid_0's rmse: 0.159849\n",
      "[350]\tvalid_0's rmse: 0.155435\n",
      "[400]\tvalid_0's rmse: 0.155023\n",
      "[450]\tvalid_0's rmse: 0.154923\n",
      "[500]\tvalid_0's rmse: 0.154859\n",
      "[550]\tvalid_0's rmse: 0.154815\n",
      "[600]\tvalid_0's rmse: 0.154777\n",
      "[650]\tvalid_0's rmse: 0.154733\n",
      "[700]\tvalid_0's rmse: 0.154707\n",
      "[750]\tvalid_0's rmse: 0.154669\n",
      "[800]\tvalid_0's rmse: 0.154642\n",
      "[850]\tvalid_0's rmse: 0.154608\n",
      "[900]\tvalid_0's rmse: 0.15458\n",
      "[950]\tvalid_0's rmse: 0.154569\n",
      "[1000]\tvalid_0's rmse: 0.154553\n",
      "[1050]\tvalid_0's rmse: 0.154533\n",
      "[1100]\tvalid_0's rmse: 0.154519\n",
      "[1150]\tvalid_0's rmse: 0.154485\n",
      "[1200]\tvalid_0's rmse: 0.15447\n",
      "[1250]\tvalid_0's rmse: 0.154459\n",
      "[1300]\tvalid_0's rmse: 0.15445\n",
      "[1350]\tvalid_0's rmse: 0.154436\n",
      "[1400]\tvalid_0's rmse: 0.154421\n",
      "[1450]\tvalid_0's rmse: 0.154407\n",
      "[1500]\tvalid_0's rmse: 0.154396\n",
      "[1550]\tvalid_0's rmse: 0.154395\n",
      "[1600]\tvalid_0's rmse: 0.154387\n",
      "[1650]\tvalid_0's rmse: 0.154382\n",
      "[1700]\tvalid_0's rmse: 0.154377\n",
      "[1750]\tvalid_0's rmse: 0.154367\n",
      "[1800]\tvalid_0's rmse: 0.154356\n",
      "[1850]\tvalid_0's rmse: 0.154354\n",
      "[1900]\tvalid_0's rmse: 0.15434\n",
      "[1950]\tvalid_0's rmse: 0.154335\n",
      "[2000]\tvalid_0's rmse: 0.154319\n",
      "[2050]\tvalid_0's rmse: 0.154311\n",
      "[2100]\tvalid_0's rmse: 0.1543\n",
      "[2150]\tvalid_0's rmse: 0.15429\n",
      "[2200]\tvalid_0's rmse: 0.154289\n",
      "[2250]\tvalid_0's rmse: 0.154286\n",
      "[2300]\tvalid_0's rmse: 0.154279\n",
      "[2350]\tvalid_0's rmse: 0.154281\n",
      "[2400]\tvalid_0's rmse: 0.154278\n",
      "[2450]\tvalid_0's rmse: 0.154272\n",
      "[2500]\tvalid_0's rmse: 0.154261\n",
      "[2550]\tvalid_0's rmse: 0.154259\n",
      "[2600]\tvalid_0's rmse: 0.154256\n",
      "[2650]\tvalid_0's rmse: 0.154252\n",
      "[2700]\tvalid_0's rmse: 0.154245\n",
      "[2750]\tvalid_0's rmse: 0.154233\n",
      "[2800]\tvalid_0's rmse: 0.154231\n",
      "[2850]\tvalid_0's rmse: 0.154235\n",
      "[2900]\tvalid_0's rmse: 0.154237\n",
      "Early stopping, best iteration is:\n",
      "[2802]\tvalid_0's rmse: 0.15423\n"
     ]
    },
    {
     "data": {
      "text/plain": [
       "LGBMRegressor(bagging_fraction=0.9655406551472153, bagging_freq=9,\n",
       "              boosting='gbdt', boosting_type='gbdt', class_weight=None,\n",
       "              colsample_bytree=0.6867118652742716, importance_type='split',\n",
       "              learning_rate=0.026623466966581126, max_depth=80, metric='rmse',\n",
       "              min_child_samples=20, min_child_weight=0.001, min_split_gain=0.0,\n",
       "              n_estimators=10000, n_jobs=12, num_leaves=280, objective='huber',\n",
       "              random_state=236, reg_alpha=2.959759088169741,\n",
       "              reg_lambda=1.331172832164913, silent=True, subsample=1.0,\n",
       "              subsample_for_bin=200000, subsample_freq=0)"
      ]
     },
     "execution_count": 12,
     "metadata": {},
     "output_type": "execute_result"
    }
   ],
   "source": [
    "# model = lgb.train(params, trn_set, num_boost_round=10000, early_stopping_rounds=100, valid_sets=[vld_set], verbose_eval=50)\n",
    "model = lgb.LGBMRegressor(**params, n_estimators=10000, n_jobs=12)\n",
    "model.fit(X=x_trn, y=y_trn, eval_set=[(x_vld, y_vld)], eval_metric='rmse', verbose=50, early_stopping_rounds=100)"
   ]
  },
  {
   "cell_type": "code",
   "execution_count": 13,
   "metadata": {},
   "outputs": [],
   "source": [
    "vld_pred = model.predict(x_vld, num_iteration=model.best_iteration_)\n",
    "vld_pred = np.round(np.clip(vld_pred, 0, 10)).astype(int)"
   ]
  },
  {
   "cell_type": "code",
   "execution_count": 14,
   "metadata": {},
   "outputs": [
    {
     "name": "stdout",
     "output_type": "stream",
     "text": [
      "0.9384238806036712\n"
     ]
    }
   ],
   "source": [
    "f1 = metrics.f1_score(y_vld.astype(int), vld_pred, average = 'macro')\n",
    "print(f1)"
   ]
  },
  {
   "cell_type": "code",
   "execution_count": 47,
   "metadata": {},
   "outputs": [
    {
     "data": {
      "text/plain": [
       "Index(['signal', 'signal_clean', 'signal_clean', 'lag_t1', 'lag_t2', 'lag_t3',\n",
       "       'lead_t1', 'lead_t2', 'lead_t3', 'signalmean_t1000',\n",
       "       ...\n",
       "       'ewm_mean_10', 'ewm_std_10', 'ewm_mean_50', 'ewm_std_50',\n",
       "       'ewm_mean_100', 'ewm_std_100', 'ewm_mean_500', 'ewm_std_500',\n",
       "       'ewm_mean_1000', 'ewm_std_1000'],\n",
       "      dtype='object', length=209)"
      ]
     },
     "execution_count": 47,
     "metadata": {},
     "output_type": "execute_result"
    }
   ],
   "source": [
    "pre_train[features].columns"
   ]
  },
  {
   "cell_type": "code",
   "execution_count": 46,
   "metadata": {},
   "outputs": [
    {
     "data": {
      "text/plain": [
       "Index(['abs_avgbatch_25000', 'signal_clean', 'abs_maxbatch_25000',\n",
       "       'signal_clean', 'p25batch_25000', 'medianbatch_25000', 'p75batch_25000',\n",
       "       'maxtominbatch_25000', 'rangebatch_25000', 'p90batch_25000',\n",
       "       ...\n",
       "       'highpass_lf_0.7943', 'highpass_ff_0.7943', 'grad_1', 'grad_3',\n",
       "       'lag_t3', 'ewm_std_50', 'lead_t2', 'lead_t3', 'lead_t1', 'ewm_std_10'],\n",
       "      dtype='object', length=209)"
      ]
     },
     "execution_count": 46,
     "metadata": {},
     "output_type": "execute_result"
    }
   ],
   "source": [
    "pre_train[features].columns[np.argsort(model.feature_importances_)]"
   ]
  },
  {
   "cell_type": "code",
   "execution_count": 41,
   "metadata": {},
   "outputs": [
    {
     "data": {
      "text/plain": [
       "(209,)"
      ]
     },
     "execution_count": 41,
     "metadata": {},
     "output_type": "execute_result"
    }
   ],
   "source": [
    "model.feature_importances_"
   ]
  },
  {
   "cell_type": "code",
   "execution_count": 25,
   "metadata": {},
   "outputs": [
    {
     "data": {
      "text/plain": [
       "209"
      ]
     },
     "execution_count": 25,
     "metadata": {},
     "output_type": "execute_result"
    }
   ],
   "source": [
    "len(model.feature_importances_)"
   ]
  },
  {
   "cell_type": "code",
   "execution_count": 22,
   "metadata": {},
   "outputs": [
    {
     "data": {
      "text/plain": [
       "[11655, 10170, 10643, 12625]"
      ]
     },
     "execution_count": 22,
     "metadata": {},
     "output_type": "execute_result"
    }
   ],
   "source": [
    "[i for i in model.feature_importances_ if i > 10000]"
   ]
  },
  {
   "cell_type": "code",
   "execution_count": 23,
   "metadata": {},
   "outputs": [
    {
     "ename": "IndexError",
     "evalue": "boolean index did not match indexed array along dimension 0; dimension is 207 but corresponding boolean dimension is 209",
     "output_type": "error",
     "traceback": [
      "\u001b[0;31m---------------------------------------------------------------------------\u001b[0m",
      "\u001b[0;31mIndexError\u001b[0m                                Traceback (most recent call last)",
      "\u001b[0;32m<ipython-input-23-4f693cd02765>\u001b[0m in \u001b[0;36m<module>\u001b[0;34m\u001b[0m\n\u001b[0;32m----> 1\u001b[0;31m \u001b[0mnp\u001b[0m\u001b[0;34m.\u001b[0m\u001b[0marray\u001b[0m\u001b[0;34m(\u001b[0m\u001b[0mfeatures\u001b[0m\u001b[0;34m)\u001b[0m\u001b[0;34m[\u001b[0m\u001b[0mmodel\u001b[0m\u001b[0;34m.\u001b[0m\u001b[0mfeature_importances_\u001b[0m \u001b[0;34m>\u001b[0m \u001b[0;36m10000\u001b[0m\u001b[0;34m]\u001b[0m\u001b[0;34m\u001b[0m\u001b[0;34m\u001b[0m\u001b[0m\n\u001b[0m",
      "\u001b[0;31mIndexError\u001b[0m: boolean index did not match indexed array along dimension 0; dimension is 207 but corresponding boolean dimension is 209"
     ]
    }
   ],
   "source": [
    "np.array(features)[model.feature_importances_ > 10000]"
   ]
  },
  {
   "cell_type": "code",
   "execution_count": 24,
   "metadata": {},
   "outputs": [
    {
     "data": {
      "text/plain": [
       "207"
      ]
     },
     "execution_count": 24,
     "metadata": {},
     "output_type": "execute_result"
    }
   ],
   "source": [
    "len(features)"
   ]
  }
 ],
 "metadata": {
  "kernelspec": {
   "display_name": "Python 3",
   "language": "python",
   "name": "python3"
  },
  "language_info": {
   "codemirror_mode": {
    "name": "ipython",
    "version": 3
   },
   "file_extension": ".py",
   "mimetype": "text/x-python",
   "name": "python",
   "nbconvert_exporter": "python",
   "pygments_lexer": "ipython3",
   "version": "3.7.6"
  }
 },
 "nbformat": 4,
 "nbformat_minor": 4
}
