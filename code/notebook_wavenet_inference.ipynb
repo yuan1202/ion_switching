{
 "cells": [
  {
   "cell_type": "code",
   "execution_count": 1,
   "metadata": {
    "_cell_guid": "b1076dfc-b9ad-4769-8c92-a6c4dae69d19",
    "_uuid": "8f2839f25d086af736a60e9eeb907d3b93b6e0e5"
   },
   "outputs": [],
   "source": [
    "import os\n",
    "import gc\n",
    "import random\n",
    "\n",
    "import warnings\n",
    "warnings.simplefilter('ignore')\n",
    "warnings.filterwarnings('ignore')\n",
    "\n",
    "import pandas as pd\n",
    "import numpy as np\n",
    "from scipy.stats import skew, kurtosis\n",
    "import matplotlib.pyplot as plt\n",
    "\n",
    "import bloscpack as bp\n",
    "\n",
    "from tsfresh.feature_extraction import feature_calculators\n",
    "\n",
    "import torch\n",
    "import torch.nn as nn\n",
    "import torch.nn.functional as F\n",
    "from torch.utils.data import Dataset, DataLoader\n",
    "from torch.optim.lr_scheduler import CosineAnnealingLR\n",
    "\n",
    "from sklearn.model_selection import StratifiedKFold, RepeatedStratifiedKFold, GroupKFold\n",
    "from sklearn.metrics import f1_score\n",
    "\n",
    "from NNs import *"
   ]
  },
  {
   "cell_type": "code",
   "execution_count": 2,
   "metadata": {},
   "outputs": [
    {
     "data": {
      "text/plain": [
       "<torch._C.Generator at 0x7f0bc1ef0cb0>"
      ]
     },
     "execution_count": 2,
     "metadata": {},
     "output_type": "execute_result"
    }
   ],
   "source": [
    "DEVICE = 'cuda:0'\n",
    "EPOCHS = 128\n",
    "BATCHSIZE = 16\n",
    "SEED = 19550423\n",
    "LR = 0.001\n",
    "SPLITS = 5\n",
    "\n",
    "torch.manual_seed(SEED)"
   ]
  },
  {
   "cell_type": "code",
   "execution_count": 3,
   "metadata": {},
   "outputs": [],
   "source": [
    "step_tag = 's1000'\n",
    "wndw_tag = 's1000'\n",
    "vers_tag = 'final'\n",
    "\n",
    "trn_fs_w1000 = sorted([f for f in os.listdir('../input/feats_srs') if (('trn_srs_dat' in f) and (step_tag in f) and (wndw_tag in f) and (vers_tag in f))])\n",
    "tst_fs_w1000 = sorted([f for f in os.listdir('../input/feats_srs') if (('tst_srs_dat' in f) and (step_tag in f) and (wndw_tag in f) and (vers_tag in f))])\n",
    "tst_fs_w1000 = [tst_fs_w1000[i] for i in [0, 11, 12, 13, 14, 15, 16, 17, 18, 19]] + tst_fs_w1000[1:11]\n",
    "\n",
    "step_tag = 's500'\n",
    "wndw_tag = 's500'\n",
    "vers_tag = 'final'\n",
    "\n",
    "trn_fs_w500 = sorted([f for f in os.listdir('../input/feats_srs') if (('trn_srs_dat' in f) and (step_tag in f) and (wndw_tag in f) and (vers_tag in f))])\n",
    "tst_fs_w500 = sorted([f for f in os.listdir('../input/feats_srs') if (('tst_srs_dat' in f) and (step_tag in f) and (wndw_tag in f) and (vers_tag in f))])\n",
    "tst_fs_w500 = [tst_fs_w500[i] for i in [0, 11, 12, 13, 14, 15, 16, 17, 18, 19]] + tst_fs_w500[1:11]\n",
    "\n",
    "series_trn_w500 = np.concatenate(\n",
    "    [bp.unpack_ndarray_from_file(os.path.join('../input/feats_srs', f)) for f in trn_fs_w500],\n",
    "    axis=0\n",
    ")\n",
    "\n",
    "series_tst_w500 = np.concatenate(\n",
    "    [bp.unpack_ndarray_from_file(os.path.join('../input/feats_srs', f)) for f in tst_fs_w500],\n",
    "    axis=0\n",
    ")\n",
    "\n",
    "series_trn_w1000 = np.concatenate(\n",
    "    [bp.unpack_ndarray_from_file(os.path.join('../input/feats_srs', f)) for f in trn_fs_w1000],\n",
    "    axis=0\n",
    ")\n",
    "\n",
    "series_tst_w1000 = np.concatenate(\n",
    "    [bp.unpack_ndarray_from_file(os.path.join('../input/feats_srs', f)) for f in tst_fs_w1000],\n",
    "    axis=0\n",
    ")"
   ]
  },
  {
   "cell_type": "code",
   "execution_count": 4,
   "metadata": {},
   "outputs": [],
   "source": [
    "trn_fs_w500_tn = bp.unpack_ndarray_from_file(os.path.join('../input/feats_srs', 'trn_srs_dat_all_s500_w500_feat_target_encoded.bp'))\n",
    "tst_fs_w500_tn = bp.unpack_ndarray_from_file(os.path.join('../input/feats_srs', 'tst_srs_dat_all_s500_w500_feat_target_encoded.bp'))\n",
    "trn_fs_w1000_tn = bp.unpack_ndarray_from_file(os.path.join('../input/feats_srs', 'trn_srs_dat_all_s1000_w1000_feat_target_encoded.bp'))\n",
    "tst_fs_w1000_tn = bp.unpack_ndarray_from_file(os.path.join('../input/feats_srs', 'tst_srs_dat_all_s1000_w1000_feat_target_encoded.bp'))"
   ]
  },
  {
   "cell_type": "code",
   "execution_count": 5,
   "metadata": {},
   "outputs": [
    {
     "name": "stdout",
     "output_type": "stream",
     "text": [
      "progress: 30 / 30; \r"
     ]
    }
   ],
   "source": [
    "for i in range(series_trn_w500.shape[-1]):\n",
    "\n",
    "    avg = series_trn_w500[:, :, i].mean()\n",
    "    std = series_trn_w500[:, :, i].std()\n",
    "    series_tst_w500[:, :, i] = (series_tst_w500[:, :, i] - avg) / std\n",
    "    \n",
    "    print('progress: {:02d} / {:02d}; '.format(i+1, series_trn_w500.shape[-1]), end='\\r')\n",
    "    \n",
    "for i in range(series_trn_w1000.shape[-1]):\n",
    "\n",
    "    avg = series_trn_w1000[:, :, i].mean()\n",
    "    std = series_trn_w1000[:, :, i].std()\n",
    "    series_tst_w1000[:, :, i] = (series_tst_w1000[:, :, i] - avg) / std\n",
    "    \n",
    "    print('progress: {:02d} / {:02d}; '.format(i+1, series_trn_w1000.shape[-1]), end='\\r')"
   ]
  },
  {
   "cell_type": "code",
   "execution_count": 6,
   "metadata": {},
   "outputs": [],
   "source": [
    "avg = trn_fs_w500_tn[:, :, 0].mean()\n",
    "std = trn_fs_w500_tn[:, :, 0].std()\n",
    "tst_fs_w500_tn[:, :, 0] = (tst_fs_w500_tn[:, :, 0] - avg) / std\n",
    "\n",
    "avg = trn_fs_w1000_tn[:, :, 0].mean()\n",
    "std = trn_fs_w1000_tn[:, :, 0].std()\n",
    "tst_fs_w1000_tn[:, :, 0] = (tst_fs_w1000_tn[:, :, 0] - avg) / std"
   ]
  },
  {
   "cell_type": "code",
   "execution_count": 7,
   "metadata": {},
   "outputs": [],
   "source": [
    "mdls = sorted([f for f in os.listdir('./saved_models/') if '.pth' in f])\n",
    "#mdls = sorted([f for f in os.listdir('./saved_models/') if ('.pth' in f) and ('encoded' in f)])"
   ]
  },
  {
   "cell_type": "code",
   "execution_count": 8,
   "metadata": {},
   "outputs": [],
   "source": [
    "class Waveset(Dataset):\n",
    "    def __init__(self, data, labels=None):\n",
    "        self.data = data\n",
    "        self.labels = labels\n",
    "\n",
    "    def __len__(self):\n",
    "        return len(self.data)\n",
    "\n",
    "    def __getitem__(self, idx):\n",
    "        data = self.data[idx]\n",
    "        \n",
    "        if self.labels is None:\n",
    "            return data.astype(np.float32)\n",
    "        else:\n",
    "            labels = self.labels[idx]\n",
    "            return (data.astype(np.float32), labels.astype(int))"
   ]
  },
  {
   "cell_type": "code",
   "execution_count": 9,
   "metadata": {},
   "outputs": [],
   "source": [
    "submission = pd.read_csv('../input/sample_submission.csv', dtype={'time': str, 'open_channels': 'Int64'})"
   ]
  },
  {
   "cell_type": "code",
   "execution_count": 10,
   "metadata": {},
   "outputs": [
    {
     "name": "stdout",
     "output_type": "stream",
     "text": [
      "-------- model RNN_TRSFM_shallow_model_new_encoded_feats_s500_w500_fold000_checkpoint.pth --------\n",
      "model validation loss: 0.083; validation f1: 0.939;\n",
      "-------- model RNN_TRSFM_shallow_model_new_encoded_feats_s500_w500_fold001_checkpoint.pth --------\n",
      "model validation loss: 0.084; validation f1: 0.939;\n",
      "-------- model RNN_TRSFM_shallow_model_new_encoded_feats_s500_w500_fold002_checkpoint.pth --------\n",
      "model validation loss: 0.082; validation f1: 0.940;\n",
      "-------- model RNN_TRSFM_shallow_model_new_encoded_feats_s500_w500_fold003_checkpoint.pth --------\n",
      "model validation loss: 0.082; validation f1: 0.940;\n",
      "-------- model RNN_TRSFM_shallow_model_new_encoded_feats_s500_w500_fold004_checkpoint.pth --------\n",
      "model validation loss: 0.082; validation f1: 0.939;\n",
      "-------- model RNN_TRSFM_shallow_model_new_encoded_feats_s500_w500_fold005_checkpoint.pth --------\n",
      "model validation loss: 0.082; validation f1: 0.940;\n",
      "-------- model pure_RNN_model_final_feats_ss1000_ww1000_fold000_checkpoint.pth --------\n",
      "model validation loss: 0.086; validation f1: 0.939;\n",
      "-------- model pure_RNN_model_final_feats_ss1000_ww1000_fold001_checkpoint.pth --------\n",
      "model validation loss: 0.088; validation f1: 0.938;\n",
      "-------- model pure_RNN_model_final_feats_ss1000_ww1000_fold002_checkpoint.pth --------\n",
      "model validation loss: 0.089; validation f1: 0.938;\n",
      "-------- model pure_RNN_model_final_feats_ss1000_ww1000_fold003_checkpoint.pth --------\n",
      "model validation loss: 0.085; validation f1: 0.939;\n",
      "-------- model pure_RNN_model_final_feats_ss1000_ww1000_fold004_checkpoint.pth --------\n",
      "model validation loss: 0.088; validation f1: 0.939;\n",
      "-------- model pure_RNN_model_final_feats_ss1000_ww1000_fold005_checkpoint.pth --------\n",
      "model validation loss: 0.087; validation f1: 0.938;\n",
      "-------- model pure_RNN_model_final_feats_ss1000_ww1000_fold006_checkpoint.pth --------\n",
      "model validation loss: 0.087; validation f1: 0.938;\n",
      "-------- model pure_RNN_model_final_feats_ss1000_ww1000_fold007_checkpoint.pth --------\n",
      "model validation loss: 0.086; validation f1: 0.939;\n",
      "-------- model pure_RNN_model_final_feats_ss1000_ww1000_fold008_checkpoint.pth --------\n",
      "model validation loss: 0.086; validation f1: 0.939;\n",
      "-------- model pure_RNN_model_final_feats_ss1000_ww1000_fold009_checkpoint.pth --------\n",
      "model validation loss: 0.085; validation f1: 0.939;\n",
      "-------- model pure_RNN_model_final_feats_ss1000_ww1000_fold010_checkpoint.pth --------\n",
      "model validation loss: 0.086; validation f1: 0.938;\n",
      "-------- model pure_RNN_model_final_feats_ss1000_ww1000_fold011_checkpoint.pth --------\n",
      "model validation loss: 0.086; validation f1: 0.938;\n",
      "-------- model pure_RNN_model_final_feats_ss1000_ww1000_fold012_checkpoint.pth --------\n",
      "model validation loss: 0.088; validation f1: 0.939;\n",
      "-------- model pure_RNN_model_final_feats_ss1000_ww1000_fold013_checkpoint.pth --------\n",
      "model validation loss: 0.087; validation f1: 0.938;\n",
      "-------- model pure_RNN_model_final_feats_ss1000_ww1000_fold014_checkpoint.pth --------\n",
      "model validation loss: 0.085; validation f1: 0.939;\n",
      "-------- model pure_RNN_model_new_encoded_feats_s500_w500_fold000_checkpoint.pth --------\n",
      "model validation loss: 0.083; validation f1: 0.939;\n",
      "-------- model pure_RNN_model_new_encoded_feats_s500_w500_fold001_checkpoint.pth --------\n",
      "model validation loss: 0.083; validation f1: 0.938;\n",
      "-------- model pure_RNN_model_new_encoded_feats_s500_w500_fold002_checkpoint.pth --------\n",
      "model validation loss: 0.083; validation f1: 0.939;\n",
      "-------- model pure_RNN_model_new_encoded_feats_s500_w500_fold003_checkpoint.pth --------\n",
      "model validation loss: 0.083; validation f1: 0.939;\n",
      "-------- model pure_RNN_model_new_encoded_feats_s500_w500_fold004_checkpoint.pth --------\n",
      "model validation loss: 0.084; validation f1: 0.939;\n",
      "-------- model pure_RNN_model_new_encoded_feats_s500_w500_fold005_checkpoint.pth --------\n",
      "model validation loss: 0.083; validation f1: 0.939;\n",
      "-------- model pure_RNN_model_new_encoded_feats_s500_w500_fold006_checkpoint.pth --------\n",
      "model validation loss: 0.082; validation f1: 0.939;\n",
      "-------- model pure_RNN_model_new_encoded_feats_s500_w500_fold007_checkpoint.pth --------\n",
      "model validation loss: 0.082; validation f1: 0.939;\n",
      "-------- model pure_RNN_model_new_encoded_feats_s500_w500_fold008_checkpoint.pth --------\n",
      "model validation loss: 0.084; validation f1: 0.939;\n",
      "-------- model pure_RNN_model_new_encoded_feats_s500_w500_fold009_checkpoint.pth --------\n",
      "model validation loss: 0.083; validation f1: 0.939;\n",
      "-------- model pure_RNN_model_new_encoded_feats_s500_w500_fold010_checkpoint.pth --------\n",
      "model validation loss: 0.082; validation f1: 0.939;\n",
      "-------- model pure_RNN_model_new_encoded_feats_s500_w500_fold011_checkpoint.pth --------\n",
      "model validation loss: 0.083; validation f1: 0.939;\n",
      "-------- model pure_RNN_model_new_encoded_feats_s500_w500_fold012_checkpoint.pth --------\n",
      "model validation loss: 0.083; validation f1: 0.939;\n",
      "-------- model pure_RNN_model_new_encoded_feats_s500_w500_fold013_checkpoint.pth --------\n",
      "model validation loss: 0.082; validation f1: 0.939;\n",
      "-------- model pure_RNN_model_new_encoded_feats_s500_w500_fold014_checkpoint.pth --------\n",
      "model validation loss: 0.083; validation f1: 0.939;\n",
      "-------- model wave_RNN_model_final_feats_s500_w500_fold000_checkpoint.pth --------\n",
      "model validation loss: 0.085; validation f1: 0.938;\n",
      "-------- model wave_RNN_model_final_feats_s500_w500_fold001_checkpoint.pth --------\n",
      "model validation loss: 0.084; validation f1: 0.939;\n",
      "-------- model wave_RNN_model_final_feats_s500_w500_fold002_checkpoint.pth --------\n",
      "model validation loss: 0.084; validation f1: 0.938;\n",
      "-------- model wave_RNN_model_final_feats_s500_w500_fold003_checkpoint.pth --------\n",
      "model validation loss: 0.084; validation f1: 0.938;\n",
      "-------- model wave_RNN_model_final_feats_s500_w500_fold004_checkpoint.pth --------\n",
      "model validation loss: 0.083; validation f1: 0.938;\n",
      "-------- model wave_RNN_model_final_feats_s500_w500_fold005_checkpoint.pth --------\n",
      "model validation loss: 0.084; validation f1: 0.938;\n",
      "-------- model wave_RNN_model_final_feats_s500_w500_fold006_checkpoint.pth --------\n",
      "model validation loss: 0.085; validation f1: 0.938;\n",
      "-------- model wave_RNN_model_final_feats_s500_w500_fold007_checkpoint.pth --------\n",
      "model validation loss: 0.083; validation f1: 0.938;\n",
      "-------- model wave_RNN_model_final_feats_s500_w500_fold008_checkpoint.pth --------\n",
      "model validation loss: 0.083; validation f1: 0.939;\n",
      "-------- model wave_RNN_model_final_feats_s500_w500_fold009_checkpoint.pth --------\n",
      "model validation loss: 0.085; validation f1: 0.938;\n",
      "-------- model wave_RNN_model_final_feats_s500_w500_fold010_checkpoint.pth --------\n",
      "model validation loss: 0.084; validation f1: 0.938;\n",
      "-------- model wave_RNN_model_final_feats_s500_w500_fold011_checkpoint.pth --------\n",
      "model validation loss: 0.084; validation f1: 0.939;\n",
      "-------- model wave_RNN_model_final_feats_s500_w500_fold012_checkpoint.pth --------\n",
      "model validation loss: 0.084; validation f1: 0.937;\n",
      "-------- model wave_RNN_model_final_feats_s500_w500_fold013_checkpoint.pth --------\n",
      "model validation loss: 0.083; validation f1: 0.939;\n",
      "-------- model wave_RNN_model_final_feats_s500_w500_fold014_checkpoint.pth --------\n",
      "model validation loss: 0.084; validation f1: 0.938;\n",
      "-------- model wave_RNN_model_new_encoded_feats_s1000_w1000_fold000_checkpoint.pth --------\n",
      "model validation loss: 0.085; validation f1: 0.939;\n",
      "-------- model wave_RNN_model_new_encoded_feats_s1000_w1000_fold001_checkpoint.pth --------\n",
      "model validation loss: 0.087; validation f1: 0.939;\n",
      "-------- model wave_RNN_model_new_encoded_feats_s1000_w1000_fold002_checkpoint.pth --------\n",
      "model validation loss: 0.086; validation f1: 0.939;\n",
      "-------- model wave_RNN_model_new_encoded_feats_s1000_w1000_fold003_checkpoint.pth --------\n",
      "model validation loss: 0.085; validation f1: 0.940;\n",
      "-------- model wave_RNN_model_new_encoded_feats_s1000_w1000_fold004_checkpoint.pth --------\n",
      "model validation loss: 0.087; validation f1: 0.938;\n",
      "-------- model wave_RNN_model_new_encoded_feats_s1000_w1000_fold005_checkpoint.pth --------\n",
      "model validation loss: 0.086; validation f1: 0.939;\n",
      "-------- model wave_RNN_model_new_encoded_feats_s1000_w1000_fold006_checkpoint.pth --------\n",
      "model validation loss: 0.086; validation f1: 0.938;\n",
      "-------- model wave_RNN_model_new_encoded_feats_s1000_w1000_fold007_checkpoint.pth --------\n",
      "model validation loss: 0.086; validation f1: 0.938;\n",
      "-------- model wave_RNN_model_new_encoded_feats_s1000_w1000_fold008_checkpoint.pth --------\n",
      "model validation loss: 0.087; validation f1: 0.938;\n",
      "-------- model wave_RNN_model_new_encoded_feats_s1000_w1000_fold009_checkpoint.pth --------\n",
      "model validation loss: 0.087; validation f1: 0.938;\n",
      "-------- model wave_RNN_model_new_encoded_feats_s1000_w1000_fold010_checkpoint.pth --------\n",
      "model validation loss: 0.086; validation f1: 0.938;\n",
      "-------- model wave_RNN_model_new_encoded_feats_s1000_w1000_fold011_checkpoint.pth --------\n",
      "model validation loss: 0.085; validation f1: 0.939;\n",
      "-------- model wave_RNN_model_new_encoded_feats_s1000_w1000_fold012_checkpoint.pth --------\n",
      "model validation loss: 0.086; validation f1: 0.939;\n",
      "-------- model wave_RNN_model_new_encoded_feats_s1000_w1000_fold013_checkpoint.pth --------\n",
      "model validation loss: 0.087; validation f1: 0.939;\n",
      "-------- model wave_RNN_model_new_encoded_feats_s1000_w1000_fold014_checkpoint.pth --------\n",
      "model validation loss: 0.086; validation f1: 0.939;\n",
      "-------- model wave_TRSFM_shallow_model_new_encoded_feats_s1000_w1000_fold000_checkpoint.pth --------\n",
      "model validation loss: 0.083; validation f1: 0.938;\n",
      "-------- model wave_TRSFM_shallow_model_new_encoded_feats_s1000_w1000_fold001_checkpoint.pth --------\n",
      "model validation loss: 0.083; validation f1: 0.940;\n",
      "-------- model wave_TRSFM_shallow_model_new_encoded_feats_s1000_w1000_fold002_checkpoint.pth --------\n",
      "model validation loss: 0.082; validation f1: 0.939;\n",
      "-------- model wave_TRSFM_shallow_model_new_encoded_feats_s1000_w1000_fold003_checkpoint.pth --------\n",
      "model validation loss: 0.081; validation f1: 0.939;\n",
      "-------- model wave_TRSFM_shallow_model_new_encoded_feats_s1000_w1000_fold004_checkpoint.pth --------\n",
      "model validation loss: 0.083; validation f1: 0.939;\n",
      "-------- model wave_TRSFM_shallow_model_new_encoded_feats_s1000_w1000_fold005_checkpoint.pth --------\n",
      "model validation loss: 0.084; validation f1: 0.939;\n",
      "-------- model wave_TRSFM_shallow_model_new_encoded_feats_s1000_w1000_fold006_checkpoint.pth --------\n",
      "model validation loss: 0.080; validation f1: 0.940;\n",
      "-------- model wave_TRSFM_shallow_model_new_encoded_feats_s1000_w1000_fold007_checkpoint.pth --------\n",
      "model validation loss: 0.082; validation f1: 0.939;\n",
      "-------- model wave_TRSFM_shallow_model_new_encoded_feats_s1000_w1000_fold008_checkpoint.pth --------\n",
      "model validation loss: 0.084; validation f1: 0.938;\n",
      "-------- model wave_TRSFM_shallow_model_new_encoded_feats_s1000_w1000_fold009_checkpoint.pth --------\n",
      "model validation loss: 0.084; validation f1: 0.939;\n",
      "-------- model wave_TRSFM_shallow_model_new_encoded_feats_s1000_w1000_fold010_checkpoint.pth --------\n",
      "model validation loss: 0.083; validation f1: 0.939;\n",
      "-------- model wave_TRSFM_shallow_model_new_encoded_feats_s1000_w1000_fold011_checkpoint.pth --------\n",
      "model validation loss: 0.081; validation f1: 0.940;\n",
      "-------- model wave_TRSFM_shallow_model_new_encoded_feats_s1000_w1000_fold012_checkpoint.pth --------\n",
      "model validation loss: 0.083; validation f1: 0.939;\n",
      "-------- model wave_TRSFM_shallow_model_new_encoded_feats_s1000_w1000_fold013_checkpoint.pth --------\n",
      "model validation loss: 0.084; validation f1: 0.938;\n",
      "-------- model wave_TRSFM_shallow_model_new_encoded_feats_s1000_w1000_fold014_checkpoint.pth --------\n",
      "model validation loss: 0.082; validation f1: 0.939;\n",
      "-------- model wave_net_model_final_feats_s1000_w1000_fold000_checkpoint.pth --------\n",
      "model validation loss: 0.085; validation f1: 0.939;\n",
      "-------- model wave_net_model_final_feats_s1000_w1000_fold001_checkpoint.pth --------\n",
      "model validation loss: 0.085; validation f1: 0.939;\n",
      "-------- model wave_net_model_final_feats_s1000_w1000_fold002_checkpoint.pth --------\n",
      "model validation loss: 0.087; validation f1: 0.939;\n",
      "-------- model wave_net_model_final_feats_s1000_w1000_fold003_checkpoint.pth --------\n",
      "model validation loss: 0.087; validation f1: 0.939;\n",
      "-------- model wave_net_model_final_feats_s1000_w1000_fold004_checkpoint.pth --------\n",
      "model validation loss: 0.087; validation f1: 0.938;\n",
      "-------- model wave_net_model_final_feats_s1000_w1000_fold005_checkpoint.pth --------\n",
      "model validation loss: 0.086; validation f1: 0.939;\n",
      "-------- model wave_net_model_final_feats_s1000_w1000_fold006_checkpoint.pth --------\n",
      "model validation loss: 0.085; validation f1: 0.940;\n",
      "-------- model wave_net_model_final_feats_s1000_w1000_fold007_checkpoint.pth --------\n",
      "model validation loss: 0.088; validation f1: 0.938;\n",
      "-------- model wave_net_model_final_feats_s1000_w1000_fold008_checkpoint.pth --------\n",
      "model validation loss: 0.086; validation f1: 0.938;\n",
      "-------- model wave_net_model_final_feats_s1000_w1000_fold009_checkpoint.pth --------\n",
      "model validation loss: 0.087; validation f1: 0.939;\n",
      "-------- model wave_net_model_final_feats_s1000_w1000_fold010_checkpoint.pth --------\n",
      "model validation loss: 0.086; validation f1: 0.939;\n",
      "-------- model wave_net_model_final_feats_s1000_w1000_fold011_checkpoint.pth --------\n",
      "model validation loss: 0.086; validation f1: 0.939;\n",
      "-------- model wave_net_model_final_feats_s1000_w1000_fold012_checkpoint.pth --------\n",
      "model validation loss: 0.088; validation f1: 0.938;\n",
      "-------- model wave_net_model_final_feats_s1000_w1000_fold013_checkpoint.pth --------\n",
      "model validation loss: 0.084; validation f1: 0.939;\n",
      "-------- model wave_net_model_final_feats_s1000_w1000_fold014_checkpoint.pth --------\n",
      "model validation loss: 0.087; validation f1: 0.938;\n",
      "-------- model wave_net_model_new_encoded_feats_s500_w500_fold000_checkpoint.pth --------\n",
      "model validation loss: 0.083; validation f1: 0.939;\n",
      "-------- model wave_net_model_new_encoded_feats_s500_w500_fold001_checkpoint.pth --------\n",
      "model validation loss: 0.084; validation f1: 0.938;\n",
      "-------- model wave_net_model_new_encoded_feats_s500_w500_fold002_checkpoint.pth --------\n",
      "model validation loss: 0.082; validation f1: 0.939;\n",
      "-------- model wave_net_model_new_encoded_feats_s500_w500_fold003_checkpoint.pth --------\n",
      "model validation loss: 0.084; validation f1: 0.939;\n",
      "-------- model wave_net_model_new_encoded_feats_s500_w500_fold004_checkpoint.pth --------\n",
      "model validation loss: 0.083; validation f1: 0.939;\n",
      "-------- model wave_net_model_new_encoded_feats_s500_w500_fold005_checkpoint.pth --------\n",
      "model validation loss: 0.086; validation f1: 0.938;\n",
      "-------- model wave_net_model_new_encoded_feats_s500_w500_fold006_checkpoint.pth --------\n",
      "model validation loss: 0.084; validation f1: 0.939;\n",
      "-------- model wave_net_model_new_encoded_feats_s500_w500_fold007_checkpoint.pth --------\n",
      "model validation loss: 0.082; validation f1: 0.939;\n",
      "-------- model wave_net_model_new_encoded_feats_s500_w500_fold008_checkpoint.pth --------\n",
      "model validation loss: 0.082; validation f1: 0.939;\n",
      "-------- model wave_net_model_new_encoded_feats_s500_w500_fold009_checkpoint.pth --------\n",
      "model validation loss: 0.084; validation f1: 0.938;\n",
      "-------- model wave_net_model_new_encoded_feats_s500_w500_fold010_checkpoint.pth --------\n",
      "model validation loss: 0.083; validation f1: 0.939;\n",
      "-------- model wave_net_model_new_encoded_feats_s500_w500_fold011_checkpoint.pth --------\n",
      "model validation loss: 0.087; validation f1: 0.937;\n",
      "-------- model wave_net_model_new_encoded_feats_s500_w500_fold012_checkpoint.pth --------\n",
      "model validation loss: 0.083; validation f1: 0.939;\n",
      "-------- model wave_net_model_new_encoded_feats_s500_w500_fold013_checkpoint.pth --------\n",
      "model validation loss: 0.083; validation f1: 0.939;\n",
      "-------- model wave_net_model_new_encoded_feats_s500_w500_fold014_checkpoint.pth --------\n",
      "model validation loss: 0.083; validation f1: 0.939;\n"
     ]
    }
   ],
   "source": [
    "# submission_pred = np.zeros(shape=(submission.shape[0], 11))\n",
    "submission_pred = torch.zeros(size=(submission.shape[0], 11))\n",
    "\n",
    "shape0 = series_tst_w500.shape[-1]\n",
    "shape1 = series_tst_w1000.shape[-1]\n",
    "shape2 = tst_fs_w500_tn.shape[-1]\n",
    "shape3 = tst_fs_w1000_tn.shape[-1]\n",
    "\n",
    "for i in range(len(mdls)):\n",
    "    print('-------- model {} --------'.format(mdls[i]))\n",
    "    if 'pure_RNN' in mdls[i]:\n",
    "        if 'final_feats' in mdls[i]:\n",
    "            mdl = RNN_Classifier(shape0 if 'w500' in mdls[i] else shape1).to(DEVICE)\n",
    "        elif 'new_encoded_feats' in mdls[i]:\n",
    "            mdl = RNN_Classifier(shape2 if 'w500' in mdls[i] else shape3).to(DEVICE)\n",
    "    elif 'wave_RNN' in mdls[i]:\n",
    "        if 'final_feats' in mdls[i]:\n",
    "            mdl = WaveRNN_Classifier(shape0 if 'w500' in mdls[i] else shape1).to(DEVICE)\n",
    "        elif 'new_encoded_feats' in mdls[i]:\n",
    "            mdl = WaveRNN_Classifier(shape2 if 'w500' in mdls[i] else shape3).to(DEVICE)\n",
    "    elif 'wave_net' in mdls[i]:\n",
    "        if 'final_feats' in mdls[i]:\n",
    "            mdl = Wave_Classifier(shape0 if 'w500' in mdls[i] else shape1).to(DEVICE)\n",
    "        elif 'new_encoded_feats' in mdls[i]:\n",
    "            mdl = Wave_Classifier(shape2 if 'w500' in mdls[i] else shape3).to(DEVICE)\n",
    "    elif 'wave_TRSFM_shallow' in mdls[i]:\n",
    "        if 'final_feats' in mdls[i]:\n",
    "            mdl = WaveTRSFM_Classifier_shallow(shape0 if 'w500' in mdls[i] else shape1).to(DEVICE)\n",
    "        elif 'new_encoded_feats' in mdls[i]:\n",
    "            mdl = WaveTRSFM_Classifier_shallow(shape2 if 'w500' in mdls[i] else shape3).to(DEVICE)\n",
    "    elif 'RNN_TRSFM_shallow' in mdls[i]:\n",
    "        if 'final_feats' in mdls[i]:\n",
    "            mdl = RnnTRSFM_Classifier(shape0 if 'w500' in mdls[i] else shape1).to(DEVICE)\n",
    "        elif 'new_encoded_feats' in mdls[i]:\n",
    "            mdl = RnnTRSFM_Classifier(shape2 if 'w500' in mdls[i] else shape3).to(DEVICE)\n",
    "        \n",
    "    if 'w500' in mdls[i]:\n",
    "        if 'new_encoded_feats' in mdls[i]:\n",
    "            waveset_tst = Waveset(tst_fs_w500_tn)\n",
    "        elif 'final_feats' in mdls[i]:\n",
    "            waveset_tst = Waveset(series_tst_w500)\n",
    "        else:\n",
    "            print('error: {};'.format(mdls[i]))\n",
    "            break\n",
    "    elif 'w1000' in mdls[i]:\n",
    "        if 'new_encoded_feats' in mdls[i]:\n",
    "            waveset_tst = Waveset(tst_fs_w1000_tn)\n",
    "        elif 'final_feats' in mdls[i]:\n",
    "            waveset_tst = Waveset(series_tst_w1000)\n",
    "        else:\n",
    "            print('error: {};'.format(mdls[i]))\n",
    "            break\n",
    "        \n",
    "    loader_tst = DataLoader(waveset_tst, BATCHSIZE, shuffle=False, num_workers=2, pin_memory=True)\n",
    "    \n",
    "    mdl_weight = torch.load(os.path.join('./saved_models/', mdls[i]))\n",
    "    print('model validation loss: {:.3f}; validation f1: {:.3f};'.format(mdl_weight['loss'], mdl_weight['f1']))\n",
    "    mdl.load_state_dict(mdl_weight['model'])\n",
    "    mdl.eval()\n",
    "    with torch.no_grad():\n",
    "        tst_fold_prd = []\n",
    "        for tst_batch_dat in loader_tst:\n",
    "            tst_batch_prd = mdl(tst_batch_dat.to(DEVICE))\n",
    "            tst_batch_prd = tst_batch_prd.view(-1, tst_batch_prd.size(-1)).detach().cpu()#.numpy()\n",
    "            tst_fold_prd.append(F.softmax(tst_batch_prd, 1))\n",
    "            \n",
    "        #fold_result = np.concatenate(tst_fold_prd, 0)\n",
    "        fold_result = torch.cat(tst_fold_prd, 0)\n",
    "        submission_pred += fold_result\n",
    "        \n",
    "    "
   ]
  },
  {
   "cell_type": "code",
   "execution_count": 12,
   "metadata": {},
   "outputs": [],
   "source": [
    "submission_pred = submission_pred / 111"
   ]
  },
  {
   "cell_type": "code",
   "execution_count": 13,
   "metadata": {},
   "outputs": [
    {
     "data": {
      "text/plain": [
       "tensor([1.0000, 1.0000, 1.0000,  ..., 1.0000, 1.0000, 1.0000])"
      ]
     },
     "execution_count": 13,
     "metadata": {},
     "output_type": "execute_result"
    }
   ],
   "source": [
    "submission_pred.sum(1)"
   ]
  },
  {
   "cell_type": "code",
   "execution_count": 26,
   "metadata": {},
   "outputs": [
    {
     "data": {
      "text/plain": [
       "tensor([0.9854, 0.9615, 0.9978, 0.9919, 0.9833, 0.9510, 0.9961, 0.9884, 0.9971,\n",
       "        0.9912, 0.9576, 0.9514, 0.9545, 0.9614, 0.9638, 0.9911, 0.9859, 0.9904,\n",
       "        0.9769])"
      ]
     },
     "execution_count": 26,
     "metadata": {},
     "output_type": "execute_result"
    }
   ],
   "source": [
    "submission_pred[submission_pred > .95]"
   ]
  },
  {
   "cell_type": "code",
   "execution_count": 14,
   "metadata": {},
   "outputs": [
    {
     "data": {
      "text/plain": [
       "torch.Size([186048])"
      ]
     },
     "execution_count": 14,
     "metadata": {},
     "output_type": "execute_result"
    }
   ],
   "source": [
    "submission_pred[(submission_pred > .1) & (submission_pred < .9)].shape"
   ]
  },
  {
   "cell_type": "code",
   "execution_count": 14,
   "metadata": {},
   "outputs": [],
   "source": [
    "submission_pred_softmax = torch.nn.functional.softmax(submission_pred, dim=1)"
   ]
  },
  {
   "cell_type": "code",
   "execution_count": 17,
   "metadata": {},
   "outputs": [
    {
     "data": {
      "text/plain": [
       "torch.Size([2318])"
      ]
     },
     "execution_count": 17,
     "metadata": {},
     "output_type": "execute_result"
    }
   ],
   "source": [
    "submission_pred_softmax[(submission_pred_softmax > .1) & (submission_pred_softmax < .9)].shape"
   ]
  },
  {
   "cell_type": "code",
   "execution_count": 15,
   "metadata": {},
   "outputs": [],
   "source": [
    "np.save('../input/nn_test_predictions_softmax', submission_pred.numpy())"
   ]
  },
  {
   "cell_type": "code",
   "execution_count": 50,
   "metadata": {},
   "outputs": [],
   "source": [
    "submission['open_channels'] = submission_pred.argmax(1)\n",
    "submission.to_csv(\"../submissions/sub_nn_models_bigbag_66mdls.csv\", index=False)"
   ]
  },
  {
   "cell_type": "code",
   "execution_count": null,
   "metadata": {},
   "outputs": [],
   "source": []
  }
 ],
 "metadata": {
  "kernelspec": {
   "display_name": "Python 3",
   "language": "python",
   "name": "python3"
  },
  "language_info": {
   "codemirror_mode": {
    "name": "ipython",
    "version": 3
   },
   "file_extension": ".py",
   "mimetype": "text/x-python",
   "name": "python",
   "nbconvert_exporter": "python",
   "pygments_lexer": "ipython3",
   "version": "3.7.6"
  }
 },
 "nbformat": 4,
 "nbformat_minor": 4
}
