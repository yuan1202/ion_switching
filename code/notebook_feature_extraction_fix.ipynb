{
 "cells": [
  {
   "cell_type": "code",
   "execution_count": 1,
   "metadata": {},
   "outputs": [],
   "source": [
    "import gc\n",
    "import os\n",
    "from datetime import datetime\n",
    "import pickle\n",
    "import psutil\n",
    "from tqdm import tqdm, tqdm_notebook\n",
    "from functools import partial, update_wrapper\n",
    "from itertools import product\n",
    "from collections import OrderedDict\n",
    "from multiprocessing import Pool\n",
    "\n",
    "import bloscpack as bp\n",
    "\n",
    "import random\n",
    "import numpy as np\n",
    "import pandas as pd\n",
    "from sklearn.preprocessing import normalize\n",
    "from sklearn.linear_model import LinearRegression\n",
    "\n",
    "from YSMLT import utils as g_utils\n",
    "from YSMLT.series import utils as ts_utils\n",
    "\n",
    "from scipy.signal import hilbert\n",
    "from scipy.signal import hann\n",
    "from scipy.signal import convolve\n",
    "from scipy.signal import welch, find_peaks\n",
    "from scipy import stats\n",
    "from scipy.special import entr\n",
    "from scipy.stats import entropy\n",
    "from tsfresh.feature_extraction import feature_calculators"
   ]
  },
  {
   "cell_type": "code",
   "execution_count": 7,
   "metadata": {},
   "outputs": [
    {
     "data": {
      "text/plain": [
       "'trn_feat_g4_w250.bp'"
      ]
     },
     "execution_count": 7,
     "metadata": {},
     "output_type": "execute_result"
    }
   ],
   "source": [
    "feats_f_curr = [f for f in os.listdir('../input/feats_tblr') if ('trn_feat' in f) and ('w250' in f)][0]\n",
    "feats_f_curr"
   ]
  },
  {
   "cell_type": "code",
   "execution_count": 8,
   "metadata": {},
   "outputs": [
    {
     "data": {
      "text/plain": [
       "'tst_feat_g19_w250.bp'"
      ]
     },
     "execution_count": 8,
     "metadata": {},
     "output_type": "execute_result"
    }
   ],
   "source": [
    "feats_f_trgt = [f for f in os.listdir('../input/feats_tblr') if ('tst_feat' in f) and ('w250' in f)][0]\n",
    "feats_f_trgt"
   ]
  },
  {
   "cell_type": "code",
   "execution_count": 9,
   "metadata": {},
   "outputs": [],
   "source": [
    "feats_curr = bp.unpack_ndarray_from_file(os.path.join('../input/feats_tblr', feats_f_curr))\n",
    "feats_trgt = bp.unpack_ndarray_from_file(os.path.join('../input/feats_tblr', feats_f_trgt))"
   ]
  },
  {
   "cell_type": "code",
   "execution_count": 16,
   "metadata": {},
   "outputs": [
    {
     "data": {
      "text/plain": [
       "['MA_5th_wndw_std_avg_R',\n",
       " 'MA_10th_wndw_BBhigh_avg_R',\n",
       " 'MA_10th_wndw_BBlow_avg_R',\n",
       " 'MA_5th_wndw_std_avg_L',\n",
       " 'MA_2nd_wndw_BBlow_avg_R',\n",
       " 'MA_5th_wndw_BBhigh_avg_L',\n",
       " 'binned_entropy_nonan_L',\n",
       " 'MA_2nd_wndw_BBhigh_avg_R',\n",
       " 'binned_entropy_nonan_3_L',\n",
       " 'binned_entropy_nonan_2_L',\n",
       " 'MA_5th_wndw_BBlow_avg_R',\n",
       " 'MA_2nd_wndw_BBhigh_avg_L',\n",
       " 'binned_entropy_nonan_4_L',\n",
       " 'MA_10th_wndw_std_avg_L',\n",
       " 'binned_entropy_nonan_R',\n",
       " 'MA_2nd_wndw_BBlow_avg_L',\n",
       " 'binned_entropy_nonan_4_R',\n",
       " 'binned_entropy_nonan_2_R',\n",
       " 'MA_10th_wndw_BBhigh_avg_L',\n",
       " 'binned_entropy_nonan_1_L',\n",
       " 'MA_2nd_wndw_std_avg_R',\n",
       " 'binned_entropy_nonan_3_R',\n",
       " 'MA_5th_wndw_BBhigh_avg_R',\n",
       " 'MA_10th_wndw_std_avg_R',\n",
       " 'binned_entropy_nonan_1_R',\n",
       " 'MA_2nd_wndw_std_avg_L',\n",
       " 'MA_10th_wndw_BBlow_avg_L',\n",
       " 'MA_5th_wndw_BBlow_avg_L']"
      ]
     },
     "execution_count": 16,
     "metadata": {},
     "output_type": "execute_result"
    }
   ],
   "source": [
    "feats_diff = list(set(feats_trgt) - set(feats_curr))\n",
    "feats_diff"
   ]
  },
  {
   "cell_type": "code",
   "execution_count": 26,
   "metadata": {},
   "outputs": [
    {
     "data": {
      "text/plain": [
       "OrderedDict([('MA_5th_wndw_std_avg_R', 0),\n",
       "             ('MA_10th_wndw_BBhigh_avg_R', 1),\n",
       "             ('MA_10th_wndw_BBlow_avg_R', 2),\n",
       "             ('MA_5th_wndw_std_avg_L', 3),\n",
       "             ('MA_2nd_wndw_BBlow_avg_R', 4),\n",
       "             ('MA_5th_wndw_BBhigh_avg_L', 5),\n",
       "             ('binned_entropy_nonan_L', 6),\n",
       "             ('MA_2nd_wndw_BBhigh_avg_R', 7),\n",
       "             ('binned_entropy_nonan_3_L', 8),\n",
       "             ('binned_entropy_nonan_2_L', 9),\n",
       "             ('MA_5th_wndw_BBlow_avg_R', 10),\n",
       "             ('MA_2nd_wndw_BBhigh_avg_L', 11),\n",
       "             ('binned_entropy_nonan_4_L', 12),\n",
       "             ('MA_10th_wndw_std_avg_L', 13),\n",
       "             ('binned_entropy_nonan_R', 14),\n",
       "             ('MA_2nd_wndw_BBlow_avg_L', 15),\n",
       "             ('binned_entropy_nonan_4_R', 16),\n",
       "             ('binned_entropy_nonan_2_R', 17),\n",
       "             ('MA_10th_wndw_BBhigh_avg_L', 18),\n",
       "             ('binned_entropy_nonan_1_L', 19),\n",
       "             ('MA_2nd_wndw_std_avg_R', 20),\n",
       "             ('binned_entropy_nonan_3_R', 21),\n",
       "             ('MA_5th_wndw_BBhigh_avg_R', 22),\n",
       "             ('MA_10th_wndw_std_avg_R', 23),\n",
       "             ('binned_entropy_nonan_1_R', 24),\n",
       "             ('MA_2nd_wndw_std_avg_L', 25),\n",
       "             ('MA_10th_wndw_BBlow_avg_L', 26),\n",
       "             ('MA_5th_wndw_BBlow_avg_L', 27)])"
      ]
     },
     "execution_count": 26,
     "metadata": {},
     "output_type": "execute_result"
    }
   ],
   "source": [
    "feats_fix = feats_diff\n",
    "feats_fix_map = OrderedDict([(s, i) for i, s in zip(range(len(feats_fix)), feats_fix)])\n",
    "feats_fix_map"
   ]
  },
  {
   "cell_type": "code",
   "execution_count": 27,
   "metadata": {},
   "outputs": [
    {
     "data": {
      "text/plain": [
       "OrderedDict([(3, 56),\n",
       "             (5, 57),\n",
       "             (27, 58),\n",
       "             (25, 59),\n",
       "             (11, 60),\n",
       "             (15, 61),\n",
       "             (13, 62),\n",
       "             (18, 63),\n",
       "             (26, 64),\n",
       "             (6, 312),\n",
       "             (19, 313),\n",
       "             (9, 314),\n",
       "             (8, 315),\n",
       "             (12, 316),\n",
       "             (0, 402),\n",
       "             (22, 403),\n",
       "             (10, 404),\n",
       "             (20, 405),\n",
       "             (7, 406),\n",
       "             (4, 407),\n",
       "             (23, 408),\n",
       "             (1, 409),\n",
       "             (2, 410),\n",
       "             (14, 658),\n",
       "             (24, 659),\n",
       "             (17, 660),\n",
       "             (21, 661),\n",
       "             (16, 662)])"
      ]
     },
     "execution_count": 27,
     "metadata": {},
     "output_type": "execute_result"
    }
   ],
   "source": [
    "feats_trgt_map = OrderedDict(sorted([(feats_fix_map[s], np.where(feats_trgt==s)[0].item()) for s in feats_diff], key=lambda tpl: tpl[1]))\n",
    "feats_trgt_map"
   ]
  },
  {
   "cell_type": "code",
   "execution_count": 29,
   "metadata": {},
   "outputs": [],
   "source": [
    "array_curr = np.random.randint(0, 10, size=(10, 1000))\n",
    "array_fix = np.stack([np.arange(i, i+10) for i in range(28)], -1)"
   ]
  },
  {
   "cell_type": "code",
   "execution_count": 32,
   "metadata": {},
   "outputs": [],
   "source": [
    "for i0, i1 in feats_trgt_map.items():\n",
    "    array_curr = np.insert(array_curr, i1, array_fix[:, i0], axis=1)"
   ]
  },
  {
   "cell_type": "code",
   "execution_count": 35,
   "metadata": {},
   "outputs": [
    {
     "data": {
      "text/plain": [
       "array([[ 3,  5, 27, 25, 11,  6],\n",
       "       [ 4,  6, 28, 26, 12,  7],\n",
       "       [ 5,  7, 29, 27, 13,  8],\n",
       "       [ 6,  8, 30, 28, 14,  9],\n",
       "       [ 7,  9, 31, 29, 15, 10],\n",
       "       [ 8, 10, 32, 30, 16, 11],\n",
       "       [ 9, 11, 33, 31, 17, 12],\n",
       "       [10, 12, 34, 32, 18, 13],\n",
       "       [11, 13, 35, 33, 19, 14],\n",
       "       [12, 14, 36, 34, 20, 15]])"
      ]
     },
     "execution_count": 35,
     "metadata": {},
     "output_type": "execute_result"
    }
   ],
   "source": [
    "array_curr[:, [56, 57, 58, 59, 60, 312]]"
   ]
  }
 ],
 "metadata": {
  "kernelspec": {
   "display_name": "Python 3",
   "language": "python",
   "name": "python3"
  },
  "language_info": {
   "codemirror_mode": {
    "name": "ipython",
    "version": 3
   },
   "file_extension": ".py",
   "mimetype": "text/x-python",
   "name": "python",
   "nbconvert_exporter": "python",
   "pygments_lexer": "ipython3",
   "version": "3.7.6"
  }
 },
 "nbformat": 4,
 "nbformat_minor": 4
}
