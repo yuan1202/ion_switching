{
 "cells": [
  {
   "cell_type": "code",
   "execution_count": 1,
   "metadata": {},
   "outputs": [],
   "source": [
    "import os\n",
    "import joblib\n",
    "import math\n",
    "import warnings\n",
    "import gc\n",
    "warnings.filterwarnings('ignore')\n",
    "from tqdm import tqdm\n",
    "import pickle\n",
    "\n",
    "import bloscpack as bp\n",
    "\n",
    "import numpy as np \n",
    "import pandas as pd\n",
    "\n",
    "import matplotlib.pyplot as plt\n",
    "import seaborn as sns\n",
    "\n",
    "# from sklearn.svm import NuSVC\n",
    "from sklearn.model_selection import GroupKFold, StratifiedKFold, train_test_split, RepeatedStratifiedKFold\n",
    "from sklearn import metrics\n",
    "\n",
    "import lightgbm as lgb\n",
    "\n",
    "pd.set_option('display.max_columns', 10000)\n",
    "pd.set_option('display.max_rows', 10000)"
   ]
  },
  {
   "cell_type": "code",
   "execution_count": 2,
   "metadata": {},
   "outputs": [],
   "source": [
    "with open('../input/batch_ids_trn.pkl', 'rb') as f:\n",
    "    batch_id_trn = pickle.load(f)\n",
    "with open('../input/batch_ids_tst.pkl', 'rb') as f:\n",
    "    batch_id_tst = pickle.load(f)"
   ]
  },
  {
   "cell_type": "raw",
   "metadata": {},
   "source": [
    "trn_dat = bp.unpack_ndarray_from_file('../input/trn_dat_v2_w50.bp')\n",
    "trn_lbl = pd.read_pickle('../input/feats_tblr/trn_lbl_orig_v2_all.pkl')['open_channels'].values\n",
    "\n",
    "# tst_dat = bp.unpack_ndarray_from_file('../input/feats_tblr/tst_dat_all_origv2_w500.bp')"
   ]
  },
  {
   "cell_type": "code",
   "execution_count": 3,
   "metadata": {},
   "outputs": [],
   "source": [
    "trn_dat_orig = pd.read_pickle('../input/feats_tblr/trn_dat_orig_v2_all.pkl').drop(columns=['open_channels', 'time', 'batch']).values\n",
    "trn_dat_tblr_w50 = bp.unpack_ndarray_from_file('../input/trn_dat_v2_w100_welch.bp')\n",
    "trn_dat = np.concatenate([trn_dat_orig, trn_dat_tblr_w50], axis=1)\n",
    "# trn_dat = pd.read_pickle('../input/feats_tblr/trn_dat_orig_v2_all.pkl').drop(columns=['open_channels', 'time', 'batch']).values\n",
    "trn_lbl = pd.read_pickle('../input/trn_lbl_orig_v3_all.pkl')['open_channels'].values\n",
    "\n",
    "# tst_dat = bp.unpack_ndarray_from_file('../input/feats_tblr/tst_dat_all_origv2_w500.bp')"
   ]
  },
  {
   "cell_type": "code",
   "execution_count": 4,
   "metadata": {},
   "outputs": [],
   "source": [
    "new_lbl = [str(a) + '_' + str(b) for a, b in zip(trn_lbl.astype('uint32'), np.concatenate([np.ones(500000).astype('uint32') * i for i in range(10)]))]\n",
    "unq_l = np.unique(new_lbl)\n",
    "lbl_map = {str_l: i for str_l, i in zip(unq_l, np.arange(len(unq_l)))}\n",
    "new_lbl = [lbl_map[s] for s in new_lbl]"
   ]
  },
  {
   "cell_type": "raw",
   "metadata": {},
   "source": [
    "trn_dat = np.delete(trn_dat.values, [60], axis=1)"
   ]
  },
  {
   "cell_type": "code",
   "execution_count": 5,
   "metadata": {},
   "outputs": [],
   "source": [
    "kf = StratifiedKFold(n_splits=5, shuffle=True, random_state=42)"
   ]
  },
  {
   "cell_type": "raw",
   "metadata": {},
   "source": [
    "del x_trn, x_vld, y_trn, y_vld\n",
    "gc.collect()"
   ]
  },
  {
   "cell_type": "code",
   "execution_count": 6,
   "metadata": {},
   "outputs": [],
   "source": [
    "for fold, (trn_ndcs, vld_ndcs) in enumerate(kf.split(trn_dat, new_lbl)):\n",
    "    if fold == 0:\n",
    "        x_trn, x_vld = trn_dat[trn_ndcs], trn_dat[vld_ndcs]\n",
    "        y_trn, y_vld = trn_lbl[trn_ndcs], trn_lbl[vld_ndcs]\n",
    "        del trn_dat, trn_lbl\n",
    "        break\n",
    "    #trn_set = lgb.Dataset(x_trn, y_trn)\n",
    "    #vld_set = lgb.Dataset(x_vld, y_vld)"
   ]
  },
  {
   "cell_type": "code",
   "execution_count": 8,
   "metadata": {},
   "outputs": [],
   "source": [
    "params = {\n",
    "    \"boosting\": \"gbdt\",\n",
    "    'objective': 'multiclass',\n",
    "    'random_state': 236,\n",
    "    'num_leaves': 280,\n",
    "    'learning_rate': 0.026623466966581126,\n",
    "    'max_depth': 80,\n",
    "    'reg_alpha': 2.959759088169741, # L1\n",
    "    'reg_lambda': 1.331172832164913, # L2\n",
    "    \"bagging_fraction\": 0.9,\n",
    "    \"bagging_freq\": 9,\n",
    "    'feature_fraction': 0.6867118652742716\n",
    "}"
   ]
  },
  {
   "cell_type": "raw",
   "metadata": {},
   "source": [
    "model = lgb.LGBMClassifier(**params, n_estimators=10000, n_jobs=14)\n",
    "model.fit(X=x_trn, y=y_trn, eval_set=[(x_vld, y_vld)], eval_metric='logloss', verbose=50, early_stopping_rounds=100)"
   ]
  },
  {
   "cell_type": "raw",
   "metadata": {},
   "source": [
    "origv2 + w100 welch\n",
    "Training until validation scores don't improve for 100 rounds\n",
    "[50]\tvalid_0's multi_logloss: 0.460907\n",
    "[100]\tvalid_0's multi_logloss: 0.185102\n",
    "[150]\tvalid_0's multi_logloss: 0.112903\n",
    "[200]\tvalid_0's multi_logloss: 0.0920359\n",
    "[250]\tvalid_0's multi_logloss: 0.0851507\n",
    "[300]\tvalid_0's multi_logloss: 0.0825331"
   ]
  },
  {
   "cell_type": "raw",
   "metadata": {},
   "source": [
    "params = {\n",
    "    \"boosting\": \"gbdt\",\n",
    "    'objective': 'multiclass',\n",
    "    'random_state': 236,\n",
    "    'num_leaves': 280,\n",
    "    'learning_rate': 0.026623466966581126,\n",
    "    'max_depth': 80,\n",
    "    'reg_alpha': 2.959759088169741, # L1\n",
    "    'reg_lambda': 1.331172832164913, # L2\n",
    "    \"bagging_fraction\": 0.9,\n",
    "    \"bagging_freq\": 9,\n",
    "    'feature_fraction': 0.6867118652742716\n",
    "}\n",
    "origv2 w50welch\n",
    "Training until validation scores don't improve for 100 rounds\n",
    "[50]\tvalid_0's multi_logloss: 0.460881\n",
    "[100]\tvalid_0's multi_logloss: 0.185094\n",
    "[150]\tvalid_0's multi_logloss: 0.112888\n",
    "[200]\tvalid_0's multi_logloss: 0.0920091\n",
    "[250]\tvalid_0's multi_logloss: 0.0851484\n",
    "[300]\tvalid_0's multi_logloss: 0.0825326\n",
    "[350]\tvalid_0's multi_logloss: 0.081385\n",
    "[400]\tvalid_0's multi_logloss: 0.0808063\n",
    "[450]\tvalid_0's multi_logloss: 0.0805013\n",
    "[500]\tvalid_0's multi_logloss: 0.0803585\n",
    "[550]\tvalid_0's multi_logloss: 0.0802905\n",
    "[600]\tvalid_0's multi_logloss: 0.0802841\n",
    "[650]\tvalid_0's multi_logloss: 0.080329\n",
    "Early stopping, best iteration is:\n",
    "[576]\tvalid_0's multi_logloss: 0.0802772"
   ]
  },
  {
   "cell_type": "raw",
   "metadata": {},
   "source": [
    "orig v2 new lgbm params (less depth and \"bagging_fraction\": 0.8)\n",
    "Training until validation scores don't improve for 100 rounds\n",
    "[50]\tvalid_0's multi_logloss: 0.460994\n",
    "[100]\tvalid_0's multi_logloss: 0.185128\n",
    "[150]\tvalid_0's multi_logloss: 0.112883"
   ]
  },
  {
   "cell_type": "raw",
   "metadata": {},
   "source": [
    "orig v2 new lgbm params (less depth)\n",
    "Training until validation scores don't improve for 100 rounds\n",
    "[50]\tvalid_0's multi_logloss: 0.460778\n",
    "[100]\tvalid_0's multi_logloss: 0.184972\n",
    "[150]\tvalid_0's multi_logloss: 0.112742\n",
    "[200]\tvalid_0's multi_logloss: 0.0918485"
   ]
  },
  {
   "cell_type": "raw",
   "metadata": {},
   "source": [
    "orig v2\n",
    "Training until validation scores don't improve for 100 rounds\n",
    "[50]\tvalid_0's multi_logloss: 0.460778\n",
    "[100]\tvalid_0's multi_logloss: 0.184981\n",
    "[150]\tvalid_0's multi_logloss: 0.112804\n",
    "[200]\tvalid_0's multi_logloss: 0.0919514"
   ]
  },
  {
   "cell_type": "raw",
   "metadata": {},
   "source": [
    "orig v3 2 all rolling feats plus w50\n",
    "Training until validation scores don't improve for 100 rounds\n",
    "[50]\tvalid_0's multi_logloss: 0.462047\n",
    "[100]\tvalid_0's multi_logloss: 0.185928\n",
    "[150]\tvalid_0's multi_logloss: 0.113668\n",
    "[200]\tvalid_0's multi_logloss: 0.0927343"
   ]
  },
  {
   "cell_type": "raw",
   "metadata": {},
   "source": [
    "orig v3 2 all rolling feats\n",
    "Training until validation scores don't improve for 100 rounds\n",
    "[50]\tvalid_0's multi_logloss: 0.461703\n",
    "[100]\tvalid_0's multi_logloss: 0.185739\n",
    "[150]\tvalid_0's multi_logloss: 0.113506\n",
    "[200]\tvalid_0's multi_logloss: 0.0926383"
   ]
  },
  {
   "cell_type": "raw",
   "metadata": {},
   "source": [
    "orig v3 1 only lag\n",
    "Training until validation scores don't improve for 100 rounds\n",
    "[50]\tvalid_0's multi_logloss: 0.461998\n",
    "[100]\tvalid_0's multi_logloss: 0.186178\n",
    "[150]\tvalid_0's multi_logloss: 0.114065\n",
    "[200]\tvalid_0's multi_logloss: 0.0932242"
   ]
  },
  {
   "cell_type": "raw",
   "metadata": {},
   "source": [
    "orig v3 only lag and no high low pass\n",
    "Training until validation scores don't improve for 100 rounds\n",
    "[50]\tvalid_0's multi_logloss: 0.466438\n",
    "[100]\tvalid_0's multi_logloss: 0.18886\n",
    "[150]\tvalid_0's multi_logloss: 0.11572\n",
    "[200]\tvalid_0's multi_logloss: 0.0944355\n",
    "[250]\tvalid_0's multi_logloss: 0.0874849\n",
    "[300]\tvalid_0's multi_logloss: 0.0848237"
   ]
  },
  {
   "cell_type": "raw",
   "metadata": {},
   "source": [
    "tblr v2\n",
    "Training until validation scores don't improve for 100 rounds\n",
    "[50]\tvalid_0's multi_logloss: 0.802204\n",
    "[100]\tvalid_0's multi_logloss: 0.520343\n",
    "[150]\tvalid_0's multi_logloss: 0.420489\n",
    "[200]\tvalid_0's multi_logloss: 0.375101\n",
    "[250]\tvalid_0's multi_logloss: 0.34823\n",
    "[300]\tvalid_0's multi_logloss: 0.330348\n",
    "[350]\tvalid_0's multi_logloss: 0.317713\n",
    "[400]\tvalid_0's multi_logloss: 0.30813\n",
    "[450]\tvalid_0's multi_logloss: 0.300331\n",
    "[500]\tvalid_0's multi_logloss: 0.293842\n",
    "[550]\tvalid_0's multi_logloss: 0.288588\n",
    "[600]\tvalid_0's multi_logloss: 0.284018\n",
    "[650]\tvalid_0's multi_logloss: 0.280142\n",
    "[700]\tvalid_0's multi_logloss: 0.276803\n",
    "[750]\tvalid_0's multi_logloss: 0.2739\n",
    "[800]\tvalid_0's multi_logloss: 0.271313\n",
    "[850]\tvalid_0's multi_logloss: 0.269063\n",
    "[900]\tvalid_0's multi_logloss: 0.266971\n",
    "[950]\tvalid_0's multi_logloss: 0.265089\n",
    "[1000]\tvalid_0's multi_logloss: 0.263286"
   ]
  },
  {
   "cell_type": "raw",
   "metadata": {},
   "source": [
    "origv2 + w500\n",
    "Training until validation scores don't improve for 100 rounds\n",
    "[50]\tvalid_0's multi_logloss: 0.460764\n",
    "[100]\tvalid_0's multi_logloss: 0.185012\n",
    "[150]\tvalid_0's multi_logloss: 0.112826\n",
    "[200]\tvalid_0's multi_logloss: 0.0919992\n",
    "[250]\tvalid_0's multi_logloss: 0.0851553\n",
    "[300]\tvalid_0's multi_logloss: 0.0825234\n",
    "[350]\tvalid_0's multi_logloss: 0.0813875\n",
    "[400]\tvalid_0's multi_logloss: 0.080823\n",
    "[450]\tvalid_0's multi_logloss: 0.080564\n",
    "[500]\tvalid_0's multi_logloss: 0.0804573\n",
    "[550]\tvalid_0's multi_logloss: 0.0804388\n",
    "[600]\tvalid_0's multi_logloss: 0.08047\n",
    "Early stopping, best iteration is:\n",
    "[535]\tvalid_0's multi_logloss: 0.0804349"
   ]
  },
  {
   "cell_type": "code",
   "execution_count": 9,
   "metadata": {},
   "outputs": [
    {
     "data": {
      "text/plain": [
       "['./saved_models/lgbm_cls_feats_origv2_w50welch_fld0.pkl']"
      ]
     },
     "execution_count": 9,
     "metadata": {},
     "output_type": "execute_result"
    }
   ],
   "source": [
    "joblib.dump(model, './saved_models/lgbm_cls_feats_origv2_w50welch_fld{:d}.pkl'.format(fold))"
   ]
  },
  {
   "cell_type": "raw",
   "metadata": {},
   "source": [
    "# model = lgb.train(params, trn_set, num_boost_round=10000, early_stopping_rounds=100, valid_sets=[vld_set], verbose_eval=50)\n",
    "model = lgb.LGBMRegressor(**params, n_estimators=10000, n_jobs=12)\n",
    "model.fit(X=g4_feats, y=g4_lbls, eval_set=[(g9_feats, g9_lbls)], eval_metric='rmse', verbose=50, early_stopping_rounds=100)"
   ]
  },
  {
   "cell_type": "raw",
   "metadata": {},
   "source": [
    "(0, 1), (2, 6), (3, 7), (5, 8), (4, 9)"
   ]
  },
  {
   "cell_type": "code",
   "execution_count": 10,
   "metadata": {},
   "outputs": [
    {
     "name": "stdout",
     "output_type": "stream",
     "text": [
      "0.9393882454417888\n"
     ]
    }
   ],
   "source": [
    "vld_pred = model.predict(x_vld, num_iteration=model.best_iteration_)\n",
    "vld_pred = np.round(np.clip(vld_pred, 0, 10)).astype(int)\n",
    "f1 = metrics.f1_score(y_vld.astype(int), vld_pred.astype(int), average = 'macro')\n",
    "print(f1)"
   ]
  },
  {
   "cell_type": "code",
   "execution_count": 20,
   "metadata": {},
   "outputs": [],
   "source": [
    "vld_pred = model.predict_proba(x_vld, num_iteration=model.best_iteration_)"
   ]
  },
  {
   "cell_type": "code",
   "execution_count": 21,
   "metadata": {},
   "outputs": [
    {
     "data": {
      "text/plain": [
       "(1000000, 11)"
      ]
     },
     "execution_count": 21,
     "metadata": {},
     "output_type": "execute_result"
    }
   ],
   "source": [
    "vld_pred.shape"
   ]
  },
  {
   "cell_type": "code",
   "execution_count": 22,
   "metadata": {},
   "outputs": [],
   "source": [
    "test_load = joblib.load('./saved_models/lgbm_cls_feats_origv2_myw500_fld{:d}.pkl'.format(fold))"
   ]
  },
  {
   "cell_type": "code",
   "execution_count": 23,
   "metadata": {},
   "outputs": [
    {
     "data": {
      "text/plain": [
       "['_Booster',\n",
       " '__class__',\n",
       " '__delattr__',\n",
       " '__dict__',\n",
       " '__dir__',\n",
       " '__doc__',\n",
       " '__eq__',\n",
       " '__format__',\n",
       " '__ge__',\n",
       " '__getattribute__',\n",
       " '__getstate__',\n",
       " '__gt__',\n",
       " '__hash__',\n",
       " '__init__',\n",
       " '__init_subclass__',\n",
       " '__le__',\n",
       " '__lt__',\n",
       " '__module__',\n",
       " '__ne__',\n",
       " '__new__',\n",
       " '__reduce__',\n",
       " '__reduce_ex__',\n",
       " '__repr__',\n",
       " '__setattr__',\n",
       " '__setstate__',\n",
       " '__sizeof__',\n",
       " '__str__',\n",
       " '__subclasshook__',\n",
       " '__weakref__',\n",
       " '_best_iteration',\n",
       " '_best_score',\n",
       " '_class_map',\n",
       " '_class_weight',\n",
       " '_classes',\n",
       " '_estimator_type',\n",
       " '_evals_result',\n",
       " '_fobj',\n",
       " '_get_param_names',\n",
       " '_get_tags',\n",
       " '_le',\n",
       " '_more_tags',\n",
       " '_n_classes',\n",
       " '_n_features',\n",
       " '_objective',\n",
       " '_other_params',\n",
       " 'bagging_fraction',\n",
       " 'bagging_freq',\n",
       " 'best_iteration_',\n",
       " 'best_score_',\n",
       " 'booster_',\n",
       " 'boosting',\n",
       " 'boosting_type',\n",
       " 'class_weight',\n",
       " 'classes_',\n",
       " 'colsample_bytree',\n",
       " 'evals_result_',\n",
       " 'feature_importances_',\n",
       " 'fit',\n",
       " 'get_params',\n",
       " 'importance_type',\n",
       " 'learning_rate',\n",
       " 'max_depth',\n",
       " 'min_child_samples',\n",
       " 'min_child_weight',\n",
       " 'min_split_gain',\n",
       " 'n_classes_',\n",
       " 'n_estimators',\n",
       " 'n_features_',\n",
       " 'n_jobs',\n",
       " 'num_leaves',\n",
       " 'objective',\n",
       " 'objective_',\n",
       " 'predict',\n",
       " 'predict_proba',\n",
       " 'random_state',\n",
       " 'reg_alpha',\n",
       " 'reg_lambda',\n",
       " 'score',\n",
       " 'set_params',\n",
       " 'silent',\n",
       " 'subsample',\n",
       " 'subsample_for_bin',\n",
       " 'subsample_freq']"
      ]
     },
     "execution_count": 23,
     "metadata": {},
     "output_type": "execute_result"
    }
   ],
   "source": [
    "dir(test_load)"
   ]
  },
  {
   "cell_type": "raw",
   "metadata": {},
   "source": [
    "0.9394773018394715 (fold 4)\n",
    "0.9398062450421517 (fold 3)\n",
    "0.9389817088297328 (fold 2)\n",
    "0.9400120535887915 (fold 1)\n",
    "0.9397329561928668 (w500 fold 0)\n",
    "0.9394258281037108 (fold 4)\n",
    "0.9397230231477983 (fold 3)\n",
    "0.939092208213562 (fold 2)\n",
    "0.9401629671471444 (fold 1)\n",
    "0.9398285315646574\n",
    "0.9396419066068368\n",
    "0.9394454786488392\n",
    "0.934983763304277"
   ]
  },
  {
   "cell_type": "code",
   "execution_count": 14,
   "metadata": {},
   "outputs": [],
   "source": [
    "del x_trn, x_vld, y_trn, y_vld"
   ]
  },
  {
   "cell_type": "code",
   "execution_count": 17,
   "metadata": {},
   "outputs": [],
   "source": [
    "# g0_dat, g0_lbl = dat[batch_id_trn[0]], lbl[batch_id_trn[0]]\n",
    "del g0_dat, g0_lbl"
   ]
  },
  {
   "cell_type": "code",
   "execution_count": 16,
   "metadata": {},
   "outputs": [
    {
     "name": "stdout",
     "output_type": "stream",
     "text": [
      "0.6651485865682973\n"
     ]
    }
   ],
   "source": [
    "vld_pred_g0= model.predict(g0_dat, num_iteration=model.best_iteration_)\n",
    "vld_pred_g0 = np.round(np.clip(vld_pred_g0, 0, 10)).astype(int)\n",
    "f1_g0 = metrics.f1_score(g0_lbl.astype(int), vld_pred_g0, average = 'macro')\n",
    "print(f1_g0)"
   ]
  },
  {
   "cell_type": "raw",
   "metadata": {},
   "source": [
    "0.6651485865682973 (fold 1)\n",
    "0.6651058880453884\n",
    "0.9968903682469297\n",
    "0.6649385280200172\n",
    "-"
   ]
  },
  {
   "cell_type": "code",
   "execution_count": 20,
   "metadata": {},
   "outputs": [],
   "source": [
    "# g1_dat, g1_lbl = dat[batch_id_trn[1]], lbl[batch_id_trn[1]]\n",
    "del g1_dat, g1_lbl"
   ]
  },
  {
   "cell_type": "code",
   "execution_count": 19,
   "metadata": {},
   "outputs": [
    {
     "name": "stdout",
     "output_type": "stream",
     "text": [
      "0.9970837314032912\n"
     ]
    }
   ],
   "source": [
    "vld_pred_g1= model.predict(g1_dat, num_iteration=model.best_iteration_)\n",
    "vld_pred_g1 = np.round(np.clip(vld_pred_g1, 0, 10)).astype(int)\n",
    "f1_g1 = metrics.f1_score(g1_lbl.astype(int), vld_pred_g1, average = 'macro')\n",
    "print(f1_g1)"
   ]
  },
  {
   "cell_type": "raw",
   "metadata": {},
   "source": [
    "0.9970837314032912 (fold 1)\n",
    "0.9970572911803073\n",
    "0.9968424553280641\n",
    "0.9968829962401913\n",
    "-"
   ]
  },
  {
   "cell_type": "code",
   "execution_count": 23,
   "metadata": {},
   "outputs": [],
   "source": [
    "# g2_dat, g2_lbl = dat[batch_id_trn[2]], lbl[batch_id_trn[2]]\n",
    "del g2_dat, g2_lbl"
   ]
  },
  {
   "cell_type": "code",
   "execution_count": 22,
   "metadata": {},
   "outputs": [
    {
     "name": "stdout",
     "output_type": "stream",
     "text": [
      "0.6647289234525314\n"
     ]
    }
   ],
   "source": [
    "vld_pred_g2= model.predict(g2_dat, num_iteration=model.best_iteration_)\n",
    "vld_pred_g2 = np.round(np.clip(vld_pred_g2, 0, 10)).astype(int)\n",
    "f1_g2 = metrics.f1_score(g2_lbl.astype(int), vld_pred_g2, average = 'macro')\n",
    "print(f1_g2)"
   ]
  },
  {
   "cell_type": "raw",
   "metadata": {},
   "source": [
    "0.6647289234525314 (fold 1)\n",
    "0.9970930059707095\n",
    "0.6646538107371066\n",
    "0.9969891438044296\n",
    "0.6647126573075317"
   ]
  },
  {
   "cell_type": "code",
   "execution_count": 26,
   "metadata": {},
   "outputs": [],
   "source": [
    "# g3_dat, g3_lbl = dat[batch_id_trn[3]], lbl[batch_id_trn[3]]\n",
    "del g3_dat, g3_lbl"
   ]
  },
  {
   "cell_type": "code",
   "execution_count": 25,
   "metadata": {},
   "outputs": [
    {
     "name": "stdout",
     "output_type": "stream",
     "text": [
      "0.7901239867368004\n"
     ]
    }
   ],
   "source": [
    "vld_pred_g3= model.predict(g3_dat, num_iteration=model.best_iteration_)\n",
    "vld_pred_g3 = np.round(np.clip(vld_pred_g3, 0, 10)).astype(int)\n",
    "f1_g3 = metrics.f1_score(g3_lbl.astype(int), vld_pred_g3, average = 'macro')\n",
    "print(f1_g3)"
   ]
  },
  {
   "cell_type": "raw",
   "metadata": {},
   "source": [
    "0.7901239867368004 (fold 1)\n",
    "0.790023307266011\n",
    "0.9868084651120028\n",
    "0.9870350237200967\n",
    "0.986656035463432"
   ]
  },
  {
   "cell_type": "code",
   "execution_count": 29,
   "metadata": {},
   "outputs": [],
   "source": [
    "# g4_dat, g4_lbl = dat[batch_id_trn[4]], lbl[batch_id_trn[4]]\n",
    "del g4_dat, g4_lbl"
   ]
  },
  {
   "cell_type": "code",
   "execution_count": 28,
   "metadata": {},
   "outputs": [
    {
     "name": "stdout",
     "output_type": "stream",
     "text": [
      "0.8373076786675838\n"
     ]
    }
   ],
   "source": [
    "vld_pred_g4= model.predict(g4_dat, num_iteration=model.best_iteration_)\n",
    "vld_pred_g4 = np.round(np.clip(vld_pred_g4, 0, 10)).astype(int)\n",
    "f1_g4 = metrics.f1_score(g4_lbl.astype(int), vld_pred_g4, average = 'macro')\n",
    "print(f1_g4)"
   ]
  },
  {
   "cell_type": "raw",
   "metadata": {},
   "source": [
    "0.8373076786675838 (fold 1)\n",
    "0.836381171231377\n",
    "0.8212875579648767\n",
    "0.8260337236356086\n",
    "0.8942446664286391"
   ]
  },
  {
   "cell_type": "code",
   "execution_count": 32,
   "metadata": {},
   "outputs": [],
   "source": [
    "# g5_dat, g5_lbl = dat[batch_id_trn[5]], lbl[batch_id_trn[5]]\n",
    "del g5_dat, g5_lbl"
   ]
  },
  {
   "cell_type": "code",
   "execution_count": 31,
   "metadata": {},
   "outputs": [
    {
     "name": "stdout",
     "output_type": "stream",
     "text": [
      "0.9749530604325839\n"
     ]
    }
   ],
   "source": [
    "vld_pred_g5= model.predict(g5_dat, num_iteration=model.best_iteration_)\n",
    "vld_pred_g5 = np.round(np.clip(vld_pred_g5, 0, 10)).astype(int)\n",
    "f1_g5 = metrics.f1_score(g5_lbl.astype(int), vld_pred_g5, average = 'macro')\n",
    "print(f1_g5)"
   ]
  },
  {
   "cell_type": "raw",
   "metadata": {},
   "source": [
    "0.9749530604325839 (fold 1)\n",
    "0.9744358048889571\n",
    "0.9736932581052553\n",
    "0.973730327589147\n",
    "0.9732927691543368"
   ]
  },
  {
   "cell_type": "code",
   "execution_count": 35,
   "metadata": {},
   "outputs": [],
   "source": [
    "# g6_dat, g6_lbl = dat[batch_id_trn[6]], lbl[batch_id_trn[6]]\n",
    "del g6_dat, g6_lbl"
   ]
  },
  {
   "cell_type": "code",
   "execution_count": 34,
   "metadata": {},
   "outputs": [
    {
     "name": "stdout",
     "output_type": "stream",
     "text": [
      "0.6646614145124898\n"
     ]
    }
   ],
   "source": [
    "vld_pred_g6= model.predict(g6_dat, num_iteration=model.best_iteration_)\n",
    "vld_pred_g6 = np.round(np.clip(vld_pred_g6, 0, 10)).astype(int)\n",
    "f1_g6 = metrics.f1_score(g6_lbl.astype(int), vld_pred_g6, average = 'macro')\n",
    "print(f1_g6)"
   ]
  },
  {
   "cell_type": "raw",
   "metadata": {},
   "source": [
    "0.6646614145124898 (fold 1)\n",
    "0.9970213174417375\n",
    "0.9966063601403695\n",
    "0.6645403771422551\n",
    "0.6646888239380492"
   ]
  },
  {
   "cell_type": "code",
   "execution_count": 38,
   "metadata": {},
   "outputs": [],
   "source": [
    "# g7_dat, g7_lbl = dat[batch_id_trn[7]], lbl[batch_id_trn[7]]\n",
    "del g7_dat, g7_lbl"
   ]
  },
  {
   "cell_type": "code",
   "execution_count": 37,
   "metadata": {},
   "outputs": [
    {
     "name": "stdout",
     "output_type": "stream",
     "text": [
      "0.779383838259999\n"
     ]
    }
   ],
   "source": [
    "vld_pred_g7 = model.predict(g7_dat, num_iteration=model.best_iteration_)\n",
    "vld_pred_g7 = np.round(np.clip(vld_pred_g7, 0, 10)).astype(int)\n",
    "f1_g7 = metrics.f1_score(g7_lbl.astype(int), vld_pred_g7, average = 'macro')\n",
    "print(f1_g7)"
   ]
  },
  {
   "cell_type": "raw",
   "metadata": {},
   "source": [
    "0.779383838259999 (fold 1)\n",
    "0.974272340959383\n",
    "0.7780210018430778\n",
    "0.9726543249924238\n",
    "0.9729210756681197"
   ]
  },
  {
   "cell_type": "code",
   "execution_count": 41,
   "metadata": {},
   "outputs": [],
   "source": [
    "# g8_dat, g8_lbl = dat[batch_id_trn[8]], lbl[batch_id_trn[8]]\n",
    "del g8_dat, g8_lbl"
   ]
  },
  {
   "cell_type": "code",
   "execution_count": 40,
   "metadata": {},
   "outputs": [
    {
     "name": "stdout",
     "output_type": "stream",
     "text": [
      "0.9750107890468044\n"
     ]
    }
   ],
   "source": [
    "vld_pred_g8 = model.predict(g8_dat, num_iteration=model.best_iteration_)\n",
    "vld_pred_g8 = np.round(np.clip(vld_pred_g8, 0, 10)).astype(int)\n",
    "f1_g8 = metrics.f1_score(g8_lbl.astype(int), vld_pred_g8, average = 'macro')\n",
    "print(f1_g8)"
   ]
  },
  {
   "cell_type": "raw",
   "metadata": {},
   "source": [
    "0.9750107890468044 (fold 1)\n",
    "0.9749613307501521\n",
    "0.9749084848835565\n",
    "0.9737512339455049\n",
    "0.9756024481983628"
   ]
  },
  {
   "cell_type": "code",
   "execution_count": 42,
   "metadata": {},
   "outputs": [],
   "source": [
    "g9_dat, g9_lbl = dat[batch_id_trn[9]], lbl[batch_id_trn[9]]\n",
    "# del g9_dat, g9_lbl"
   ]
  },
  {
   "cell_type": "code",
   "execution_count": 43,
   "metadata": {},
   "outputs": [
    {
     "name": "stdout",
     "output_type": "stream",
     "text": [
      "0.9159880733912752\n"
     ]
    }
   ],
   "source": [
    "vld_pred_g9 = model.predict(g9_dat, num_iteration=model.best_iteration_)\n",
    "vld_pred_g9 = np.round(np.clip(vld_pred_g9, 0, 10)).astype(int)\n",
    "f1_g9 = metrics.f1_score(g9_lbl.astype(int), vld_pred_g9, average = 'macro')\n",
    "print(f1_g9)"
   ]
  },
  {
   "cell_type": "raw",
   "metadata": {},
   "source": [
    "0.9159880733912752 (fold 1)\n",
    "0.9157437281095564\n",
    "0.8977718030245324\n",
    "0.9068700614535483\n",
    "0.9147493146748186"
   ]
  },
  {
   "cell_type": "markdown",
   "metadata": {},
   "source": [
    "### inference for submission"
   ]
  },
  {
   "cell_type": "code",
   "execution_count": 6,
   "metadata": {},
   "outputs": [
    {
     "data": {
      "text/plain": [
       "['tst_dat_all_w500.bp']"
      ]
     },
     "execution_count": 6,
     "metadata": {},
     "output_type": "execute_result"
    }
   ],
   "source": [
    "tst_fs_w500"
   ]
  },
  {
   "cell_type": "code",
   "execution_count": 7,
   "metadata": {},
   "outputs": [],
   "source": [
    "# tst_fs_w500 = sorted([f for f in os.listdir('../input/feats_tblr') if ('tst_dat' in f) and ('w500' in f)])\n",
    "# tst_fs_w500 = [tst_fs_w500[i] for i in [0, 11, 12, 13, 14, 15, 16, 17, 18, 19]] + tst_fs_w500[1:11]\n",
    "# tst_fs_w500 = np.concatenate(\n",
    "#     [\n",
    "#         bp.unpack_ndarray_from_file(os.path.join('../input/feats_tblr', f)) for f in tst_fs_w500\n",
    "#     ],\n",
    "#     0\n",
    "# )\n",
    "\n",
    "tst_fs_w500 = bp.unpack_ndarray_from_file(os.path.join('../input/feats_tblr/', 'tst_dat_all_w500.bp'))\n",
    "\n",
    "tst_dat_orig = pd.read_pickle(os.path.join('../input/feats_tblr', 'tst_dat_orig_v2_all.pkl'))\n",
    "tst_dat_orig = tst_dat_orig.loc[:, [c for c in tst_dat_orig.columns if c not in ('time', 'batch', 'open_channels')]]\n",
    "\n",
    "tst_dat = np.concatenate([tst_dat_orig, tst_fs_w500], axis=1)"
   ]
  },
  {
   "cell_type": "code",
   "execution_count": 8,
   "metadata": {},
   "outputs": [],
   "source": [
    "submission = pd.read_csv('../input/sample_submission.csv', dtype={'time': str, 'open_channels': 'Int64'})"
   ]
  },
  {
   "cell_type": "code",
   "execution_count": 9,
   "metadata": {},
   "outputs": [],
   "source": [
    "for fld in range(5):\n",
    "    mdl = joblib.load('./saved_models/lgbm_feats_origv2_myw500_fld{:d}.pkl'.format(fld))\n",
    "    if fld == 0:\n",
    "        predictions = mdl.predict(tst_dat, num_iteration=mdl.best_iteration_)\n",
    "    else:\n",
    "        predictions += mdl.predict(tst_dat, num_iteration=mdl.best_iteration_)"
   ]
  },
  {
   "cell_type": "code",
   "execution_count": 11,
   "metadata": {},
   "outputs": [
    {
     "data": {
      "text/plain": [
       "50.47457739798004"
      ]
     },
     "execution_count": 11,
     "metadata": {},
     "output_type": "execute_result"
    }
   ],
   "source": [
    "predictions.max()"
   ]
  },
  {
   "cell_type": "code",
   "execution_count": 12,
   "metadata": {},
   "outputs": [],
   "source": [
    "predictions_sub = np.round(np.clip(predictions / 5, 0, 10)).astype(int)"
   ]
  },
  {
   "cell_type": "code",
   "execution_count": 13,
   "metadata": {},
   "outputs": [],
   "source": [
    "submission['open_channels'] = predictions_sub"
   ]
  },
  {
   "cell_type": "code",
   "execution_count": 14,
   "metadata": {},
   "outputs": [],
   "source": [
    "submission.to_csv(\"../submissions/sub_lgbm_origv2_w500feats_cvbygroupandclass.csv\", index=False)"
   ]
  }
 ],
 "metadata": {
  "kernelspec": {
   "display_name": "Python 3",
   "language": "python",
   "name": "python3"
  },
  "language_info": {
   "codemirror_mode": {
    "name": "ipython",
    "version": 3
   },
   "file_extension": ".py",
   "mimetype": "text/x-python",
   "name": "python",
   "nbconvert_exporter": "python",
   "pygments_lexer": "ipython3",
   "version": "3.7.6"
  }
 },
 "nbformat": 4,
 "nbformat_minor": 4
}
