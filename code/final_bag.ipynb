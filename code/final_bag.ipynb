{
 "cells": [
  {
   "cell_type": "code",
   "execution_count": 1,
   "metadata": {},
   "outputs": [],
   "source": [
    "import pandas as pd\n",
    "import numpy as np\n",
    "\n",
    "import bloscpack as bp"
   ]
  },
  {
   "cell_type": "code",
   "execution_count": 2,
   "metadata": {},
   "outputs": [],
   "source": [
    "submission = pd.read_csv('../input/sample_submission.csv', dtype={'time': str, 'open_channels': 'Int64'})"
   ]
  },
  {
   "cell_type": "code",
   "execution_count": 3,
   "metadata": {},
   "outputs": [],
   "source": [
    "lgb_preds = np.load('../input/lgbm_test_predictions.npy')"
   ]
  },
  {
   "cell_type": "code",
   "execution_count": 4,
   "metadata": {},
   "outputs": [],
   "source": [
    "nn_preds = np.load('../input/nn_test_predictions_softmax.npy')"
   ]
  },
  {
   "cell_type": "code",
   "execution_count": 5,
   "metadata": {},
   "outputs": [
    {
     "data": {
      "text/plain": [
       "(268268,)"
      ]
     },
     "execution_count": 5,
     "metadata": {},
     "output_type": "execute_result"
    }
   ],
   "source": [
    "nn_preds[(nn_preds > .05) & (nn_preds < .95)].shape"
   ]
  },
  {
   "cell_type": "code",
   "execution_count": 5,
   "metadata": {},
   "outputs": [
    {
     "data": {
      "text/plain": [
       "(270397,)"
      ]
     },
     "execution_count": 5,
     "metadata": {},
     "output_type": "execute_result"
    }
   ],
   "source": [
    "nn_preds[(nn_preds > .05) & (nn_preds < .95)].shape"
   ]
  },
  {
   "cell_type": "code",
   "execution_count": 7,
   "metadata": {},
   "outputs": [],
   "source": [
    "a = nn_preds + lgb_preds\n",
    "a = a / 2"
   ]
  },
  {
   "cell_type": "code",
   "execution_count": 8,
   "metadata": {},
   "outputs": [
    {
     "data": {
      "text/plain": [
       "array([[9.99946397e-01, 2.04861059e-05, 5.40028766e-06, ...,\n",
       "        5.31494138e-06, 3.16369621e-06, 3.09271153e-06],\n",
       "       [9.99982391e-01, 4.35134764e-06, 1.88273095e-06, ...,\n",
       "        2.24517955e-06, 1.84171146e-06, 1.44403115e-06],\n",
       "       [9.99989617e-01, 3.05625578e-06, 1.21603254e-06, ...,\n",
       "        1.08926272e-06, 9.75734426e-07, 8.27922544e-07],\n",
       "       ...,\n",
       "       [9.99990688e-01, 1.65031344e-06, 8.15630659e-07, ...,\n",
       "        1.21742657e-06, 1.26885874e-06, 1.42521710e-06],\n",
       "       [9.99984242e-01, 2.16891008e-06, 1.42385287e-06, ...,\n",
       "        2.53793268e-06, 2.65046438e-06, 2.22582663e-06],\n",
       "       [9.99954039e-01, 9.88751167e-06, 3.50260695e-06, ...,\n",
       "        6.92473431e-06, 4.75377235e-06, 3.89795313e-06]])"
      ]
     },
     "execution_count": 8,
     "metadata": {},
     "output_type": "execute_result"
    }
   ],
   "source": [
    "a"
   ]
  },
  {
   "cell_type": "code",
   "execution_count": 9,
   "metadata": {},
   "outputs": [],
   "source": [
    "submission['open_channels'] = (nn_preds + lgb_preds).argmax(1)\n",
    "submission.to_csv(\"../submissions/sub_fullbag_36lgb_111nn_softmax.csv\", index=False)"
   ]
  }
 ],
 "metadata": {
  "kernelspec": {
   "display_name": "Python 3",
   "language": "python",
   "name": "python3"
  },
  "language_info": {
   "codemirror_mode": {
    "name": "ipython",
    "version": 3
   },
   "file_extension": ".py",
   "mimetype": "text/x-python",
   "name": "python",
   "nbconvert_exporter": "python",
   "pygments_lexer": "ipython3",
   "version": "3.7.6"
  }
 },
 "nbformat": 4,
 "nbformat_minor": 4
}
